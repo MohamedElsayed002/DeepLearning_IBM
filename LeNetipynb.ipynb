{
  "nbformat": 4,
  "nbformat_minor": 0,
  "metadata": {
    "colab": {
      "provenance": [],
      "authorship_tag": "ABX9TyMXuWasyZ2IkElTik9JneyH",
      "include_colab_link": true
    },
    "kernelspec": {
      "name": "python3",
      "display_name": "Python 3"
    },
    "language_info": {
      "name": "python"
    }
  },
  "cells": [
    {
      "cell_type": "markdown",
      "metadata": {
        "id": "view-in-github",
        "colab_type": "text"
      },
      "source": [
        "<a href=\"https://colab.research.google.com/github/MohamedElsayed002/DeepLearning_IBM/blob/master/LeNetipynb.ipynb\" target=\"_parent\"><img src=\"https://colab.research.google.com/assets/colab-badge.svg\" alt=\"Open In Colab\"/></a>"
      ]
    },
    {
      "cell_type": "code",
      "execution_count": 11,
      "metadata": {
        "id": "ruIdjaQYcF4J"
      },
      "outputs": [],
      "source": [
        "import numpy as np\n",
        "import tensorflow as tf\n",
        "import matplotlib.pyplot as plt\n"
      ]
    },
    {
      "cell_type": "code",
      "source": [
        "mnist = tf.keras.datasets.mnist\n",
        "(x_train, y_train), (x_test, y_test) = mnist.load_data()"
      ],
      "metadata": {
        "id": "4GVpMzawcRqt"
      },
      "execution_count": 12,
      "outputs": []
    },
    {
      "cell_type": "code",
      "source": [
        "plt.imshow(x_train[0])"
      ],
      "metadata": {
        "colab": {
          "base_uri": "https://localhost:8080/",
          "height": 447
        },
        "id": "0twkcHmkcfZo",
        "outputId": "133fc3b3-3c1e-4284-c33a-fb182419efd7"
      },
      "execution_count": 13,
      "outputs": [
        {
          "output_type": "execute_result",
          "data": {
            "text/plain": [
              "<matplotlib.image.AxesImage at 0x798c3cdd05b0>"
            ]
          },
          "metadata": {},
          "execution_count": 13
        },
        {
          "output_type": "display_data",
          "data": {
            "text/plain": [
              "<Figure size 640x480 with 1 Axes>"
            ],
            "image/png": "[encoded data removed]"
          },
          "metadata": {}
        }
      ]
    },
    {
      "cell_type": "code",
      "source": [
        "rows , cols = 28 , 28\n",
        "\n",
        "# Reshape the data into a 4D Array\n",
        "\n",
        "x_train = x_train.reshape(x_train.shape[0],rows,cols,1)\n",
        "x_test = x_test.reshape(x_test.shape[0],rows,cols,1)\n",
        "\n",
        "input_shape = (rows,cols,1)\n",
        "\n",
        "# set types as float32 and normalize the values to [0,1]\n",
        "\n",
        "x_train = x_train.astype('float32')\n",
        "x_test = x_test.astype('float32')\n",
        "x_train = x_train / 255.0\n",
        "x_test = x_test / 255.0\n",
        "\n",
        "# Transform labels to one hot encoding\n",
        "y_train = tf.keras.utils.to_categorical(y_train,10)\n",
        "y_test = tf.keras.utils.to_categorical(y_test,10)"
      ],
      "metadata": {
        "id": "KX4qx2NjcmiZ"
      },
      "execution_count": 14,
      "outputs": []
    },
    {
      "cell_type": "markdown",
      "source": [
        "# Define LeNet-5 Model\n",
        "\n",
        "Create a new instance of a model object using Sequential model API. then add layers to the neural networks as per the LeNet-5 architecture discussed eariler. Finally, compile the model with 'categorical_crossentropy' loss function and 'SGD' cost optimization algorithm. When compiling the model add metrics=['accuracy'] as one of the parameters to calculate the accuracy of the model.\n",
        "\n",
        "Its important to highlight that each image in the MNIST data set has a size of 28 X 28 pixels so we will use the same dimensions for LeNet-5 input instead of 32x32 pixels"
      ],
      "metadata": {
        "id": "2IeOw-mslQil"
      }
    },
    {
      "cell_type": "code",
      "source": [
        "def build_lenet(input_shape):\n",
        "\n",
        "  model = tf.keras.Sequential()\n",
        "\n",
        "  # C1 Convolution Layer\n",
        "  model.add(tf.keras.layers.Conv2D(filters=6, strides=(1,1), kernel_size=(5,5), activation='relu', input_shape=input_shape))\n",
        "  # S2 Subsampling Layer\n",
        "  model.add(tf.keras.layers.MaxPool2D(pool_size=(2,2),strides=(2,2))) # Correct the typo here: 'stides' -> 'strides'\n",
        "\n",
        "  # C3 Convolution Layer\n",
        "  model.add(tf.keras.layers.Conv2D(filters=6, strides=(1,1), kernel_size=(5,5), activation='relu'))\n",
        "\n",
        "  model.add(tf.keras.layers.MaxPool2D(pool_size=(2,2),strides=(2,2))) # And here\n",
        "\n",
        "  # C5 Fully Connected Layer\n",
        "  model.add(tf.keras.layers.Dense(units=120,activation='relu'))\n",
        "\n",
        "  # Flatten the output so that we can connect it with the fully connected layers\n",
        "  model.add(tf.keras.layers.Flatten())\n",
        "\n",
        "  # FC6 Funlly Connected Layers\n",
        "  model.add(tf.keras.layers.Dense(units=84,activation='relu'))\n",
        "\n",
        "  # FC7 Output Layer\n",
        "  model.add(tf.keras.layers.Dense(units=10,activation='softmax'))\n",
        "\n",
        "\n",
        "  # Compile the model\n",
        "  # Use the legacy optimizer or remove the decay argument\n",
        "  model.compile(loss='categorical_crossentropy',\n",
        "                optimizer=tf.keras.optimizers.legacy.SGD(lr=0.1, momentum=0.0, decay=0.0),\n",
        "                metrics=['accuracy'])\n",
        "\n",
        "\n",
        "  return model"
      ],
      "metadata": {
        "id": "vbwKx1H1erES"
      },
      "execution_count": 22,
      "outputs": []
    },
    {
      "cell_type": "code",
      "source": [
        "lenet = build_lenet(input_shape)\n",
        "\n",
        "# We will be allowing 10 itterations to happen\n",
        "\n",
        "epochs = 10\n",
        "history = lenet.fit(x_train, y_train, epochs=epochs,batch_size=128, verbose=1)\n"
      ],
      "metadata": {
        "colab": {
          "base_uri": "https://localhost:8080/"
        },
        "id": "MvKNDHWunRPP",
        "outputId": "1a388f12-54c9-4438-fc07-d94a2d2d3c8d"
      },
      "execution_count": 23,
      "outputs": [
        {
          "output_type": "stream",
          "name": "stderr",
          "text": [
            "/usr/local/lib/python3.10/dist-packages/keras/src/optimizers/legacy/gradient_descent.py:114: UserWarning: The `lr` argument is deprecated, use `learning_rate` instead.\n",
            "  super().__init__(name, **kwargs)\n"
          ]
        },
        {
          "output_type": "stream",
          "name": "stdout",
          "text": [
            "Epoch 1/10\n",
            "469/469 [==============================] - 23s 46ms/step - loss: 0.4064 - accuracy: 0.8738\n",
            "Epoch 2/10\n",
            "469/469 [==============================] - 20s 43ms/step - loss: 0.1167 - accuracy: 0.9646\n",
            "Epoch 3/10\n",
            "469/469 [==============================] - 22s 47ms/step - loss: 0.0818 - accuracy: 0.9743\n",
            "Epoch 4/10\n",
            "469/469 [==============================] - 21s 44ms/step - loss: 0.0666 - accuracy: 0.9791\n",
            "Epoch 5/10\n",
            "469/469 [==============================] - 21s 45ms/step - loss: 0.0545 - accuracy: 0.9827\n",
            "Epoch 6/10\n",
            "469/469 [==============================] - 21s 46ms/step - loss: 0.0474 - accuracy: 0.9853\n",
            "Epoch 7/10\n",
            "469/469 [==============================] - 20s 43ms/step - loss: 0.0407 - accuracy: 0.9870\n",
            "Epoch 8/10\n",
            "469/469 [==============================] - 21s 46ms/step - loss: 0.0352 - accuracy: 0.9893\n",
            "Epoch 9/10\n",
            "469/469 [==============================] - 20s 43ms/step - loss: 0.0315 - accuracy: 0.9898\n",
            "Epoch 10/10\n",
            "469/469 [==============================] - 22s 46ms/step - loss: 0.0285 - accuracy: 0.9914\n"
          ]
        }
      ]
    },
    {
      "cell_type": "code",
      "source": [
        "lenet.summary()"
      ],
      "metadata": {
        "colab": {
          "base_uri": "https://localhost:8080/"
        },
        "id": "e7QlAwxfnjPr",
        "outputId": "1569576c-f10f-44ac-dc8b-39c4b9d526fa"
      },
      "execution_count": 24,
      "outputs": [
        {
          "output_type": "stream",
          "name": "stdout",
          "text": [
            "Model: \"sequential_5\"\n",
            "_________________________________________________________________\n",
            " Layer (type)                Output Shape              Param #   \n",
            "=================================================================\n",
            " conv2d_6 (Conv2D)           (None, 24, 24, 6)         156       \n",
            "                                                                 \n",
            " max_pooling2d_2 (MaxPoolin  (None, 12, 12, 6)         0         \n",
            " g2D)                                                            \n",
            "                                                                 \n",
            " conv2d_7 (Conv2D)           (None, 8, 8, 6)           906       \n",
            "                                                                 \n",
            " max_pooling2d_3 (MaxPoolin  (None, 4, 4, 6)           0         \n",
            " g2D)                                                            \n",
            "                                                                 \n",
            " dense_3 (Dense)             (None, 4, 4, 120)         840       \n",
            "                                                                 \n",
            " flatten_1 (Flatten)         (None, 1920)              0         \n",
            "                                                                 \n",
            " dense_4 (Dense)             (None, 84)                161364    \n",
            "                                                                 \n",
            " dense_5 (Dense)             (None, 10)                850       \n",
            "                                                                 \n",
            "=================================================================\n",
            "Total params: 164116 (641.08 KB)\n",
            "Trainable params: 164116 (641.08 KB)\n",
            "Non-trainable params: 0 (0.00 Byte)\n",
            "_________________________________________________________________\n"
          ]
        }
      ]
    },
    {
      "cell_type": "code",
      "source": [
        "# Check Accuracy of the Model\n",
        "\n",
        "loss , acc = lenet.evaluate(x_test,y_test)\n",
        "print('Accuracy : ', acc)"
      ],
      "metadata": {
        "colab": {
          "base_uri": "https://localhost:8080/"
        },
        "id": "C79zc0IwpJLk",
        "outputId": "8921f5a6-5367-493a-ea81-d475234390cb"
      },
      "execution_count": 25,
      "outputs": [
        {
          "output_type": "stream",
          "name": "stdout",
          "text": [
            "313/313 [==============================] - 4s 10ms/step - loss: 0.0549 - accuracy: 0.9835\n",
            "Accuracy :  0.9835000038146973\n"
          ]
        }
      ]
    },
    {
      "cell_type": "code",
      "source": [
        "x_train = x_train.reshape(x_train.shape[0], 28,28)\n",
        "print('Training Data', x_train.shape, y_train.shape)\n",
        "x_test = x_test.reshape(x_test.shape[0], 28,28)\n",
        "print('Test Data', x_test.shape, y_test.shape)\n"
      ],
      "metadata": {
        "colab": {
          "base_uri": "https://localhost:8080/"
        },
        "id": "WpqeSVMSpof3",
        "outputId": "84470634-77f4-4f11-b24e-8b94fd6b7e41"
      },
      "execution_count": 26,
      "outputs": [
        {
          "output_type": "stream",
          "name": "stdout",
          "text": [
            "Training Data (60000, 28, 28) (60000, 10)\n",
            "Test Data (10000, 28, 28) (10000, 10)\n"
          ]
        }
      ]
    },
    {
      "cell_type": "code",
      "source": [
        "image_index = 8888\n",
        "plt.imshow(x_test[image_index].reshape(28,28), cmap='Greys')"
      ],
      "metadata": {
        "colab": {
          "base_uri": "https://localhost:8080/",
          "height": 447
        },
        "id": "98EHeEHrpszJ",
        "outputId": "8b52549a-3406-4c6d-df48-f1a542733871"
      },
      "execution_count": 27,
      "outputs": [
        {
          "output_type": "execute_result",
          "data": {
            "text/plain": [
              "<matplotlib.image.AxesImage at 0x798c4241c550>"
            ]
          },
          "metadata": {},
          "execution_count": 27
        },
        {
          "output_type": "display_data",
          "data": {
            "text/plain": [
              "<Figure size 640x480 with 1 Axes>"
            ],
            "image/png": "[encoded data removed]"
          },
          "metadata": {}
        }
      ]
    },
    {
      "cell_type": "code",
      "source": [
        "pred = lenet.predict(x_test[image_index].reshape(1, rows, cols, 1 ))\n",
        "print(pred.argmax())\n"
      ],
      "metadata": {
        "colab": {
          "base_uri": "https://localhost:8080/"
        },
        "id": "A37pLhsCpwji",
        "outputId": "ad2b4a2a-e9d8-431d-90f8-891605f7efba"
      },
      "execution_count": 28,
      "outputs": [
        {
          "output_type": "stream",
          "name": "stdout",
          "text": [
            "1/1 [==============================] - 0s 458ms/step\n",
            "6\n"
          ]
        }
      ]
    },
    {
      "cell_type": "code",
      "source": [],
      "metadata": {
        "id": "g97feMCapzcy"
      },
      "execution_count": null,
      "outputs": []
    }
  ]
}