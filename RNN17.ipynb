{
  "nbformat": 4,
  "nbformat_minor": 0,
  "metadata": {
    "colab": {
      "provenance": [],
      "authorship_tag": "ABX9TyOlj3BZQkzOHKtJzPTMSaPI",
      "include_colab_link": true
    },
    "kernelspec": {
      "name": "python3",
      "display_name": "Python 3"
    },
    "language_info": {
      "name": "python"
    },
    "widgets": {
      "application/vnd.jupyter.widget-state+json": {
        "3867dab8d49542c0b1c6518eb341eeaf": {
          "model_module": "@jupyter-widgets/controls",
          "model_name": "HBoxModel",
          "model_module_version": "2.0.0",
          "state": {
            "_dom_classes": [],
            "_model_module": "@jupyter-widgets/controls",
            "_model_module_version": "2.0.0",
            "_model_name": "HBoxModel",
            "_view_count": null,
            "_view_module": "@jupyter-widgets/controls",
            "_view_module_version": "2.0.0",
            "_view_name": "HBoxView",
            "box_style": "",
            "children": [
              "IPY_MODEL_171db06652a5406a9b61c5cf0b970aee",
              "IPY_MODEL_bddee991eb9d4dbe82a911875d446beb",
              "IPY_MODEL_e4dd254ab1754e5fa9073f21f4f52d1e"
            ],
            "layout": "IPY_MODEL_00535779bb2740ed8acc0f044c2be73a",
            "tabbable": null,
            "tooltip": null
          }
        },
        "171db06652a5406a9b61c5cf0b970aee": {
          "model_module": "@jupyter-widgets/controls",
          "model_name": "HTMLModel",
          "model_module_version": "2.0.0",
          "state": {
            "_dom_classes": [],
            "_model_module": "@jupyter-widgets/controls",
            "_model_module_version": "2.0.0",
            "_model_name": "HTMLModel",
            "_view_count": null,
            "_view_module": "@jupyter-widgets/controls",
            "_view_module_version": "2.0.0",
            "_view_name": "HTMLView",
            "description": "",
            "description_allow_html": false,
            "layout": "IPY_MODEL_15a6706a0c4846d3a61471212b933100",
            "placeholder": "​",
            "style": "IPY_MODEL_7de81ca81e774973b897ff6a1b81e945",
            "tabbable": null,
            "tooltip": null,
            "value": "Downloading nlp_disaster.zip: 100%"
          }
        },
        "bddee991eb9d4dbe82a911875d446beb": {
          "model_module": "@jupyter-widgets/controls",
          "model_name": "FloatProgressModel",
          "model_module_version": "2.0.0",
          "state": {
            "_dom_classes": [],
            "_model_module": "@jupyter-widgets/controls",
            "_model_module_version": "2.0.0",
            "_model_name": "FloatProgressModel",
            "_view_count": null,
            "_view_module": "@jupyter-widgets/controls",
            "_view_module_version": "2.0.0",
            "_view_name": "ProgressView",
            "bar_style": "success",
            "description": "",
            "description_allow_html": false,
            "layout": "IPY_MODEL_58910b070fb347dc93f1d850f37e7db1",
            "max": 607343,
            "min": 0,
            "orientation": "horizontal",
            "style": "IPY_MODEL_1a7f895604d64c5f945b13a344fde5ef",
            "tabbable": null,
            "tooltip": null,
            "value": 607343
          }
        },
        "e4dd254ab1754e5fa9073f21f4f52d1e": {
          "model_module": "@jupyter-widgets/controls",
          "model_name": "HTMLModel",
          "model_module_version": "2.0.0",
          "state": {
            "_dom_classes": [],
            "_model_module": "@jupyter-widgets/controls",
            "_model_module_version": "2.0.0",
            "_model_name": "HTMLModel",
            "_view_count": null,
            "_view_module": "@jupyter-widgets/controls",
            "_view_module_version": "2.0.0",
            "_view_name": "HTMLView",
            "description": "",
            "description_allow_html": false,
            "layout": "IPY_MODEL_d75042afe2bd4ea2a19f8dcbbd80273a",
            "placeholder": "​",
            "style": "IPY_MODEL_7ec0158ed29d4c41a2d4c3bced310299",
            "tabbable": null,
            "tooltip": null,
            "value": " 607343/607343 [00:00&lt;00:00, 1462368.90it/s]"
          }
        },
        "00535779bb2740ed8acc0f044c2be73a": {
          "model_module": "@jupyter-widgets/base",
          "model_name": "LayoutModel",
          "model_module_version": "2.0.0",
          "state": {
            "_model_module": "@jupyter-widgets/base",
            "_model_module_version": "2.0.0",
            "_model_name": "LayoutModel",
            "_view_count": null,
            "_view_module": "@jupyter-widgets/base",
            "_view_module_version": "2.0.0",
            "_view_name": "LayoutView",
            "align_content": null,
            "align_items": null,
            "align_self": null,
            "border_bottom": null,
            "border_left": null,
            "border_right": null,
            "border_top": null,
            "bottom": null,
            "display": null,
            "flex": null,
            "flex_flow": null,
            "grid_area": null,
            "grid_auto_columns": null,
            "grid_auto_flow": null,
            "grid_auto_rows": null,
            "grid_column": null,
            "grid_gap": null,
            "grid_row": null,
            "grid_template_areas": null,
            "grid_template_columns": null,
            "grid_template_rows": null,
            "height": null,
            "justify_content": null,
            "justify_items": null,
            "left": null,
            "margin": null,
            "max_height": null,
            "max_width": null,
            "min_height": null,
            "min_width": null,
            "object_fit": null,
            "object_position": null,
            "order": null,
            "overflow": null,
            "padding": null,
            "right": null,
            "top": null,
            "visibility": null,
            "width": null
          }
        },
        "15a6706a0c4846d3a61471212b933100": {
          "model_module": "@jupyter-widgets/base",
          "model_name": "LayoutModel",
          "model_module_version": "2.0.0",
          "state": {
            "_model_module": "@jupyter-widgets/base",
            "_model_module_version": "2.0.0",
            "_model_name": "LayoutModel",
            "_view_count": null,
            "_view_module": "@jupyter-widgets/base",
            "_view_module_version": "2.0.0",
            "_view_name": "LayoutView",
            "align_content": null,
            "align_items": null,
            "align_self": null,
            "border_bottom": null,
            "border_left": null,
            "border_right": null,
            "border_top": null,
            "bottom": null,
            "display": null,
            "flex": null,
            "flex_flow": null,
            "grid_area": null,
            "grid_auto_columns": null,
            "grid_auto_flow": null,
            "grid_auto_rows": null,
            "grid_column": null,
            "grid_gap": null,
            "grid_row": null,
            "grid_template_areas": null,
            "grid_template_columns": null,
            "grid_template_rows": null,
            "height": null,
            "justify_content": null,
            "justify_items": null,
            "left": null,
            "margin": null,
            "max_height": null,
            "max_width": null,
            "min_height": null,
            "min_width": null,
            "object_fit": null,
            "object_position": null,
            "order": null,
            "overflow": null,
            "padding": null,
            "right": null,
            "top": null,
            "visibility": null,
            "width": null
          }
        },
        "7de81ca81e774973b897ff6a1b81e945": {
          "model_module": "@jupyter-widgets/controls",
          "model_name": "HTMLStyleModel",
          "model_module_version": "2.0.0",
          "state": {
            "_model_module": "@jupyter-widgets/controls",
            "_model_module_version": "2.0.0",
            "_model_name": "HTMLStyleModel",
            "_view_count": null,
            "_view_module": "@jupyter-widgets/base",
            "_view_module_version": "2.0.0",
            "_view_name": "StyleView",
            "background": null,
            "description_width": "",
            "font_size": null,
            "text_color": null
          }
        },
        "58910b070fb347dc93f1d850f37e7db1": {
          "model_module": "@jupyter-widgets/base",
          "model_name": "LayoutModel",
          "model_module_version": "2.0.0",
          "state": {
            "_model_module": "@jupyter-widgets/base",
            "_model_module_version": "2.0.0",
            "_model_name": "LayoutModel",
            "_view_count": null,
            "_view_module": "@jupyter-widgets/base",
            "_view_module_version": "2.0.0",
            "_view_name": "LayoutView",
            "align_content": null,
            "align_items": null,
            "align_self": null,
            "border_bottom": null,
            "border_left": null,
            "border_right": null,
            "border_top": null,
            "bottom": null,
            "display": null,
            "flex": null,
            "flex_flow": null,
            "grid_area": null,
            "grid_auto_columns": null,
            "grid_auto_flow": null,
            "grid_auto_rows": null,
            "grid_column": null,
            "grid_gap": null,
            "grid_row": null,
            "grid_template_areas": null,
            "grid_template_columns": null,
            "grid_template_rows": null,
            "height": null,
            "justify_content": null,
            "justify_items": null,
            "left": null,
            "margin": null,
            "max_height": null,
            "max_width": null,
            "min_height": null,
            "min_width": null,
            "object_fit": null,
            "object_position": null,
            "order": null,
            "overflow": null,
            "padding": null,
            "right": null,
            "top": null,
            "visibility": null,
            "width": null
          }
        },
        "1a7f895604d64c5f945b13a344fde5ef": {
          "model_module": "@jupyter-widgets/controls",
          "model_name": "ProgressStyleModel",
          "model_module_version": "2.0.0",
          "state": {
            "_model_module": "@jupyter-widgets/controls",
            "_model_module_version": "2.0.0",
            "_model_name": "ProgressStyleModel",
            "_view_count": null,
            "_view_module": "@jupyter-widgets/base",
            "_view_module_version": "2.0.0",
            "_view_name": "StyleView",
            "bar_color": null,
            "description_width": ""
          }
        },
        "d75042afe2bd4ea2a19f8dcbbd80273a": {
          "model_module": "@jupyter-widgets/base",
          "model_name": "LayoutModel",
          "model_module_version": "2.0.0",
          "state": {
            "_model_module": "@jupyter-widgets/base",
            "_model_module_version": "2.0.0",
            "_model_name": "LayoutModel",
            "_view_count": null,
            "_view_module": "@jupyter-widgets/base",
            "_view_module_version": "2.0.0",
            "_view_name": "LayoutView",
            "align_content": null,
            "align_items": null,
            "align_self": null,
            "border_bottom": null,
            "border_left": null,
            "border_right": null,
            "border_top": null,
            "bottom": null,
            "display": null,
            "flex": null,
            "flex_flow": null,
            "grid_area": null,
            "grid_auto_columns": null,
            "grid_auto_flow": null,
            "grid_auto_rows": null,
            "grid_column": null,
            "grid_gap": null,
            "grid_row": null,
            "grid_template_areas": null,
            "grid_template_columns": null,
            "grid_template_rows": null,
            "height": null,
            "justify_content": null,
            "justify_items": null,
            "left": null,
            "margin": null,
            "max_height": null,
            "max_width": null,
            "min_height": null,
            "min_width": null,
            "object_fit": null,
            "object_position": null,
            "order": null,
            "overflow": null,
            "padding": null,
            "right": null,
            "top": null,
            "visibility": null,
            "width": null
          }
        },
        "7ec0158ed29d4c41a2d4c3bced310299": {
          "model_module": "@jupyter-widgets/controls",
          "model_name": "HTMLStyleModel",
          "model_module_version": "2.0.0",
          "state": {
            "_model_module": "@jupyter-widgets/controls",
            "_model_module_version": "2.0.0",
            "_model_name": "HTMLStyleModel",
            "_view_count": null,
            "_view_module": "@jupyter-widgets/base",
            "_view_module_version": "2.0.0",
            "_view_name": "StyleView",
            "background": null,
            "description_width": "",
            "font_size": null,
            "text_color": null
          }
        },
        "6a61e999ff49484daa5398fd9072471a": {
          "model_module": "@jupyter-widgets/controls",
          "model_name": "HBoxModel",
          "model_module_version": "2.0.0",
          "state": {
            "_dom_classes": [],
            "_model_module": "@jupyter-widgets/controls",
            "_model_module_version": "2.0.0",
            "_model_name": "HBoxModel",
            "_view_count": null,
            "_view_module": "@jupyter-widgets/controls",
            "_view_module_version": "2.0.0",
            "_view_name": "HBoxView",
            "box_style": "",
            "children": [
              "IPY_MODEL_88af3a16d29e4ef981f5d970393bddd1",
              "IPY_MODEL_b3ba16f0ba6b432ca03c9b5b5966c220",
              "IPY_MODEL_022e9f57afad4b6b96a192b38c763505"
            ],
            "layout": "IPY_MODEL_a834f90ac67d4e1887b79fa3962af87d",
            "tabbable": null,
            "tooltip": null
          }
        },
        "88af3a16d29e4ef981f5d970393bddd1": {
          "model_module": "@jupyter-widgets/controls",
          "model_name": "HTMLModel",
          "model_module_version": "2.0.0",
          "state": {
            "_dom_classes": [],
            "_model_module": "@jupyter-widgets/controls",
            "_model_module_version": "2.0.0",
            "_model_name": "HTMLModel",
            "_view_count": null,
            "_view_module": "@jupyter-widgets/controls",
            "_view_module_version": "2.0.0",
            "_view_name": "HTMLView",
            "description": "",
            "description_allow_html": false,
            "layout": "IPY_MODEL_ccfbc3be0e7a47189d6cfc440860dd88",
            "placeholder": "​",
            "style": "IPY_MODEL_8de31e9f69dc4648833ca94a32313226",
            "tabbable": null,
            "tooltip": null,
            "value": "Extracting nlp_disaster.zip: 100%"
          }
        },
        "b3ba16f0ba6b432ca03c9b5b5966c220": {
          "model_module": "@jupyter-widgets/controls",
          "model_name": "FloatProgressModel",
          "model_module_version": "2.0.0",
          "state": {
            "_dom_classes": [],
            "_model_module": "@jupyter-widgets/controls",
            "_model_module_version": "2.0.0",
            "_model_name": "FloatProgressModel",
            "_view_count": null,
            "_view_module": "@jupyter-widgets/controls",
            "_view_module_version": "2.0.0",
            "_view_name": "ProgressView",
            "bar_style": "success",
            "description": "",
            "description_allow_html": false,
            "layout": "IPY_MODEL_ff3b3c4fc14e4ca186c68915067c8ef5",
            "max": 3,
            "min": 0,
            "orientation": "horizontal",
            "style": "IPY_MODEL_20ea0905b5d94d66b2a5f9e09400410f",
            "tabbable": null,
            "tooltip": null,
            "value": 3
          }
        },
        "022e9f57afad4b6b96a192b38c763505": {
          "model_module": "@jupyter-widgets/controls",
          "model_name": "HTMLModel",
          "model_module_version": "2.0.0",
          "state": {
            "_dom_classes": [],
            "_model_module": "@jupyter-widgets/controls",
            "_model_module_version": "2.0.0",
            "_model_name": "HTMLModel",
            "_view_count": null,
            "_view_module": "@jupyter-widgets/controls",
            "_view_module_version": "2.0.0",
            "_view_name": "HTMLView",
            "description": "",
            "description_allow_html": false,
            "layout": "IPY_MODEL_80268bdcd01542c2b33bf8bbda46aca7",
            "placeholder": "​",
            "style": "IPY_MODEL_557de5a6e2b04019916ffd47284ce1dc",
            "tabbable": null,
            "tooltip": null,
            "value": " 3/3 [00:00&lt;00:00, 36.39it/s]"
          }
        },
        "a834f90ac67d4e1887b79fa3962af87d": {
          "model_module": "@jupyter-widgets/base",
          "model_name": "LayoutModel",
          "model_module_version": "2.0.0",
          "state": {
            "_model_module": "@jupyter-widgets/base",
            "_model_module_version": "2.0.0",
            "_model_name": "LayoutModel",
            "_view_count": null,
            "_view_module": "@jupyter-widgets/base",
            "_view_module_version": "2.0.0",
            "_view_name": "LayoutView",
            "align_content": null,
            "align_items": null,
            "align_self": null,
            "border_bottom": null,
            "border_left": null,
            "border_right": null,
            "border_top": null,
            "bottom": null,
            "display": null,
            "flex": null,
            "flex_flow": null,
            "grid_area": null,
            "grid_auto_columns": null,
            "grid_auto_flow": null,
            "grid_auto_rows": null,
            "grid_column": null,
            "grid_gap": null,
            "grid_row": null,
            "grid_template_areas": null,
            "grid_template_columns": null,
            "grid_template_rows": null,
            "height": null,
            "justify_content": null,
            "justify_items": null,
            "left": null,
            "margin": null,
            "max_height": null,
            "max_width": null,
            "min_height": null,
            "min_width": null,
            "object_fit": null,
            "object_position": null,
            "order": null,
            "overflow": null,
            "padding": null,
            "right": null,
            "top": null,
            "visibility": null,
            "width": null
          }
        },
        "ccfbc3be0e7a47189d6cfc440860dd88": {
          "model_module": "@jupyter-widgets/base",
          "model_name": "LayoutModel",
          "model_module_version": "2.0.0",
          "state": {
            "_model_module": "@jupyter-widgets/base",
            "_model_module_version": "2.0.0",
            "_model_name": "LayoutModel",
            "_view_count": null,
            "_view_module": "@jupyter-widgets/base",
            "_view_module_version": "2.0.0",
            "_view_name": "LayoutView",
            "align_content": null,
            "align_items": null,
            "align_self": null,
            "border_bottom": null,
            "border_left": null,
            "border_right": null,
            "border_top": null,
            "bottom": null,
            "display": null,
            "flex": null,
            "flex_flow": null,
            "grid_area": null,
            "grid_auto_columns": null,
            "grid_auto_flow": null,
            "grid_auto_rows": null,
            "grid_column": null,
            "grid_gap": null,
            "grid_row": null,
            "grid_template_areas": null,
            "grid_template_columns": null,
            "grid_template_rows": null,
            "height": null,
            "justify_content": null,
            "justify_items": null,
            "left": null,
            "margin": null,
            "max_height": null,
            "max_width": null,
            "min_height": null,
            "min_width": null,
            "object_fit": null,
            "object_position": null,
            "order": null,
            "overflow": null,
            "padding": null,
            "right": null,
            "top": null,
            "visibility": null,
            "width": null
          }
        },
        "8de31e9f69dc4648833ca94a32313226": {
          "model_module": "@jupyter-widgets/controls",
          "model_name": "HTMLStyleModel",
          "model_module_version": "2.0.0",
          "state": {
            "_model_module": "@jupyter-widgets/controls",
            "_model_module_version": "2.0.0",
            "_model_name": "HTMLStyleModel",
            "_view_count": null,
            "_view_module": "@jupyter-widgets/base",
            "_view_module_version": "2.0.0",
            "_view_name": "StyleView",
            "background": null,
            "description_width": "",
            "font_size": null,
            "text_color": null
          }
        },
        "ff3b3c4fc14e4ca186c68915067c8ef5": {
          "model_module": "@jupyter-widgets/base",
          "model_name": "LayoutModel",
          "model_module_version": "2.0.0",
          "state": {
            "_model_module": "@jupyter-widgets/base",
            "_model_module_version": "2.0.0",
            "_model_name": "LayoutModel",
            "_view_count": null,
            "_view_module": "@jupyter-widgets/base",
            "_view_module_version": "2.0.0",
            "_view_name": "LayoutView",
            "align_content": null,
            "align_items": null,
            "align_self": null,
            "border_bottom": null,
            "border_left": null,
            "border_right": null,
            "border_top": null,
            "bottom": null,
            "display": null,
            "flex": null,
            "flex_flow": null,
            "grid_area": null,
            "grid_auto_columns": null,
            "grid_auto_flow": null,
            "grid_auto_rows": null,
            "grid_column": null,
            "grid_gap": null,
            "grid_row": null,
            "grid_template_areas": null,
            "grid_template_columns": null,
            "grid_template_rows": null,
            "height": null,
            "justify_content": null,
            "justify_items": null,
            "left": null,
            "margin": null,
            "max_height": null,
            "max_width": null,
            "min_height": null,
            "min_width": null,
            "object_fit": null,
            "object_position": null,
            "order": null,
            "overflow": null,
            "padding": null,
            "right": null,
            "top": null,
            "visibility": null,
            "width": null
          }
        },
        "20ea0905b5d94d66b2a5f9e09400410f": {
          "model_module": "@jupyter-widgets/controls",
          "model_name": "ProgressStyleModel",
          "model_module_version": "2.0.0",
          "state": {
            "_model_module": "@jupyter-widgets/controls",
            "_model_module_version": "2.0.0",
            "_model_name": "ProgressStyleModel",
            "_view_count": null,
            "_view_module": "@jupyter-widgets/base",
            "_view_module_version": "2.0.0",
            "_view_name": "StyleView",
            "bar_color": null,
            "description_width": ""
          }
        },
        "80268bdcd01542c2b33bf8bbda46aca7": {
          "model_module": "@jupyter-widgets/base",
          "model_name": "LayoutModel",
          "model_module_version": "2.0.0",
          "state": {
            "_model_module": "@jupyter-widgets/base",
            "_model_module_version": "2.0.0",
            "_model_name": "LayoutModel",
            "_view_count": null,
            "_view_module": "@jupyter-widgets/base",
            "_view_module_version": "2.0.0",
            "_view_name": "LayoutView",
            "align_content": null,
            "align_items": null,
            "align_self": null,
            "border_bottom": null,
            "border_left": null,
            "border_right": null,
            "border_top": null,
            "bottom": null,
            "display": null,
            "flex": null,
            "flex_flow": null,
            "grid_area": null,
            "grid_auto_columns": null,
            "grid_auto_flow": null,
            "grid_auto_rows": null,
            "grid_column": null,
            "grid_gap": null,
            "grid_row": null,
            "grid_template_areas": null,
            "grid_template_columns": null,
            "grid_template_rows": null,
            "height": null,
            "justify_content": null,
            "justify_items": null,
            "left": null,
            "margin": null,
            "max_height": null,
            "max_width": null,
            "min_height": null,
            "min_width": null,
            "object_fit": null,
            "object_position": null,
            "order": null,
            "overflow": null,
            "padding": null,
            "right": null,
            "top": null,
            "visibility": null,
            "width": null
          }
        },
        "557de5a6e2b04019916ffd47284ce1dc": {
          "model_module": "@jupyter-widgets/controls",
          "model_name": "HTMLStyleModel",
          "model_module_version": "2.0.0",
          "state": {
            "_model_module": "@jupyter-widgets/controls",
            "_model_module_version": "2.0.0",
            "_model_name": "HTMLStyleModel",
            "_view_count": null,
            "_view_module": "@jupyter-widgets/base",
            "_view_module_version": "2.0.0",
            "_view_name": "StyleView",
            "background": null,
            "description_width": "",
            "font_size": null,
            "text_color": null
          }
        }
      }
    }
  },
  "cells": [
    {
      "cell_type": "markdown",
      "metadata": {
        "id": "view-in-github",
        "colab_type": "text"
      },
      "source": [
        "<a href=\"https://colab.research.google.com/github/MohamedElsayed002/DeepLearning_Study/blob/master/RNN17.ipynb\" target=\"_parent\"><img src=\"https://colab.research.google.com/assets/colab-badge.svg\" alt=\"Open In Colab\"/></a>"
      ]
    },
    {
      "cell_type": "markdown",
      "source": [
        "# Recurrent Neural Networks\n",
        "\n",
        "A recurrent neural network (RNN) is a type of artifical neural network which uses sequential data or time series data as input its typically used for ordinal or temporal problems like language translation, speech recognition, and time series forecasting.\n",
        "\n",
        "In this lab, we will unterstand the fundamental building blocks of an RNN. we will train a simply binary text classifier on top of an existing pre-trained module that embeds sentences"
      ],
      "metadata": {
        "id": "XNUrwrDNe5Y2"
      }
    },
    {
      "cell_type": "markdown",
      "source": [
        "## __Table of Contents__\n",
        "\n",
        "<ol>\n",
        "    <li><a href=\"#Objectives\">Objectives</a></li>\n",
        "    <li>\n",
        "        <a href=\"#Setup\">Setup</a>\n",
        "        <ol>\n",
        "            <li><a href=\"#Installing-Required-Libraries\">Installing Required Libraries</a></li>\n",
        "            <li><a href=\"#Importing-Required-Libraries\">Importing Required Libraries</a></li>\n",
        "            <li><a href=\"#Defining-Helper-Functions\">Defining Helper Functions</a></li>\n",
        "        </ol>\n",
        "    </li>\n",
        "    <li>\n",
        "        <a href=\"#RNN-Fundamentals\">RNN Fundamentals</a>\n",
        "        <ol>\n",
        "            <li><a href=\"#Vanilla-Recurrent-Neural-Network\"> Vanilla Recurrent Neural Network</a></li>\n",
        "            <li><a href=\"#Unrolling-in-time-of-a-RNN\">Unrolling in time of a RNN</a></li>\n",
        "            <li><a href=\"#Training-an-RNN\">Training an RNN</a></li>\n",
        "        </ol>\n",
        "    </li>\n",
        "    <li><a href=\"#Types-of-RNNs\">Types of RNNs</a></li>\n",
        "    <li><a href=\"#Pre-trained-RNNs\">Pre-trained RNNs</a></li>\n",
        "</ol>"
      ],
      "metadata": {
        "id": "-x3bzm0ZfTg0"
      }
    },
    {
      "cell_type": "code",
      "execution_count": null,
      "metadata": {
        "id": "uKORK1kXHCS-"
      },
      "outputs": [],
      "source": [
        "import numpy as np\n",
        "import pandas as pd\n",
        "import math\n",
        "import matplotlib.pyplot as plt\n",
        "import seaborn as sns\n",
        "%matplotlib inline\n",
        "\n",
        "import tensorflow as tf\n",
        "import skillsnetwork\n",
        "from tensorflow import keras\n",
        "from tensorflow.keras import layers\n",
        "from keras.preprocessing.text import Tokenizer\n",
        "from tensorflow.keras.losses import mean_squared_error\n",
        "from tensorflow.keras.models import Sequential\n",
        "from tensorflow.keras.layers import SimpleRNN, Dense, Embedding,Masking,LSTM, GRU, Conv1D, Dropout\n",
        "from tensorflow.keras.optimizers import Adam\n",
        "from keras.preprocessing import sequence\n",
        "from keras.models import Sequential\n",
        "from keras.layers import Dense, Dropout, Embedding, SimpleRNN\n",
        "from tensorflow.keras.datasets import reuters\n",
        "from sklearn.model_selection import train_test_split\n",
        "from tensorflow.keras.layers.experimental.preprocessing import TextVectorization\n",
        "from sklearn.metrics import accuracy_score,precision_recall_fscore_support\n",
        "import tensorflow_hub as hub\n",
        "\n"
      ]
    },
    {
      "cell_type": "markdown",
      "source": [
        "# Helper Functions"
      ],
      "metadata": {
        "id": "dCxdT7iygrhj"
      }
    },
    {
      "cell_type": "code",
      "source": [
        "# function to compute the accuracy, precision, recall and F1 score of a model's predictions.\n",
        "def calculate_results(y_true, y_pred):\n",
        "    model_accuracy = accuracy_score(y_true, y_pred)\n",
        "    model_precision, model_recall, model_f1,_ = precision_recall_fscore_support(y_true, y_pred,average=\"weighted\")\n",
        "    model_results = {\"accuracy\":model_accuracy,\n",
        "                     \"precision\":model_precision,\n",
        "                     \"recall\" :model_recall,\n",
        "                     \"f1\":model_f1}\n",
        "    return model_results"
      ],
      "metadata": {
        "id": "EsR8IeBifqrC"
      },
      "execution_count": null,
      "outputs": []
    },
    {
      "cell_type": "markdown",
      "source": [
        "# RNN Fundamentals\n",
        "\n",
        "RNN fall in the category of neural networks that maintain some kind of `state` they can process sequential data of arbitary length. by doing so they overcome certain limitations faced by classical neural networks. classical NNs only accept fixed-length vectors as input and output fixed-length vectors.RNNs operate over sequences of vectors. classical NNs aren't build to consider the sequential nature of some data. RNNs work with sequential data forms like language. video frames, time series and so on.\n",
        "\n",
        "The RNN layer uses a for-loop to iterate over the time-steps of a sequence, and maintains an internal state that encodes information about all time steps that have been observed so far.The keras RNN API has build-in `keras.layers.RNN` and `keras.layers.LSTM` layers that make it easy to quickly build RNN models.\n",
        "\n",
        "# Vanilla Recurrent Neural Netowk\n",
        "\n",
        "\n",
        "RNNs use these two simple formulas:\n",
        "\n",
        "$$ \\mathbf s_t = \\mbox{tanh }(U \\mathbf x_t + W \\mathbf s_{t-1}) $$\n",
        "\n",
        "$$ \\mathbf y_t = V \\mathbf s_t $$\n",
        "\n",
        "The following plot shows the hyperbolic tan function, `tanh`:\n",
        "\n",
        "<img src=\"https://github.com/DataScienceUB/DeepLearningMaster2019/blob/master/images/TanhReal.gif?raw=1\" alt=\"\" style=\"width: 300px;\">\n",
        "\n",
        "#### Terminology:\n",
        "* $s_t$ current network, or the hidden state\n",
        "* $\\mathbf s_{t-1}$ previous hidden state\n",
        "* $\\mathbf x_t$ current input\n",
        "* $U, V, W$ matrices that are parameters of the RNN\n",
        "* $\\mathbf y_t$ output at time $t$\n",
        "\n",
        "These equations say that the current network state or the hidden state, is a function of the previous hidden state and the current input.\n",
        "\n",
        "### Unrolling in time of a RNN\n",
        "\n",
        "Given an input sequence, we apply RNN formulas in a recurrent way until we process all input elements. The $U,V,W$ parameters are shared across all recurrent steps. This implies that at each time step, the output is a function of all inputs from previous time steps. The network has a form of memory, encoding information about the time-steps it has seen so far.\n",
        "\n",
        "Some important observations:\n",
        "- The initial values for $U,V,W$ as well as for $\\mathbf s$ must be provided when training an RNN.\n",
        "- Hidden state  acts as a memory of the network. It can capture information about the previous steps. It embeds the representation of the sequence.\n",
        "- We can look at the network's output at every stage or just the final stage.\n",
        "\n",
        "### Training an RNN\n",
        "\n",
        "A RNN has a layer for each time step, and its weights are shared across time. It is trained using backpropagation through time, and is done using the following steps:\n",
        "- The input or the training set is made of several input ($n$-dimensional) sequences $\\{\\mathbf{X}_i \\}$ and corresponding outcomes. Each element of a sequence $\\mathbf{x}_j \\in \\mathbf{X}_i$ is also a vector.\n",
        "- We use a loss function to measure how well the network's output fits to the expected outcome, such as ground truth.\n",
        "- We apply an optimization method like stochastic gradient descent or Adam to optimize the loss function\n",
        "- After the forward pass, gradients of the cost function are propagated backwards through the unrolled network\n"
      ],
      "metadata": {
        "id": "xalmhHdRhV0U"
      }
    },
    {
      "cell_type": "markdown",
      "source": [
        "## Types of RNNs\n",
        "\n",
        "Predicting the output, $y_t$, at each time step is not always the case. Different RNN architectures can be used to solve different kinds of problems."
      ],
      "metadata": {
        "id": "hLQQ3QTEiZpx"
      }
    },
    {
      "cell_type": "markdown",
      "source": [
        "|Type|Input|Output|Example problem\n",
        "|-|-|-|-\n",
        "|*many-to-many*|An input sequence|An output sequence|Part of Speech (POS) tagging\n",
        "|*many-to-one*|An input sequence|Value of output sequence for last timestep|Text classification: positive tweet or negative?\n",
        "|*one-to-many*|Single value of input sequence|An output sequence| Given an input image, predict sequence data"
      ],
      "metadata": {
        "id": "jevNsEWCibhN"
      }
    },
    {
      "cell_type": "markdown",
      "source": [
        "In this section, we will be experimenting with existing RNNs. We will use the NLP disaster dataset. The dataset contains a `test.csv` and a `train.csv` each of which have the following information:\n",
        "\n",
        "* The text of a tweet\n",
        "* A keyword from that tweet (although this may be blank!)\n",
        "* The location the tweet was sent from (may also be blank)\n",
        "\n",
        "Our task is to predict whether a given tweet is about a real disaster or not. If so, predict a 1. If not, predict a 0.\n",
        "\n"
      ],
      "metadata": {
        "id": "YrSMZMyWjQZU"
      }
    },
    {
      "cell_type": "code",
      "source": [
        "await skillsnetwork.prepare(\"https://cf-courses-data.s3.us.cloud-object-storage.appdomain.cloud/IBMDeveloperSkillsNetwork-ML311-Coursera/labs/Module4/L1/nlp_disaster.zip\")\n"
      ],
      "metadata": {
        "colab": {
          "base_uri": "https://localhost:8080/",
          "height": 34,
          "referenced_widgets": [
            "3867dab8d49542c0b1c6518eb341eeaf",
            "171db06652a5406a9b61c5cf0b970aee",
            "bddee991eb9d4dbe82a911875d446beb",
            "e4dd254ab1754e5fa9073f21f4f52d1e",
            "00535779bb2740ed8acc0f044c2be73a",
            "15a6706a0c4846d3a61471212b933100",
            "7de81ca81e774973b897ff6a1b81e945",
            "58910b070fb347dc93f1d850f37e7db1",
            "1a7f895604d64c5f945b13a344fde5ef",
            "d75042afe2bd4ea2a19f8dcbbd80273a",
            "7ec0158ed29d4c41a2d4c3bced310299",
            "6a61e999ff49484daa5398fd9072471a",
            "88af3a16d29e4ef981f5d970393bddd1",
            "b3ba16f0ba6b432ca03c9b5b5966c220",
            "022e9f57afad4b6b96a192b38c763505",
            "a834f90ac67d4e1887b79fa3962af87d",
            "ccfbc3be0e7a47189d6cfc440860dd88",
            "8de31e9f69dc4648833ca94a32313226",
            "ff3b3c4fc14e4ca186c68915067c8ef5",
            "20ea0905b5d94d66b2a5f9e09400410f",
            "80268bdcd01542c2b33bf8bbda46aca7",
            "557de5a6e2b04019916ffd47284ce1dc"
          ]
        },
        "id": "rucWluGahRqY",
        "outputId": "d0041a3c-7b01-4c8f-d043-f7f57956c5a3"
      },
      "execution_count": null,
      "outputs": [
        {
          "output_type": "display_data",
          "data": {
            "text/plain": [
              "Downloading nlp_disaster.zip:   0%|          | 0/607343 [00:00<?, ?it/s]"
            ],
            "application/vnd.jupyter.widget-view+json": {
              "version_major": 2,
              "version_minor": 0,
              "model_id": "3867dab8d49542c0b1c6518eb341eeaf"
            }
          },
          "metadata": {}
        },
        {
          "output_type": "display_data",
          "data": {
            "text/plain": [
              "  0%|          | 0/3 [00:00<?, ?it/s]"
            ],
            "application/vnd.jupyter.widget-view+json": {
              "version_major": 2,
              "version_minor": 0,
              "model_id": "6a61e999ff49484daa5398fd9072471a"
            }
          },
          "metadata": {}
        },
        {
          "output_type": "stream",
          "name": "stdout",
          "text": [
            "Saved to '.'\n"
          ]
        }
      ]
    },
    {
      "cell_type": "markdown",
      "source": [
        "Now we will read in the train dataset.Here we use `frac=1` so all rows in the training dataset are returned in a random order. we also set a random state to ensure reproduciblity of results"
      ],
      "metadata": {
        "id": "AVWFmZyqjmXM"
      }
    },
    {
      "cell_type": "code",
      "source": [
        "train_df = pd.read_csv('train.csv')\n",
        "# shuffle the dataset_\n",
        "\n",
        "train_df_shuffled = train_df.sample(frac=1,random_state=42)"
      ],
      "metadata": {
        "id": "F5MiaORbjkdO"
      },
      "execution_count": null,
      "outputs": []
    },
    {
      "cell_type": "code",
      "source": [
        "train_df_shuffled.head()"
      ],
      "metadata": {
        "colab": {
          "base_uri": "https://localhost:8080/",
          "height": 206
        },
        "id": "N5nvEt0bj4mW",
        "outputId": "5e19dcf3-d696-4bbb-9ac7-791d3affeab4"
      },
      "execution_count": null,
      "outputs": [
        {
          "output_type": "execute_result",
          "data": {
            "text/plain": [
              "        id      keyword  ...                                               text target\n",
              "2644  3796  destruction  ...  So you have a new weapon that can cause un-ima...      1\n",
              "2227  3185       deluge  ...  The f$&amp;@ing things I do for #GISHWHES Just...      0\n",
              "5448  7769       police  ...  DT @georgegalloway: RT @Galloway4Mayor: ÛÏThe...      1\n",
              "132    191   aftershock  ...  Aftershock back to school kick off was great. ...      0\n",
              "6845  9810       trauma  ...  in response to trauma Children of Addicts deve...      0\n",
              "\n",
              "[5 rows x 5 columns]"
            ],
            "text/html": [
              "\n",
              "  <div id=\"df-b99c0b40-1b0c-43b0-aaeb-6cbd4ff044d4\" class=\"colab-df-container\">\n",
              "    <div>\n",
              "<style scoped>\n",
              "    .dataframe tbody tr th:only-of-type {\n",
              "        vertical-align: middle;\n",
              "    }\n",
              "\n",
              "    .dataframe tbody tr th {\n",
              "        vertical-align: top;\n",
              "    }\n",
              "\n",
              "    .dataframe thead th {\n",
              "        text-align: right;\n",
              "    }\n",
              "</style>\n",
              "<table border=\"1\" class=\"dataframe\">\n",
              "  <thead>\n",
              "    <tr style=\"text-align: right;\">\n",
              "      <th></th>\n",
              "      <th>id</th>\n",
              "      <th>keyword</th>\n",
              "      <th>location</th>\n",
              "      <th>text</th>\n",
              "      <th>target</th>\n",
              "    </tr>\n",
              "  </thead>\n",
              "  <tbody>\n",
              "    <tr>\n",
              "      <th>2644</th>\n",
              "      <td>3796</td>\n",
              "      <td>destruction</td>\n",
              "      <td>NaN</td>\n",
              "      <td>So you have a new weapon that can cause un-ima...</td>\n",
              "      <td>1</td>\n",
              "    </tr>\n",
              "    <tr>\n",
              "      <th>2227</th>\n",
              "      <td>3185</td>\n",
              "      <td>deluge</td>\n",
              "      <td>NaN</td>\n",
              "      <td>The f$&amp;amp;@ing things I do for #GISHWHES Just...</td>\n",
              "      <td>0</td>\n",
              "    </tr>\n",
              "    <tr>\n",
              "      <th>5448</th>\n",
              "      <td>7769</td>\n",
              "      <td>police</td>\n",
              "      <td>UK</td>\n",
              "      <td>DT @georgegalloway: RT @Galloway4Mayor: ÛÏThe...</td>\n",
              "      <td>1</td>\n",
              "    </tr>\n",
              "    <tr>\n",
              "      <th>132</th>\n",
              "      <td>191</td>\n",
              "      <td>aftershock</td>\n",
              "      <td>NaN</td>\n",
              "      <td>Aftershock back to school kick off was great. ...</td>\n",
              "      <td>0</td>\n",
              "    </tr>\n",
              "    <tr>\n",
              "      <th>6845</th>\n",
              "      <td>9810</td>\n",
              "      <td>trauma</td>\n",
              "      <td>Montgomery County, MD</td>\n",
              "      <td>in response to trauma Children of Addicts deve...</td>\n",
              "      <td>0</td>\n",
              "    </tr>\n",
              "  </tbody>\n",
              "</table>\n",
              "</div>\n",
              "    <div class=\"colab-df-buttons\">\n",
              "\n",
              "  <div class=\"colab-df-container\">\n",
              "    <button class=\"colab-df-convert\" onclick=\"convertToInteractive('df-b99c0b40-1b0c-43b0-aaeb-6cbd4ff044d4')\"\n",
              "            title=\"Convert this dataframe to an interactive table.\"\n",
              "            style=\"display:none;\">\n",
              "\n",
              "  <svg xmlns=\"http://www.w3.org/2000/svg\" height=\"24px\" viewBox=\"0 -960 960 960\">\n",
              "    <path d=\"M120-120v-720h720v720H120Zm60-500h600v-160H180v160Zm220 220h160v-160H400v160Zm0 220h160v-160H400v160ZM180-400h160v-160H180v160Zm440 0h160v-160H620v160ZM180-180h160v-160H180v160Zm440 0h160v-160H620v160Z\"/>\n",
              "  </svg>\n",
              "    </button>\n",
              "\n",
              "  <style>\n",
              "    .colab-df-container {\n",
              "      display:flex;\n",
              "      gap: 12px;\n",
              "    }\n",
              "\n",
              "    .colab-df-convert {\n",
              "      background-color: #E8F0FE;\n",
              "      border: none;\n",
              "      border-radius: 50%;\n",
              "      cursor: pointer;\n",
              "      display: none;\n",
              "      fill: #1967D2;\n",
              "      height: 32px;\n",
              "      padding: 0 0 0 0;\n",
              "      width: 32px;\n",
              "    }\n",
              "\n",
              "    .colab-df-convert:hover {\n",
              "      background-color: #E2EBFA;\n",
              "      box-shadow: 0px 1px 2px rgba(60, 64, 67, 0.3), 0px 1px 3px 1px rgba(60, 64, 67, 0.15);\n",
              "      fill: #174EA6;\n",
              "    }\n",
              "\n",
              "    .colab-df-buttons div {\n",
              "      margin-bottom: 4px;\n",
              "    }\n",
              "\n",
              "    [theme=dark] .colab-df-convert {\n",
              "      background-color: #3B4455;\n",
              "      fill: #D2E3FC;\n",
              "    }\n",
              "\n",
              "    [theme=dark] .colab-df-convert:hover {\n",
              "      background-color: #434B5C;\n",
              "      box-shadow: 0px 1px 3px 1px rgba(0, 0, 0, 0.15);\n",
              "      filter: drop-shadow(0px 1px 2px rgba(0, 0, 0, 0.3));\n",
              "      fill: #FFFFFF;\n",
              "    }\n",
              "  </style>\n",
              "\n",
              "    <script>\n",
              "      const buttonEl =\n",
              "        document.querySelector('#df-b99c0b40-1b0c-43b0-aaeb-6cbd4ff044d4 button.colab-df-convert');\n",
              "      buttonEl.style.display =\n",
              "        google.colab.kernel.accessAllowed ? 'block' : 'none';\n",
              "\n",
              "      async function convertToInteractive(key) {\n",
              "        const element = document.querySelector('#df-b99c0b40-1b0c-43b0-aaeb-6cbd4ff044d4');\n",
              "        const dataTable =\n",
              "          await google.colab.kernel.invokeFunction('convertToInteractive',\n",
              "                                                    [key], {});\n",
              "        if (!dataTable) return;\n",
              "\n",
              "        const docLinkHtml = 'Like what you see? Visit the ' +\n",
              "          '<a target=\"_blank\" href=https://colab.research.google.com/notebooks/data_table.ipynb>data table notebook</a>'\n",
              "          + ' to learn more about interactive tables.';\n",
              "        element.innerHTML = '';\n",
              "        dataTable['output_type'] = 'display_data';\n",
              "        await google.colab.output.renderOutput(dataTable, element);\n",
              "        const docLink = document.createElement('div');\n",
              "        docLink.innerHTML = docLinkHtml;\n",
              "        element.appendChild(docLink);\n",
              "      }\n",
              "    </script>\n",
              "  </div>\n",
              "\n",
              "\n",
              "<div id=\"df-c624cd7c-87e4-49e0-889a-4065988ce679\">\n",
              "  <button class=\"colab-df-quickchart\" onclick=\"quickchart('df-c624cd7c-87e4-49e0-889a-4065988ce679')\"\n",
              "            title=\"Suggest charts\"\n",
              "            style=\"display:none;\">\n",
              "\n",
              "<svg xmlns=\"http://www.w3.org/2000/svg\" height=\"24px\"viewBox=\"0 0 24 24\"\n",
              "     width=\"24px\">\n",
              "    <g>\n",
              "        <path d=\"M19 3H5c-1.1 0-2 .9-2 2v14c0 1.1.9 2 2 2h14c1.1 0 2-.9 2-2V5c0-1.1-.9-2-2-2zM9 17H7v-7h2v7zm4 0h-2V7h2v10zm4 0h-2v-4h2v4z\"/>\n",
              "    </g>\n",
              "</svg>\n",
              "  </button>\n",
              "\n",
              "<style>\n",
              "  .colab-df-quickchart {\n",
              "      --bg-color: #E8F0FE;\n",
              "      --fill-color: #1967D2;\n",
              "      --hover-bg-color: #E2EBFA;\n",
              "      --hover-fill-color: #174EA6;\n",
              "      --disabled-fill-color: #AAA;\n",
              "      --disabled-bg-color: #DDD;\n",
              "  }\n",
              "\n",
              "  [theme=dark] .colab-df-quickchart {\n",
              "      --bg-color: #3B4455;\n",
              "      --fill-color: #D2E3FC;\n",
              "      --hover-bg-color: #434B5C;\n",
              "      --hover-fill-color: #FFFFFF;\n",
              "      --disabled-bg-color: #3B4455;\n",
              "      --disabled-fill-color: #666;\n",
              "  }\n",
              "\n",
              "  .colab-df-quickchart {\n",
              "    background-color: var(--bg-color);\n",
              "    border: none;\n",
              "    border-radius: 50%;\n",
              "    cursor: pointer;\n",
              "    display: none;\n",
              "    fill: var(--fill-color);\n",
              "    height: 32px;\n",
              "    padding: 0;\n",
              "    width: 32px;\n",
              "  }\n",
              "\n",
              "  .colab-df-quickchart:hover {\n",
              "    background-color: var(--hover-bg-color);\n",
              "    box-shadow: 0 1px 2px rgba(60, 64, 67, 0.3), 0 1px 3px 1px rgba(60, 64, 67, 0.15);\n",
              "    fill: var(--button-hover-fill-color);\n",
              "  }\n",
              "\n",
              "  .colab-df-quickchart-complete:disabled,\n",
              "  .colab-df-quickchart-complete:disabled:hover {\n",
              "    background-color: var(--disabled-bg-color);\n",
              "    fill: var(--disabled-fill-color);\n",
              "    box-shadow: none;\n",
              "  }\n",
              "\n",
              "  .colab-df-spinner {\n",
              "    border: 2px solid var(--fill-color);\n",
              "    border-color: transparent;\n",
              "    border-bottom-color: var(--fill-color);\n",
              "    animation:\n",
              "      spin 1s steps(1) infinite;\n",
              "  }\n",
              "\n",
              "  @keyframes spin {\n",
              "    0% {\n",
              "      border-color: transparent;\n",
              "      border-bottom-color: var(--fill-color);\n",
              "      border-left-color: var(--fill-color);\n",
              "    }\n",
              "    20% {\n",
              "      border-color: transparent;\n",
              "      border-left-color: var(--fill-color);\n",
              "      border-top-color: var(--fill-color);\n",
              "    }\n",
              "    30% {\n",
              "      border-color: transparent;\n",
              "      border-left-color: var(--fill-color);\n",
              "      border-top-color: var(--fill-color);\n",
              "      border-right-color: var(--fill-color);\n",
              "    }\n",
              "    40% {\n",
              "      border-color: transparent;\n",
              "      border-right-color: var(--fill-color);\n",
              "      border-top-color: var(--fill-color);\n",
              "    }\n",
              "    60% {\n",
              "      border-color: transparent;\n",
              "      border-right-color: var(--fill-color);\n",
              "    }\n",
              "    80% {\n",
              "      border-color: transparent;\n",
              "      border-right-color: var(--fill-color);\n",
              "      border-bottom-color: var(--fill-color);\n",
              "    }\n",
              "    90% {\n",
              "      border-color: transparent;\n",
              "      border-bottom-color: var(--fill-color);\n",
              "    }\n",
              "  }\n",
              "</style>\n",
              "\n",
              "  <script>\n",
              "    async function quickchart(key) {\n",
              "      const quickchartButtonEl =\n",
              "        document.querySelector('#' + key + ' button');\n",
              "      quickchartButtonEl.disabled = true;  // To prevent multiple clicks.\n",
              "      quickchartButtonEl.classList.add('colab-df-spinner');\n",
              "      try {\n",
              "        const charts = await google.colab.kernel.invokeFunction(\n",
              "            'suggestCharts', [key], {});\n",
              "      } catch (error) {\n",
              "        console.error('Error during call to suggestCharts:', error);\n",
              "      }\n",
              "      quickchartButtonEl.classList.remove('colab-df-spinner');\n",
              "      quickchartButtonEl.classList.add('colab-df-quickchart-complete');\n",
              "    }\n",
              "    (() => {\n",
              "      let quickchartButtonEl =\n",
              "        document.querySelector('#df-c624cd7c-87e4-49e0-889a-4065988ce679 button');\n",
              "      quickchartButtonEl.style.display =\n",
              "        google.colab.kernel.accessAllowed ? 'block' : 'none';\n",
              "    })();\n",
              "  </script>\n",
              "</div>\n",
              "\n",
              "    </div>\n",
              "  </div>\n"
            ],
            "application/vnd.google.colaboratory.intrinsic+json": {
              "type": "dataframe",
              "variable_name": "train_df_shuffled",
              "summary": "{\n  \"name\": \"train_df_shuffled\",\n  \"rows\": 7613,\n  \"fields\": [\n    {\n      \"column\": \"id\",\n      \"properties\": {\n        \"dtype\": \"number\",\n        \"std\": 3137,\n        \"min\": 1,\n        \"max\": 10873,\n        \"num_unique_values\": 7613,\n        \"samples\": [\n          7061,\n          843,\n          10603\n        ],\n        \"semantic_type\": \"\",\n        \"description\": \"\"\n      }\n    },\n    {\n      \"column\": \"keyword\",\n      \"properties\": {\n        \"dtype\": \"category\",\n        \"num_unique_values\": 221,\n        \"samples\": [\n          \"blazing\",\n          \"emergency\",\n          \"rescue\"\n        ],\n        \"semantic_type\": \"\",\n        \"description\": \"\"\n      }\n    },\n    {\n      \"column\": \"location\",\n      \"properties\": {\n        \"dtype\": \"category\",\n        \"num_unique_values\": 3341,\n        \"samples\": [\n          \"617-BTOWN-BEATDOWN\",\n          \"Newcastle Upon Tyne, England\",\n          \"Federal Capital Territory\"\n        ],\n        \"semantic_type\": \"\",\n        \"description\": \"\"\n      }\n    },\n    {\n      \"column\": \"text\",\n      \"properties\": {\n        \"dtype\": \"string\",\n        \"num_unique_values\": 7503,\n        \"samples\": [\n          \"This week first responders and DART members are participating in a four day intensive Technical Large Animal... http://t.co/tL93AOd3ER\",\n          \"My mom is watching a show about bridges breaking/falling and the people on them drowning in their cars aka one of my biggest fears ????\",\n          \"@NickLee8  i went to school in a bombed out East End of London3 families to one house no bathroom outside loo &amp; poor so whats yr point\"\n        ],\n        \"semantic_type\": \"\",\n        \"description\": \"\"\n      }\n    },\n    {\n      \"column\": \"target\",\n      \"properties\": {\n        \"dtype\": \"number\",\n        \"std\": 0,\n        \"min\": 0,\n        \"max\": 1,\n        \"num_unique_values\": 2,\n        \"samples\": [\n          0,\n          1\n        ],\n        \"semantic_type\": \"\",\n        \"description\": \"\"\n      }\n    }\n  ]\n}"
            }
          },
          "metadata": {},
          "execution_count": 7
        }
      ]
    },
    {
      "cell_type": "markdown",
      "source": [
        "We will use 90% of the entire labelled dataset for training and 10% of it for testing purpose s"
      ],
      "metadata": {
        "id": "b-Sv0byYkCmc"
      }
    },
    {
      "cell_type": "code",
      "source": [
        "# split the data into 90% training and 10% testing\n",
        "X_train, X_test, y_train, y_test = train_test_split(train_df_shuffled[\"text\"].to_numpy(),\n",
        "                                                    train_df_shuffled[\"target\"].to_numpy(),\n",
        "                                                    test_size = 0.1,\n",
        "                                                    random_state=42)\n",
        "X_train.shape, y_train.shape"
      ],
      "metadata": {
        "colab": {
          "base_uri": "https://localhost:8080/"
        },
        "id": "Dfi2bVqVj7Pk",
        "outputId": "9a4279fa-1b3b-4446-8bc3-3cfd4d12d7fb"
      },
      "execution_count": null,
      "outputs": [
        {
          "output_type": "execute_result",
          "data": {
            "text/plain": [
              "((6851,), (6851,))"
            ]
          },
          "metadata": {},
          "execution_count": 8
        }
      ]
    },
    {
      "cell_type": "code",
      "source": [
        "X_train[0:5]"
      ],
      "metadata": {
        "colab": {
          "base_uri": "https://localhost:8080/"
        },
        "id": "uVZftdLQkPI-",
        "outputId": "25433116-1421-4852-8d15-4dfe7e3b1446"
      },
      "execution_count": null,
      "outputs": [
        {
          "output_type": "execute_result",
          "data": {
            "text/plain": [
              "array(['@mogacola @zamtriossu i screamed after hitting tweet',\n",
              "       'Imagine getting flattened by Kurt Zouma',\n",
              "       '@Gurmeetramrahim #MSGDoing111WelfareWorks Green S welfare force ke appx 65000 members har time disaster victim ki help ke liye tyar hai....',\n",
              "       \"@shakjn @C7 @Magnums im shaking in fear he's gonna hack the planet\",\n",
              "       'Somehow find you and I collide http://t.co/Ee8RpOahPk'],\n",
              "      dtype=object)"
            ]
          },
          "metadata": {},
          "execution_count": 9
        }
      ]
    },
    {
      "cell_type": "markdown",
      "source": [
        "`TextVectorization` is a preprocessing layer which maps text features to integer sequences. We also specify `lower_and_strip_punctuation` as the standardization method to apply to the input text. The text will be lowercased and all punctuation removed. Next we split on the whitespace, and pass `None` to `ngrams` so no ngrams are created."
      ],
      "metadata": {
        "id": "wfem4W-TkTec"
      }
    },
    {
      "cell_type": "code",
      "source": [
        "text_vectorizer = TextVectorization(max_tokens=None,\n",
        "                                    #remove punctuation and make letters lowercase\n",
        "                                    standardize=\"lower_and_strip_punctuation\",\n",
        "                                    #whitespace delimiter\n",
        "                                    split=\"whitespace\",\n",
        "                                    #dont group anything, every token alone\n",
        "                                    ngrams = None,\n",
        "                                    output_mode =\"int\",\n",
        "                                    #length of each sentence == length of largest sentence\n",
        "                                    output_sequence_length=None\n",
        "                                    )\n"
      ],
      "metadata": {
        "id": "LOWOnOoHkRGj"
      },
      "execution_count": null,
      "outputs": []
    },
    {
      "cell_type": "code",
      "source": [
        "# define hypermaters\n",
        "\n",
        "# number of wors in the vocab\n",
        "\n",
        "max_vocab_length = 10000\n",
        "# tweet averagelength\n",
        "max_length = 15"
      ],
      "metadata": {
        "id": "oth4QBNQkdci"
      },
      "execution_count": null,
      "outputs": []
    },
    {
      "cell_type": "markdown",
      "source": [
        "Below we define an `Embedding` layer with a vocabulary of 10000 a vector space of 128 dimensions in which words will be embedeed and input docuemnts that have 15 words each"
      ],
      "metadata": {
        "id": "8ZxRtHWAkozD"
      }
    },
    {
      "cell_type": "code",
      "source": [
        "embedding = layers.Embedding(input_dim=max_vocab_length,\n",
        "                             output_dim=128,\n",
        "                             input_length=max_length)"
      ],
      "metadata": {
        "id": "Q99dafKbkoJU"
      },
      "execution_count": null,
      "outputs": []
    },
    {
      "cell_type": "markdown",
      "source": [
        "The `hub.KerasLayer` wraps a savedmodel (or a legacy TF1 Hub format) as keras layer the `univeral-sentence-encoder` is an encoder of grater-than-word length text trained on a variety of data. it can be used for text classification, semantic similarity clustering and other natural language tasks"
      ],
      "metadata": {
        "id": "-YG9JXW8lD1O"
      }
    },
    {
      "cell_type": "markdown",
      "source": [
        "we can train a simple binary text classifier on top of any TF-hub module that can embed sentences the universal sentence encoder was partially trained with custom text classification tasks in mind these kinds of classifers can be trained to perform a wide variety of classification tasks ofter with a very small amound of labeled examples"
      ],
      "metadata": {
        "id": "KLlhjb6MlfE7"
      }
    },
    {
      "cell_type": "markdown",
      "source": [
        "More on this is found in the Tensorflow Hub [documentation](https://tfhub.dev/google/universal-sentence-encoder/4?utm_medium=Exinfluencer&utm_source=Exinfluencer&utm_content=000026UJ&utm_term=10006555&utm_id=NA-SkillsNetwork-Channel-SkillsNetworkCoursesIBMDeveloperSkillsNetworkML311Coursera747-2022-01-01)"
      ],
      "metadata": {
        "id": "lHtcDZfQlzHw"
      }
    },
    {
      "cell_type": "code",
      "source": [
        "encoder_layer = hub.KerasLayer(\"https://tfhub.dev/google/universal-sentence-encoder/4\",\n",
        "                               input_shape=[],\n",
        "                               dtype = tf.string,\n",
        "                               trainable=False,\n",
        "                               name=\"pretrained\")"
      ],
      "metadata": {
        "id": "k0SwJknSlC_0"
      },
      "execution_count": null,
      "outputs": []
    },
    {
      "cell_type": "markdown",
      "source": [
        "The `encoder_layer` will take as input variable length English text and the output is a 512 dimensonal vector.\n",
        "\n",
        "we will add a dense layer with unit 1 to create simple binary text classifier on top of any TF-Hub module. Next, we will compile and fit it using 20 epochs"
      ],
      "metadata": {
        "id": "1GpVRtwal2hh"
      }
    },
    {
      "cell_type": "code",
      "source": [
        "model = tf.keras.Sequential([\n",
        "                             encoder_layer,\n",
        "                             layers.Dense(1,activation=\"sigmoid\")], name=\"model_pretrained\")\n",
        "model.compile(loss=\"binary_crossentropy\",\n",
        "                     optimizer=\"adam\",\n",
        "                     metrics=[\"accuracy\"])\n",
        "\n",
        "model.fit(x=X_train,\n",
        "              y=y_train,\n",
        "              epochs=20,\n",
        "              validation_data=(X_test,y_test))"
      ],
      "metadata": {
        "colab": {
          "base_uri": "https://localhost:8080/"
        },
        "id": "tMyEK9zbl1ZM",
        "outputId": "fd9fb211-8df8-4481-ac92-4e7c1d561e7c"
      },
      "execution_count": null,
      "outputs": [
        {
          "output_type": "stream",
          "name": "stdout",
          "text": [
            "Epoch 1/20\n",
            "215/215 [==============================] - 11s 20ms/step - loss: 0.6473 - accuracy: 0.7395 - val_loss: 0.6121 - val_accuracy: 0.7743\n",
            "Epoch 2/20\n",
            "215/215 [==============================] - 2s 11ms/step - loss: 0.5798 - accuracy: 0.7892 - val_loss: 0.5623 - val_accuracy: 0.7835\n",
            "Epoch 3/20\n",
            "215/215 [==============================] - 4s 17ms/step - loss: 0.5369 - accuracy: 0.7945 - val_loss: 0.5307 - val_accuracy: 0.7861\n",
            "Epoch 4/20\n",
            "215/215 [==============================] - 3s 12ms/step - loss: 0.5084 - accuracy: 0.7987 - val_loss: 0.5096 - val_accuracy: 0.7874\n",
            "Epoch 5/20\n",
            "215/215 [==============================] - 2s 11ms/step - loss: 0.4884 - accuracy: 0.7997 - val_loss: 0.4948 - val_accuracy: 0.7848\n",
            "Epoch 6/20\n",
            "215/215 [==============================] - 2s 11ms/step - loss: 0.4741 - accuracy: 0.8009 - val_loss: 0.4849 - val_accuracy: 0.7887\n",
            "Epoch 7/20\n",
            "215/215 [==============================] - 2s 11ms/step - loss: 0.4632 - accuracy: 0.8022 - val_loss: 0.4776 - val_accuracy: 0.7953\n",
            "Epoch 8/20\n",
            "215/215 [==============================] - 4s 18ms/step - loss: 0.4544 - accuracy: 0.8040 - val_loss: 0.4718 - val_accuracy: 0.7953\n",
            "Epoch 9/20\n",
            "215/215 [==============================] - 2s 12ms/step - loss: 0.4475 - accuracy: 0.8069 - val_loss: 0.4673 - val_accuracy: 0.7966\n",
            "Epoch 10/20\n",
            "215/215 [==============================] - 2s 11ms/step - loss: 0.4419 - accuracy: 0.8086 - val_loss: 0.4638 - val_accuracy: 0.7966\n",
            "Epoch 11/20\n",
            "215/215 [==============================] - 2s 11ms/step - loss: 0.4371 - accuracy: 0.8091 - val_loss: 0.4608 - val_accuracy: 0.7966\n",
            "Epoch 12/20\n",
            "215/215 [==============================] - 2s 11ms/step - loss: 0.4332 - accuracy: 0.8104 - val_loss: 0.4584 - val_accuracy: 0.7953\n",
            "Epoch 13/20\n",
            "215/215 [==============================] - 4s 18ms/step - loss: 0.4297 - accuracy: 0.8113 - val_loss: 0.4566 - val_accuracy: 0.7966\n",
            "Epoch 14/20\n",
            "215/215 [==============================] - 2s 12ms/step - loss: 0.4268 - accuracy: 0.8143 - val_loss: 0.4552 - val_accuracy: 0.8018\n",
            "Epoch 15/20\n",
            "215/215 [==============================] - 2s 11ms/step - loss: 0.4243 - accuracy: 0.8137 - val_loss: 0.4538 - val_accuracy: 0.8018\n",
            "Epoch 16/20\n",
            "215/215 [==============================] - 2s 11ms/step - loss: 0.4220 - accuracy: 0.8149 - val_loss: 0.4525 - val_accuracy: 0.8018\n",
            "Epoch 17/20\n",
            "215/215 [==============================] - 2s 11ms/step - loss: 0.4199 - accuracy: 0.8158 - val_loss: 0.4516 - val_accuracy: 0.8031\n",
            "Epoch 18/20\n",
            "215/215 [==============================] - 4s 18ms/step - loss: 0.4180 - accuracy: 0.8165 - val_loss: 0.4507 - val_accuracy: 0.8018\n",
            "Epoch 19/20\n",
            "215/215 [==============================] - 3s 16ms/step - loss: 0.4164 - accuracy: 0.8162 - val_loss: 0.4501 - val_accuracy: 0.8031\n",
            "Epoch 20/20\n",
            "215/215 [==============================] - 3s 14ms/step - loss: 0.4148 - accuracy: 0.8165 - val_loss: 0.4493 - val_accuracy: 0.8018\n"
          ]
        },
        {
          "output_type": "execute_result",
          "data": {
            "text/plain": [
              "<keras.src.callbacks.History at 0x799a2c8c6bc0>"
            ]
          },
          "metadata": {},
          "execution_count": 14
        }
      ]
    },
    {
      "cell_type": "code",
      "source": [],
      "metadata": {
        "id": "ZWeQKiUZmJ4D"
      },
      "execution_count": null,
      "outputs": []
    }
  ]
}