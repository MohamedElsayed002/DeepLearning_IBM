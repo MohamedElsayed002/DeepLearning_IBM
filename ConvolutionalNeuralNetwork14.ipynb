{
  "nbformat": 4,
  "nbformat_minor": 0,
  "metadata": {
    "colab": {
      "provenance": [],
      "authorship_tag": "ABX9TyOzhpsEGLk5uuHqfo16Xbsy",
      "include_colab_link": true
    },
    "kernelspec": {
      "name": "python3",
      "display_name": "Python 3"
    },
    "language_info": {
      "name": "python"
    }
  },
  "cells": [
    {
      "cell_type": "markdown",
      "metadata": {
        "id": "view-in-github",
        "colab_type": "text"
      },
      "source": [
        "<a href=\"https://colab.research.google.com/github/MohamedElsayed002/DeepLearning_Study/blob/master/ConvolutionalNeuralNetwork14.ipynb\" target=\"_parent\"><img src=\"https://colab.research.google.com/assets/colab-badge.svg\" alt=\"Open In Colab\"/></a>"
      ]
    },
    {
      "cell_type": "markdown",
      "source": [
        "# Introduction to Model APIs in Keras\n",
        "\n",
        "\n",
        "## __Table of Contents__\n"
      ],
      "metadata": {
        "id": "4Q_afBW7AQ55"
      }
    },
    {
      "cell_type": "markdown",
      "source": [
        "<ol>\n",
        "    <li><a href=\"#Objectives\">Objectives</a></li>\n",
        "    <li>\n",
        "        <a href=\"#Setup\">Setup</a>\n",
        "        <ol>\n",
        "            <li><a href=\"#Installing-Required-Libraries\">Installing Required Libraries</a></li>\n",
        "            <li><a href=\"#Importing-Required-Libraries\">Importing Required Libraries</a></li>\n",
        "            <li><a href=\"#Defining-Helper-Functions\">Defining Helper Functions</a></li>\n",
        "        </ol>\n",
        "    </li>\n",
        "    <li><a href=\"#Types of Model APIs in Keras\">Types of Model APIs in Keras</a>\n",
        "        <ol>\n",
        "            <li><a href=\"#Task Definition\">Task Definition</a></li>\n",
        "            <li><a href=\"#The Sequential Model API\">The Sequential Model API</a></li>\n",
        "            <li><a href=\"#The Functional Model API\">The Functional Model API</a></li>\n",
        "            <li><a href=\"#Model Subclassing\">Model Subclassing</a></li>\n",
        "        </ol>\n",
        "    </li>\n"
      ],
      "metadata": {
        "id": "ayzE-uExAZ7C"
      }
    },
    {
      "cell_type": "markdown",
      "source": [
        "## Objectives\n",
        "\n",
        "After completing this lab you will be able to:\n",
        "\n",
        "- __Understand__ different use cases for the Sequential and Functional APIs\n",
        "- __Build__ custom models using sub-classing in Keras"
      ],
      "metadata": {
        "id": "6WGVl0raAb36"
      }
    },
    {
      "cell_type": "code",
      "execution_count": null,
      "metadata": {
        "colab": {
          "base_uri": "https://localhost:8080/"
        },
        "id": "ObguIaVx8D6x",
        "outputId": "93bd3b7d-a7f7-4b9c-fa15-a37ec18ce2ee"
      },
      "outputs": [
        {
          "output_type": "stream",
          "name": "stdout",
          "text": [
            "2.15.0\n"
          ]
        }
      ],
      "source": [
        "import numpy as np\n",
        "from matplotlib import pyplot as plt\n",
        "import pandas as pd\n",
        "import numpy as np\n",
        "import keras\n",
        "import tensorflow as tf\n",
        "print(tf.__version__)\n",
        "from sklearn import preprocessing\n",
        "from tensorflow.keras.utils import to_categorical\n",
        "from tensorflow.keras import layers\n",
        "from keras.models import Sequential\n",
        "from keras.layers import Dense\n",
        "# from keras.wrappers.scikit_learn import KerasClassifier\n",
        "from sklearn.model_selection import cross_val_score\n",
        "from sklearn.preprocessing import LabelEncoder\n",
        "from sklearn.model_selection import StratifiedKFold\n",
        "from sklearn.preprocessing import StandardScaler\n",
        "from sklearn.pipeline import Pipeline\n",
        "from sklearn.utils import shuffle\n",
        "from sklearn import metrics\n",
        "from sklearn.model_selection import train_test_split\n",
        "seed = 7\n",
        "np.random.seed(seed)"
      ]
    },
    {
      "cell_type": "markdown",
      "source": [
        "## Types of Model APIs in Keras\n",
        "\n",
        "There are three main ways of creating models in Keras\n",
        "\n",
        "* **The Sequential Model**: This is a straightforward way of stacking layers but is limited to having a single-input and single-output stack of layers.\n",
        "* **The Functional API**: This can support arbitrary model architectures, and is more flexible in enabling complex implementations.\n",
        "\n",
        "* **Model subclassing**: This is a way of implementing models from scratch. This is mainly used for out-of-the-box research use cases.\n",
        "\n"
      ],
      "metadata": {
        "id": "7BoqKnxRBG2q"
      }
    },
    {
      "cell_type": "markdown",
      "source": [
        "In the rest of the lab, we will go through all of these ways of creating models, and walk through a use case for implementing and training each of these model architectures in Keras and Tensorflow."
      ],
      "metadata": {
        "id": "_0iy9jqhBUtB"
      }
    },
    {
      "cell_type": "markdown",
      "source": [
        "# Task Definition\n",
        "\n",
        "\n",
        "In this lab, we will be performing a simple classification task using the 'Sonar' dataset from [UCI](http://archive.ics.uci.edu/ml/datasets/connectionist+bench+\\(sonar,+mines+vs.+rocks\\)?utm_medium=Exinfluencer&utm_source=Exinfluencer&utm_content=000026UJ&utm_term=10006555&utm_id=NA-SkillsNetwork-Channel-SkillsNetworkCoursesIBMDeveloperSkillsNetworkML311Coursera747-2022-01-01).\n",
        "\n",
        "\n",
        "> The label associated with each record contains the letter \"R\" if the object is a rock and \"M\" if it is a mine (metal cylinder). The numbers in the labels are in increasing order of aspect angle, but they do not encode the angle directly.\n",
        "\n"
      ],
      "metadata": {
        "id": "SQmk8gqwBWhZ"
      }
    },
    {
      "cell_type": "code",
      "source": [
        "dataframe = pd.read_csv(\"https://cf-courses-data.s3.us.cloud-object-storage.appdomain.cloud/IBMDeveloperSkillsNetwork-ML311-Coursera/labs/Module1/L1/data/sonar.csv\", header=None)\n",
        "\n",
        "dataset = dataframe.values\n",
        "\n",
        "X = dataset[:, 0:60].astype(float)\n",
        "y = dataset[:, 60]\n",
        "\n",
        "# encode labels\n",
        "le = LabelEncoder()\n",
        "encoded_y = le.fit(y).transform(y)"
      ],
      "metadata": {
        "id": "s8iYzu_xBCC9"
      },
      "execution_count": null,
      "outputs": []
    },
    {
      "cell_type": "markdown",
      "source": [
        "Now, we will split the dataset into a training and testing set with a, 80:20 ratio."
      ],
      "metadata": {
        "id": "0j-UVt2yBg2h"
      }
    },
    {
      "cell_type": "code",
      "source": [
        "X_train, X_test, y_train, y_test = train_test_split(X, encoded_y, test_size=0.20, random_state=42)"
      ],
      "metadata": {
        "id": "4ZOgy7B5BdSm"
      },
      "execution_count": null,
      "outputs": []
    },
    {
      "cell_type": "markdown",
      "source": [
        "# The Sequential Model API\n",
        "\n",
        "The Sequential model API groups a linear stack of layers into a `tf.keras.Model`. It doesn't allow you to create models that share layers, have branches, multiple inputs, or multiple outputs. It does provide training and inference features on this model.  \n",
        "\n",
        "<img src=\"https://cf-courses-data.s3.us.cloud-object-storage.appdomain.cloud/IBMDeveloperSkillsNetwork-ML311-Coursera/labs/Module1/L1/images/sequential_model.png\" alt=\"The Sequential model API\" width=\"50%\">\n"
      ],
      "metadata": {
        "id": "AsJkSWjPBxAJ"
      }
    },
    {
      "cell_type": "markdown",
      "source": [
        "As you'll see,using Sequential API is simple and straightforwared but is only appropriate for simple, more straightforwared tasks, Later in this notebook you'll spend some time building with a more flexible, powerful alternative: The functional API."
      ],
      "metadata": {
        "id": "DwuByGyEB0Qy"
      }
    },
    {
      "cell_type": "markdown",
      "source": [
        "# Create the Sequential Model\n",
        "\n",
        "We start off by initializing the model as an instance of the Sequential class, like so: `model = Sequential()`. We follow this by adding layers, normalization layers, methods, softmax classifiers, and so on to the class, one at a time, using `model.add()`. This can be used to add different types of layer instances on top of the layer stack. Similarly, we can use `model.pop()` to remove the last layer of the model.\n",
        "\n",
        "Typically, the first layer receives an `input_shape` argument. This is because, in Keras, the shape of the weights is based on the shape of the inputs. The weights are only created when the model first sees some input data. After that, we can omit this argument and automate the inference of the input shape.\n",
        "\n",
        "Note that if your model is non-linear or contains layers with multiple inputs or outputs, a Sequential model wouldn't be the right choice."
      ],
      "metadata": {
        "id": "y-3vsb0nCIkq"
      }
    },
    {
      "cell_type": "code",
      "source": [
        "def baseline_model():\n",
        "    model = Sequential()\n",
        "    model.add(Dense(60, activation='relu', input_shape=(60,)))\n",
        "    model.add(Dense(60, activation='relu'))\n",
        "    model.add(Dense(1, activation='sigmoid'))\n",
        "    model.compile(optimizer='adam',\n",
        "              loss='binary_crossentropy',\n",
        "              metrics=['accuracy'])\n",
        "\n",
        "    return model\n"
      ],
      "metadata": {
        "id": "49HK5hdaBu1y"
      },
      "execution_count": null,
      "outputs": []
    },
    {
      "cell_type": "code",
      "source": [
        "estimator = baseline_model()\n",
        "estimator.summary()"
      ],
      "metadata": {
        "colab": {
          "base_uri": "https://localhost:8080/"
        },
        "id": "-99JT5k2C8sX",
        "outputId": "374b293f-b4f3-4b39-8a73-17db4e6e1433"
      },
      "execution_count": null,
      "outputs": [
        {
          "output_type": "stream",
          "name": "stdout",
          "text": [
            "Model: \"sequential_1\"\n",
            "_________________________________________________________________\n",
            " Layer (type)                Output Shape              Param #   \n",
            "=================================================================\n",
            " dense_3 (Dense)             (None, 60)                3660      \n",
            "                                                                 \n",
            " dense_4 (Dense)             (None, 60)                3660      \n",
            "                                                                 \n",
            " dense_5 (Dense)             (None, 1)                 61        \n",
            "                                                                 \n",
            "=================================================================\n",
            "Total params: 7381 (28.83 KB)\n",
            "Trainable params: 7381 (28.83 KB)\n",
            "Non-trainable params: 0 (0.00 Byte)\n",
            "_________________________________________________________________\n"
          ]
        }
      ]
    },
    {
      "cell_type": "markdown",
      "source": [
        "# Train and Evaluate the Model\n",
        "\n",
        "After creating the model, compling it with you choice of optimizer and loss function, and doing a sanity check on its contents, you are now ready to build\n",
        "\n",
        "Simply call the `.fit()` to train the model"
      ],
      "metadata": {
        "id": "z_w_k4s8DGax"
      }
    },
    {
      "cell_type": "code",
      "source": [
        "estimator.fit(X_train, y_train, epochs=10, batch_size=16)"
      ],
      "metadata": {
        "colab": {
          "base_uri": "https://localhost:8080/"
        },
        "id": "fzRfBYNkDBvv",
        "outputId": "aa841680-d64c-4863-d129-10baccf76194"
      },
      "execution_count": null,
      "outputs": [
        {
          "output_type": "stream",
          "name": "stdout",
          "text": [
            "Epoch 1/10\n",
            "11/11 [==============================] - 1s 3ms/step - loss: 0.6850 - accuracy: 0.5361\n",
            "Epoch 2/10\n",
            "11/11 [==============================] - 0s 3ms/step - loss: 0.6509 - accuracy: 0.6325\n",
            "Epoch 3/10\n",
            "11/11 [==============================] - 0s 3ms/step - loss: 0.6259 - accuracy: 0.7590\n",
            "Epoch 4/10\n",
            "11/11 [==============================] - 0s 3ms/step - loss: 0.6058 - accuracy: 0.7530\n",
            "Epoch 5/10\n",
            "11/11 [==============================] - 0s 3ms/step - loss: 0.5862 - accuracy: 0.7229\n",
            "Epoch 6/10\n",
            "11/11 [==============================] - 0s 3ms/step - loss: 0.5660 - accuracy: 0.7651\n",
            "Epoch 7/10\n",
            "11/11 [==============================] - 0s 3ms/step - loss: 0.5491 - accuracy: 0.7771\n",
            "Epoch 8/10\n",
            "11/11 [==============================] - 0s 3ms/step - loss: 0.5380 - accuracy: 0.7349\n",
            "Epoch 9/10\n",
            "11/11 [==============================] - 0s 3ms/step - loss: 0.5093 - accuracy: 0.7892\n",
            "Epoch 10/10\n",
            "11/11 [==============================] - 0s 4ms/step - loss: 0.5024 - accuracy: 0.7470\n"
          ]
        },
        {
          "output_type": "execute_result",
          "data": {
            "text/plain": [
              "<keras.src.callbacks.History at 0x7b4aab42e350>"
            ]
          },
          "metadata": {},
          "execution_count": 12
        }
      ]
    },
    {
      "cell_type": "markdown",
      "source": [
        "After that completes, just use `.predict()` to evaluate against your test set. In this case, the `accuracy` will be used as the metric"
      ],
      "metadata": {
        "id": "1ow47XgnDpgr"
      }
    },
    {
      "cell_type": "code",
      "source": [
        "y_pred = estimator.predict(X_test)\n",
        "y_pred = [1 if x >= 0.5 else 0 for x in y_pred]\n",
        "metrics.accuracy_score(y_pred, y_test)"
      ],
      "metadata": {
        "colab": {
          "base_uri": "https://localhost:8080/"
        },
        "id": "gv1qOFwlDcK1",
        "outputId": "03417a10-e537-4948-9853-c39bcf655274"
      },
      "execution_count": null,
      "outputs": [
        {
          "output_type": "stream",
          "name": "stdout",
          "text": [
            "2/2 [==============================] - 0s 9ms/step\n"
          ]
        },
        {
          "output_type": "execute_result",
          "data": {
            "text/plain": [
              "0.8333333333333334"
            ]
          },
          "metadata": {},
          "execution_count": 13
        }
      ]
    },
    {
      "cell_type": "markdown",
      "source": [
        "# The Functional Model API\n",
        "\n",
        "The Sequential class in Keras is typically used for implementing basic neural network architectures. The `Functional` class is typically preferred by most deep learning practitioners as it is more flexible and enables more complex implementations. It allows you to have non-linear topologies, different layers, multiple inputs and outputs. You can easily define branches in your architectures and easily share layers inside architectures. A Functional model is a graph where the nodes of the layers can connect in many more ways than one.\n",
        "\n",
        "<img src=\"https://cf-courses-data.s3.us.cloud-object-storage.appdomain.cloud/IBMDeveloperSkillsNetwork-ML311-Coursera/labs/Module1/L1/images/functional_model.png\" alt=\"The Sequential model API\" width=\"50%\">\n",
        "\n",
        "\n",
        "All models that are implemented in `Sequential()` can easily be implemented in `Functional()`. Some examples of models that are implemented in `Functional()` include ResNet, GoogleNet, Xception."
      ],
      "metadata": {
        "id": "i8DjkSWREBux"
      }
    },
    {
      "cell_type": "markdown",
      "source": [
        "Both `Sequential()` and `Functioanl()` use the same training, evaluation, and inference functions\n",
        "\n",
        "The model class offers a build in trainig loop through the `.fit()` method, and a build-in evaluation loop using the `.evaluate()` method.\n",
        "\n",
        "The following is a simple example of fitting and evaluating a model on MNIST test data:\n",
        "\n",
        "We will start by loading the dataset directly using Keras\n"
      ],
      "metadata": {
        "id": "aqpQsG8JE9-Q"
      }
    },
    {
      "cell_type": "code",
      "source": [
        "def functional_model():\n",
        "    inputs = keras.Input(shape=(60,))\n",
        "    layer1 = Dense(60, activation='relu')(inputs)\n",
        "    layer2 = Dense(60, activation='relu')(layer1)\n",
        "    outputs = Dense(1, activation='sigmoid')(layer2)\n",
        "\n",
        "    model = keras.Model(inputs, outputs)\n",
        "\n",
        "    # Compile model, write code below\n",
        "    model.compile(optimizer='adam',\n",
        "              loss='binary_crossentropy',\n",
        "              metrics=['accuracy'])\n",
        "\n",
        "    return model"
      ],
      "metadata": {
        "id": "Y53LggUFD91z"
      },
      "execution_count": null,
      "outputs": []
    },
    {
      "cell_type": "code",
      "source": [
        "functional_estimator=functional_model()\n",
        "estimator.summary()"
      ],
      "metadata": {
        "colab": {
          "base_uri": "https://localhost:8080/"
        },
        "id": "Hi-eM_GzF_lU",
        "outputId": "9102e840-bb36-44aa-fa61-2f51250f776b"
      },
      "execution_count": null,
      "outputs": [
        {
          "output_type": "stream",
          "name": "stdout",
          "text": [
            "Model: \"sequential_1\"\n",
            "_________________________________________________________________\n",
            " Layer (type)                Output Shape              Param #   \n",
            "=================================================================\n",
            " dense_3 (Dense)             (None, 60)                3660      \n",
            "                                                                 \n",
            " dense_4 (Dense)             (None, 60)                3660      \n",
            "                                                                 \n",
            " dense_5 (Dense)             (None, 1)                 61        \n",
            "                                                                 \n",
            "=================================================================\n",
            "Total params: 7381 (28.83 KB)\n",
            "Trainable params: 7381 (28.83 KB)\n",
            "Non-trainable params: 0 (0.00 Byte)\n",
            "_________________________________________________________________\n"
          ]
        }
      ]
    },
    {
      "cell_type": "code",
      "source": [
        "functional_estimator.fit(X_train, y_train, epochs=10, batch_size=16)"
      ],
      "metadata": {
        "colab": {
          "base_uri": "https://localhost:8080/"
        },
        "id": "eMJiyuSpGGa4",
        "outputId": "0baf57ac-0789-4944-e32c-b9964f729b8f"
      },
      "execution_count": null,
      "outputs": [
        {
          "output_type": "stream",
          "name": "stdout",
          "text": [
            "Epoch 1/10\n",
            "11/11 [==============================] - 2s 6ms/step - loss: 0.6890 - accuracy: 0.5301\n",
            "Epoch 2/10\n",
            "11/11 [==============================] - 0s 5ms/step - loss: 0.6706 - accuracy: 0.5964\n",
            "Epoch 3/10\n",
            "11/11 [==============================] - 0s 7ms/step - loss: 0.6622 - accuracy: 0.6446\n",
            "Epoch 4/10\n",
            "11/11 [==============================] - 0s 8ms/step - loss: 0.6418 - accuracy: 0.6506\n",
            "Epoch 5/10\n",
            "11/11 [==============================] - 0s 5ms/step - loss: 0.6291 - accuracy: 0.6627\n",
            "Epoch 6/10\n",
            "11/11 [==============================] - 0s 8ms/step - loss: 0.6121 - accuracy: 0.7108\n",
            "Epoch 7/10\n",
            "11/11 [==============================] - 0s 5ms/step - loss: 0.5942 - accuracy: 0.7229\n",
            "Epoch 8/10\n",
            "11/11 [==============================] - 0s 11ms/step - loss: 0.5770 - accuracy: 0.7470\n",
            "Epoch 9/10\n",
            "11/11 [==============================] - 0s 5ms/step - loss: 0.5512 - accuracy: 0.7831\n",
            "Epoch 10/10\n",
            "11/11 [==============================] - 0s 8ms/step - loss: 0.5415 - accuracy: 0.7169\n"
          ]
        },
        {
          "output_type": "execute_result",
          "data": {
            "text/plain": [
              "<keras.src.callbacks.History at 0x7b4aa93d46a0>"
            ]
          },
          "metadata": {},
          "execution_count": 17
        }
      ]
    },
    {
      "cell_type": "code",
      "source": [
        "y_pred = functional_estimator.predict(X_test)\n",
        "y_pred = [1 if x >= 0.5 else 0 for x in y_pred]\n",
        "metrics.accuracy_score(y_pred, y_test)"
      ],
      "metadata": {
        "colab": {
          "base_uri": "https://localhost:8080/"
        },
        "id": "WFiZqD1TGId7",
        "outputId": "3e069980-a834-46c3-ad76-16644cdfd209"
      },
      "execution_count": null,
      "outputs": [
        {
          "output_type": "stream",
          "name": "stdout",
          "text": [
            "2/2 [==============================] - 0s 6ms/step\n"
          ]
        },
        {
          "output_type": "execute_result",
          "data": {
            "text/plain": [
              "0.8571428571428571"
            ]
          },
          "metadata": {},
          "execution_count": 18
        }
      ]
    },
    {
      "cell_type": "markdown",
      "source": [
        "# Model Subclassing\n",
        "\n",
        "Next, we will learn how to make new models and classes using model sub-classing this method is more flexible and can be used to implement out-of-box models, but this comes at a cost it is a lot harder to utilize than `Sequential()` and `Functional()` API\n",
        "\n",
        "<img src=\"https://cf-courses-data.s3.us.cloud-object-storage.appdomain.cloud/IBMDeveloperSkillsNetwork-ML311-Coursera/labs/Module1/L1/images/subclassing.png\" alt=\"The Sequential model API\" width=\"30%\">\n",
        "\n",
        "\n",
        "We will implement a custom model that performs a type of convolution or pooling. In the following example, we will implement a Sequential model but define it with multiple inputs and outputs"
      ],
      "metadata": {
        "id": "l26t-XRiGqLh"
      }
    },
    {
      "cell_type": "code",
      "source": [
        "class MyModel(tf.keras.Model):\n",
        "    def __init__(self):\n",
        "        super().__init__()\n",
        "        self.dense1 = Dense(60, activation = 'relu')\n",
        "        self.dense2 = Dense(60, activation = 'relu')\n",
        "        self.dense3 = Dense(1, activation = 'sigmoid')\n",
        "\n",
        "    def call(self, inputs):\n",
        "        x = self.dense1(inputs)\n",
        "        x = self.dense2(x)\n",
        "        return self.dense3(x)\n",
        "\n",
        "def subclass_model():\n",
        "    inputs = keras.Input(shape=(60,))\n",
        "    mymodel = MyModel()\n",
        "    outputs = mymodel.call(inputs)\n",
        "\n",
        "    model = keras.Model(inputs, outputs)\n",
        "    model.compile(optimizer='adam',\n",
        "              loss='binary_crossentropy',\n",
        "              metrics=['accuracy'])\n",
        "\n",
        "    return model"
      ],
      "metadata": {
        "id": "GkY271ErGpB2"
      },
      "execution_count": null,
      "outputs": []
    },
    {
      "cell_type": "code",
      "source": [
        "subclass_estimator = subclass_model()\n",
        "subclass_estimator.fit(X_train, y_train, epochs=15, batch_size=16)\n"
      ],
      "metadata": {
        "colab": {
          "base_uri": "https://localhost:8080/"
        },
        "id": "t5xzx_rwHMDV",
        "outputId": "49058b8b-0056-4e66-d64e-f11ff4430405"
      },
      "execution_count": null,
      "outputs": [
        {
          "output_type": "stream",
          "name": "stdout",
          "text": [
            "Epoch 1/15\n",
            "11/11 [==============================] - 4s 8ms/step - loss: 0.7026 - accuracy: 0.5301\n",
            "Epoch 2/15\n",
            "11/11 [==============================] - 0s 6ms/step - loss: 0.6745 - accuracy: 0.6145\n",
            "Epoch 3/15\n",
            "11/11 [==============================] - 0s 8ms/step - loss: 0.6601 - accuracy: 0.7108\n",
            "Epoch 4/15\n",
            "11/11 [==============================] - 0s 10ms/step - loss: 0.6372 - accuracy: 0.7651\n",
            "Epoch 5/15\n",
            "11/11 [==============================] - 0s 10ms/step - loss: 0.6224 - accuracy: 0.6867\n",
            "Epoch 6/15\n",
            "11/11 [==============================] - 0s 9ms/step - loss: 0.5911 - accuracy: 0.7651\n",
            "Epoch 7/15\n",
            "11/11 [==============================] - 0s 8ms/step - loss: 0.5694 - accuracy: 0.7651\n",
            "Epoch 8/15\n",
            "11/11 [==============================] - 0s 8ms/step - loss: 0.5428 - accuracy: 0.7590\n",
            "Epoch 9/15\n",
            "11/11 [==============================] - 0s 8ms/step - loss: 0.5128 - accuracy: 0.7892\n",
            "Epoch 10/15\n",
            "11/11 [==============================] - 0s 8ms/step - loss: 0.4900 - accuracy: 0.8012\n",
            "Epoch 11/15\n",
            "11/11 [==============================] - 0s 8ms/step - loss: 0.4685 - accuracy: 0.8193\n",
            "Epoch 12/15\n",
            "11/11 [==============================] - 0s 9ms/step - loss: 0.4647 - accuracy: 0.7952\n",
            "Epoch 13/15\n",
            "11/11 [==============================] - 0s 10ms/step - loss: 0.4438 - accuracy: 0.8072\n",
            "Epoch 14/15\n",
            "11/11 [==============================] - 0s 9ms/step - loss: 0.4278 - accuracy: 0.8133\n",
            "Epoch 15/15\n",
            "11/11 [==============================] - 0s 8ms/step - loss: 0.4209 - accuracy: 0.8253\n"
          ]
        },
        {
          "output_type": "execute_result",
          "data": {
            "text/plain": [
              "<keras.src.callbacks.History at 0x7b4aa99cdb40>"
            ]
          },
          "metadata": {},
          "execution_count": 20
        }
      ]
    },
    {
      "cell_type": "code",
      "source": [
        "y_pred = subclass_estimator.predict(X)\n",
        "y_pred = [1 if x >= 0.5 else 0 for x in y_pred]\n",
        "metrics.accuracy_score(y_pred, encoded_y)"
      ],
      "metadata": {
        "colab": {
          "base_uri": "https://localhost:8080/"
        },
        "id": "6Sy9oMe9HOJ9",
        "outputId": "473586e2-7ae3-4a2f-f4e9-e082c5cd976d"
      },
      "execution_count": null,
      "outputs": [
        {
          "output_type": "stream",
          "name": "stdout",
          "text": [
            "7/7 [==============================] - 0s 3ms/step\n"
          ]
        },
        {
          "output_type": "execute_result",
          "data": {
            "text/plain": [
              "0.8557692307692307"
            ]
          },
          "metadata": {},
          "execution_count": 21
        }
      ]
    },
    {
      "cell_type": "code",
      "source": [],
      "metadata": {
        "id": "uRvq-6asHTce"
      },
      "execution_count": null,
      "outputs": []
    }
  ]
}