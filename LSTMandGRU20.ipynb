{
  "nbformat": 4,
  "nbformat_minor": 0,
  "metadata": {
    "colab": {
      "provenance": [],
      "authorship_tag": "ABX9TyO/KwwssTZtYLTNM+qmwTBR",
      "include_colab_link": true
    },
    "kernelspec": {
      "name": "python3",
      "display_name": "Python 3"
    },
    "language_info": {
      "name": "python"
    }
  },
  "cells": [
    {
      "cell_type": "markdown",
      "metadata": {
        "id": "view-in-github",
        "colab_type": "text"
      },
      "source": [
        "<a href=\"https://colab.research.google.com/github/MohamedElsayed002/DeepLearning_IBM/blob/master/LSTMandGRU20.ipynb\" target=\"_parent\"><img src=\"https://colab.research.google.com/assets/colab-badge.svg\" alt=\"Open In Colab\"/></a>"
      ]
    },
    {
      "cell_type": "markdown",
      "source": [
        "# LSTM and GRU Demo\n",
        "\n",
        "Vanilla RNNs work well when dealing with short-term dependencies but suffer from vansihing gradient descent problem when it comes to long-term context dependencies. this is because some information is lost at each time step when traversing the layers. Gated RNNs have units that are designed ti forget and to update relevant information and can provide a good solution to this problem. In this lab,we will talk about two types of gated `RNNs` : `LSTM` and `GRUs`"
      ],
      "metadata": {
        "id": "YHGZk6yNDBxY"
      }
    },
    {
      "cell_type": "markdown",
      "source": [
        "## __Table of Contents__\n",
        "\n",
        "<ol>\n",
        "    <li><a href=\"#Objectives\">Objectives</a></li>\n",
        "    <li>\n",
        "        <a href=\"#Setup\">Setup</a>\n",
        "        <ol>\n",
        "            <li><a href=\"#Installing-Required-Libraries\">Installing Required Libraries</a></li>\n",
        "            <li><a href=\"#Importing-Required-Libraries\">Importing Required Libraries</a></li>\n",
        "            <li><a href=\"#Defining-Helper-Functions\">Defining Helper Functions</a></li>\n",
        "        </ol>\n",
        "    </li>\n",
        "    <li>\n",
        "        <a href=\"#Gated-RNNs\">Gated RNNs</a>\n",
        "        <ol>\n",
        "            <li><a href=\"#LSTM\">LSTM</a></li>\n",
        "            <li><a href=\"#GRU\">GRU</a></li>\n",
        "            <li><a href=\"#LSTM in Keras: Time-series forecasting\">LSTM in Keras: Time-series forecasting</a></li>\n",
        "            <li><a href=\"#Exercise 1: GRU in Keras - Reuters classification\">Exercise 1: GRU in Keras - Reuters classification</a></li>\n",
        "        </ol>\n",
        "    </li>\n"
      ],
      "metadata": {
        "id": "F-URJmoVD4DC"
      }
    },
    {
      "cell_type": "markdown",
      "source": [
        "## Objectives\n",
        "\n",
        "After completing this lab,you will be able to:\n",
        "\n",
        " - Explain the fundamental components of LSTM and GRU\n",
        " - Implement LSTM and GRU in Keras for various tasks and applications"
      ],
      "metadata": {
        "id": "IdROwci-D55H"
      }
    },
    {
      "cell_type": "code",
      "execution_count": null,
      "metadata": {
        "colab": {
          "base_uri": "https://localhost:8080/"
        },
        "id": "UuXpNFqWC01t",
        "outputId": "86d1861e-3b91-4d18-a94c-c88428e270bb"
      },
      "outputs": [
        {
          "output_type": "stream",
          "name": "stdout",
          "text": [
            "2.15.0\n"
          ]
        }
      ],
      "source": [
        "import numpy as np\n",
        "import pandas as pd\n",
        "import math\n",
        "import matplotlib.pyplot as plt\n",
        "import seaborn as sns\n",
        "%matplotlib inline\n",
        "\n",
        "import tensorflow as tf\n",
        "print(tf. __version__)\n",
        "\n",
        "from tensorflow import keras\n",
        "from tensorflow.keras import layers\n",
        "from keras.preprocessing.text import Tokenizer\n",
        "from tensorflow.keras.losses import mean_squared_error\n",
        "from tensorflow.keras.models import Sequential\n",
        "from tensorflow.keras.layers import SimpleRNN, Dense, Embedding,Masking,LSTM, GRU, Conv1D, Dropout\n",
        "from tensorflow.keras.optimizers import Adam\n",
        "from tensorflow.keras.preprocessing.sequence import TimeseriesGenerator\n",
        "from sklearn.preprocessing import MinMaxScaler\n",
        "\n",
        "from keras.preprocessing import sequence\n",
        "from keras.models import Sequential\n",
        "from keras.layers import Dense, Dropout, Embedding, SimpleRNN\n",
        "from tensorflow.keras.datasets import reuters\n",
        "from keras.utils import pad_sequences\n",
        "\n",
        "\n",
        "sns.set_context('notebook')\n",
        "sns.set_style('white')\n",
        "np.random.seed(2024)"
      ]
    },
    {
      "cell_type": "markdown",
      "source": [
        "# Gated RNN\n",
        "\n",
        "The two types of gated RNNs we will be studying in this lab are Long short Term Memories (LSTM) and Gated Recurrent units (GRU). GRU is simpler than LSTM. it's much faster and optimizes quicker\n",
        "\n",
        "# LSTM\n",
        "\n",
        "the key idea of LSTMS is to have two state representations the hidden state `h` and the cell state C (instead of S)\n",
        "\n",
        "An LSTM cell has a complex internal structure that makes it able\n",
        "\n",
        "- learn recognize an important input\n",
        "- store it in the long-term state\n",
        "- preserve it for as long as it is needed\n",
        "- extract it whenever it is needed\n",
        "\n",
        "<img src=\"https://wiki.math.uwaterloo.ca/statwiki/images/thumb/9/98/LSTM.png/800px-LSTM.png\" alt=\"Source: http://colah.github.io/posts/2015-08-Understanding-LSTMs/\" style=\"width: 500px;\">\n",
        "\n",
        "Source: http://colah.github.io/posts/2015-08-Understanding-LSTMs/\n",
        "\n",
        "LSTM has the ability to remove or add information to the cell state, carefully regulated by structures called gates, which are a way to optionally let information through. There are three gates in an LSTM; forget gate, input gate, and output gate. They are composed out of a *sigmoid* neural net layer. Sigmoid-based layers output values near either 0 (gate closed) or 1 (gate open).\n"
      ],
      "metadata": {
        "id": "jOfAHL65FOSM"
      }
    },
    {
      "cell_type": "markdown",
      "source": [
        "# GRU\n",
        "\n",
        "GRU is a simplification of the LSTM cell that performs similarly well while being faster to train. it has a single update gate controller that manages both forget and imput gates. whenever one is open, the other is closed. there is no output gate.the reset gate controls which part of the previous state is shown to the main layer. the resulting model is simpler than standard LSTM models.GRUs have fewer parameters and thus may train a bit faster or need less data to generalize\n",
        "\n",
        "\n",
        "<img src=\"https://github.com/DataScienceUB/DeepLearningMaster2019/blob/master/images/gru.png?raw=1\" alt=\"Source: http://colah.github.io/posts/2015-08-Understanding-LSTMs/\" style=\"width: 300px;\">"
      ],
      "metadata": {
        "id": "LgDv45gNGSoz"
      }
    },
    {
      "cell_type": "markdown",
      "source": [
        "### LSTM in Keras: Time-series forecasting\n",
        "\n",
        "\n",
        "Next, we will build a simple `LSTM` model to solve a many-to-one time-series prediction problem on a simulated sine wave.\n",
        "\n",
        "Let's first start by generating some sine waves using `np.sin()` function"
      ],
      "metadata": {
        "id": "1jZaa_t4G2ZQ"
      }
    },
    {
      "cell_type": "code",
      "source": [
        "x = np.linspace(0,50,501)\n",
        "y = np.sin(x)\n",
        "plt.plot(x,y)"
      ],
      "metadata": {
        "colab": {
          "base_uri": "https://localhost:8080/",
          "height": 452
        },
        "id": "2wn-oOU8FGQX",
        "outputId": "7e42a954-f1ea-4808-a96f-2bd209859397"
      },
      "execution_count": null,
      "outputs": [
        {
          "output_type": "execute_result",
          "data": {
            "text/plain": [
              "[<matplotlib.lines.Line2D at 0x781bdd5a6140>]"
            ]
          },
          "metadata": {},
          "execution_count": 3
        },
        {
          "output_type": "display_data",
          "data": {
            "text/plain": [
              "<Figure size 640x480 with 1 Axes>"
            ],
            "image/png": "[encoded data removed]"
          },
          "metadata": {}
        }
      ]
    },
    {
      "cell_type": "code",
      "source": [
        "# We convert this into a dataframe for convenience\n",
        "\n",
        "df = pd.DataFrame(data=y,index=x,columns=['Sine'])"
      ],
      "metadata": {
        "id": "_702GY0kHXEc"
      },
      "execution_count": null,
      "outputs": []
    },
    {
      "cell_type": "markdown",
      "source": [
        "We are dealing with a univariate time series, so we have a total of one feature. we will be using 10% of the simulated data for testing"
      ],
      "metadata": {
        "id": "tjUpl55yHzim"
      }
    },
    {
      "cell_type": "code",
      "source": [
        "# Percentage of data used for testing\n",
        "test_percent = 0.1\n",
        "# number of features\n",
        "n_features = 1\n",
        "# sequence length\n",
        "length = 50\n",
        "# batch size\n",
        "batch_size = 1"
      ],
      "metadata": {
        "id": "simYdwM-HnJP"
      },
      "execution_count": null,
      "outputs": []
    },
    {
      "cell_type": "markdown",
      "source": [
        "Let us now create a training and testing dataset to train and test our model on."
      ],
      "metadata": {
        "id": "z_pDgUvCIJZr"
      }
    },
    {
      "cell_type": "code",
      "source": [
        "test_point = np.round(len(df)*test_percent)\n",
        "test_ind = int(len(df)-test_point)\n",
        "\n",
        "train = df.iloc[:test_ind]\n",
        "test = df.iloc[test_ind:]"
      ],
      "metadata": {
        "id": "gVtPIhhgHw-y"
      },
      "execution_count": null,
      "outputs": []
    },
    {
      "cell_type": "markdown",
      "source": [
        "We will perform some basic preprocessing using the `MinMaxScaler` which normalizes the input"
      ],
      "metadata": {
        "id": "Bwegcy-tIcsQ"
      }
    },
    {
      "cell_type": "code",
      "source": [
        "scaler = MinMaxScaler()\n",
        "scaled_train = scaler.fit_transform(train)\n",
        "scaled_test = scaler.transform(test)"
      ],
      "metadata": {
        "id": "R6k9hbrSIaTV"
      },
      "execution_count": null,
      "outputs": []
    },
    {
      "cell_type": "markdown",
      "source": [
        "`TimeseriesGenerator` is a utility class by keras that is used in generating batches of temporal data. Given our scaled training data,we create 401 output sequences"
      ],
      "metadata": {
        "id": "9wpX2zbWItlU"
      }
    },
    {
      "cell_type": "code",
      "source": [
        "generator = TimeseriesGenerator(scaled_train, scaled_train, length=length, batch_size=batch_size)\n",
        "len(generator)"
      ],
      "metadata": {
        "colab": {
          "base_uri": "https://localhost:8080/"
        },
        "id": "IvVNFHidIrPm",
        "outputId": "c786f3ce-5667-4f6a-c93f-255489262258"
      },
      "execution_count": null,
      "outputs": [
        {
          "output_type": "execute_result",
          "data": {
            "text/plain": [
              "401"
            ]
          },
          "metadata": {},
          "execution_count": 9
        }
      ]
    },
    {
      "cell_type": "markdown",
      "source": [
        "We will use the `LSTM()` layer with 50 units, and an input shape defined by the sequence length and number of features."
      ],
      "metadata": {
        "id": "xbwO-1bSJEFX"
      }
    },
    {
      "cell_type": "code",
      "source": [
        "model = Sequential()\n",
        "\n",
        "model.add(LSTM(50, input_shape=(length, n_features)))\n",
        "\n",
        "model.add(Dense(1))\n",
        "\n",
        "model.compile(optimizer='adam', loss='mse')"
      ],
      "metadata": {
        "id": "HbxvaSu-JBIt"
      },
      "execution_count": null,
      "outputs": []
    },
    {
      "cell_type": "code",
      "source": [
        "model.fit_generator(generator, epochs=6)"
      ],
      "metadata": {
        "colab": {
          "base_uri": "https://localhost:8080/"
        },
        "id": "cgPnR2wEJG60",
        "outputId": "19a65559-f3fe-42fd-ef6c-ce8b671ede09"
      },
      "execution_count": null,
      "outputs": [
        {
          "output_type": "stream",
          "name": "stdout",
          "text": [
            "Epoch 1/6\n"
          ]
        },
        {
          "output_type": "stream",
          "name": "stderr",
          "text": [
            "<ipython-input-11-7de96f07decd>:1: UserWarning: `Model.fit_generator` is deprecated and will be removed in a future version. Please use `Model.fit`, which supports generators.\n",
            "  model.fit_generator(generator, epochs=6)\n"
          ]
        },
        {
          "output_type": "stream",
          "name": "stdout",
          "text": [
            "401/401 [==============================] - 16s 20ms/step - loss: 0.0131\n",
            "Epoch 2/6\n",
            "401/401 [==============================] - 10s 26ms/step - loss: 4.6876e-05\n",
            "Epoch 3/6\n",
            "401/401 [==============================] - 9s 22ms/step - loss: 1.0722e-04\n",
            "Epoch 4/6\n",
            "401/401 [==============================] - 8s 19ms/step - loss: 3.7090e-05\n",
            "Epoch 5/6\n",
            "401/401 [==============================] - 9s 22ms/step - loss: 1.4205e-04\n",
            "Epoch 6/6\n",
            "401/401 [==============================] - 9s 23ms/step - loss: 1.9592e-04\n"
          ]
        },
        {
          "output_type": "execute_result",
          "data": {
            "text/plain": [
              "<keras.src.callbacks.History at 0x781bd596e1a0>"
            ]
          },
          "metadata": {},
          "execution_count": 11
        }
      ]
    },
    {
      "cell_type": "markdown",
      "source": [
        "We will now evaluate the LSTM's performance in forecasting a few time steps from the firtst batch."
      ],
      "metadata": {
        "id": "cZ51Y013Jc-U"
      }
    },
    {
      "cell_type": "code",
      "source": [
        "forecast = []\n",
        "\n",
        "first_eval_batch = scaled_train[-length:]\n",
        "current_batch = first_eval_batch.reshape((1, length, n_features))\n",
        "\n",
        "for i in range(25):\n",
        "    current_pred = model.predict(current_batch)[0]\n",
        "    forecast.append(current_pred)\n",
        "    current_batch = np.append(current_batch[:, 1:, :], [[current_pred]], axis=1)"
      ],
      "metadata": {
        "colab": {
          "base_uri": "https://localhost:8080/"
        },
        "id": "ummBxHjZJJqm",
        "outputId": "a07a8452-498c-4b74-96f9-c726362dd90b"
      },
      "execution_count": null,
      "outputs": [
        {
          "output_type": "stream",
          "name": "stdout",
          "text": [
            "1/1 [==============================] - 1s 824ms/step\n",
            "1/1 [==============================] - 0s 37ms/step\n",
            "1/1 [==============================] - 0s 36ms/step\n",
            "1/1 [==============================] - 0s 39ms/step\n",
            "1/1 [==============================] - 0s 73ms/step\n",
            "1/1 [==============================] - 0s 47ms/step\n",
            "1/1 [==============================] - 0s 43ms/step\n",
            "1/1 [==============================] - 0s 27ms/step\n",
            "1/1 [==============================] - 0s 24ms/step\n",
            "1/1 [==============================] - 0s 24ms/step\n",
            "1/1 [==============================] - 0s 24ms/step\n",
            "1/1 [==============================] - 0s 25ms/step\n",
            "1/1 [==============================] - 0s 22ms/step\n",
            "1/1 [==============================] - 0s 24ms/step\n",
            "1/1 [==============================] - 0s 24ms/step\n",
            "1/1 [==============================] - 0s 26ms/step\n",
            "1/1 [==============================] - 0s 33ms/step\n",
            "1/1 [==============================] - 0s 32ms/step\n",
            "1/1 [==============================] - 0s 33ms/step\n",
            "1/1 [==============================] - 0s 23ms/step\n",
            "1/1 [==============================] - 0s 25ms/step\n",
            "1/1 [==============================] - 0s 25ms/step\n",
            "1/1 [==============================] - 0s 23ms/step\n",
            "1/1 [==============================] - 0s 30ms/step\n",
            "1/1 [==============================] - 0s 26ms/step\n"
          ]
        }
      ]
    },
    {
      "cell_type": "markdown",
      "source": [
        "We will invert the min-max scaling on the predictions to allow for a direct comparison with the ground truth."
      ],
      "metadata": {
        "id": "HZKmaKJFJoy3"
      }
    },
    {
      "cell_type": "code",
      "source": [
        "forecast = scaler.inverse_transform(forecast)"
      ],
      "metadata": {
        "id": "S-GdTjGvJllj"
      },
      "execution_count": null,
      "outputs": []
    },
    {
      "cell_type": "code",
      "source": [
        "forecast_index = np.arange(50.1, 52.6, step=0.1)"
      ],
      "metadata": {
        "id": "ZLJW0WObJqJh"
      },
      "execution_count": null,
      "outputs": []
    },
    {
      "cell_type": "code",
      "source": [
        "plt.plot(df.index, df['Sine'])\n",
        "plt.plot(forecast_index, forecast)"
      ],
      "metadata": {
        "colab": {
          "base_uri": "https://localhost:8080/",
          "height": 452
        },
        "id": "o8hJcOqiJsPw",
        "outputId": "7b3fa66c-8dcd-4c32-c629-e2ff8ed2e120"
      },
      "execution_count": null,
      "outputs": [
        {
          "output_type": "execute_result",
          "data": {
            "text/plain": [
              "[<matplotlib.lines.Line2D at 0x781bd4f243d0>]"
            ]
          },
          "metadata": {},
          "execution_count": 15
        },
        {
          "output_type": "display_data",
          "data": {
            "text/plain": [
              "<Figure size 640x480 with 1 Axes>"
            ],
            "image/png": "[encoded data removed]"
          },
          "metadata": {}
        }
      ]
    },
    {
      "cell_type": "markdown",
      "source": [
        "# Exercies 1 : GRU in Keras - Reuters classification"
      ],
      "metadata": {
        "id": "VOaCpOP7J1Jy"
      }
    },
    {
      "cell_type": "code",
      "source": [
        "num_words = 10000\n",
        "maxlen = 1000\n",
        "test_split = 0.3"
      ],
      "metadata": {
        "id": "qUlOSKTFJuNM"
      },
      "execution_count": null,
      "outputs": []
    },
    {
      "cell_type": "code",
      "source": [
        "# Load reuters Data from Keras datasets\n",
        "(X_train, y_train),(X_test, y_test) = reuters.load_data(num_words=num_words, test_split=0.3)\n",
        "print(len(X_train), 'train sequences')\n",
        "print(len(X_test), 'test sequences')"
      ],
      "metadata": {
        "colab": {
          "base_uri": "https://localhost:8080/"
        },
        "id": "NzHlOtvRJ7tk",
        "outputId": "dbaf2fb3-31cc-4123-bdef-33a1fb7afb85"
      },
      "execution_count": null,
      "outputs": [
        {
          "output_type": "stream",
          "name": "stdout",
          "text": [
            "Downloading data from https://storage.googleapis.com/tensorflow/tf-keras-datasets/reuters.npz\n",
            "2110848/2110848 [==============================] - 0s 0us/step\n",
            "7859 train sequences\n",
            "3369 test sequences\n"
          ]
        }
      ]
    },
    {
      "cell_type": "code",
      "source": [
        "# data preprocessing\n",
        "X_train = pad_sequences(X_train, maxlen=maxlen)\n",
        "X_test = pad_sequences(X_test, maxlen=maxlen)\n",
        "print('X_train shape:', X_train.shape)\n",
        "print('X_test shape:', X_test.shape)\n",
        "\n",
        "\n",
        "y_train = tf.keras.utils.to_categorical(y_train, 46)\n",
        "y_test = tf.keras.utils.to_categorical(y_test, 46)"
      ],
      "metadata": {
        "colab": {
          "base_uri": "https://localhost:8080/"
        },
        "id": "GRmrRvdIJ9M0",
        "outputId": "05b6a298-e970-4130-83f4-0c947b453687"
      },
      "execution_count": null,
      "outputs": [
        {
          "output_type": "stream",
          "name": "stdout",
          "text": [
            "X_train shape: (7859, 1000)\n",
            "X_test shape: (3369, 1000)\n"
          ]
        }
      ]
    },
    {
      "cell_type": "code",
      "source": [
        "model = Sequential()\n",
        "model.add(Embedding(input_dim = num_words, output_dim = 300,input_length=1000))\n",
        "model.add(GRU(128, dropout=0.2))\n",
        "model.add(Dense(46, activation='softmax'))\n",
        "model.summary()"
      ],
      "metadata": {
        "colab": {
          "base_uri": "https://localhost:8080/"
        },
        "id": "YNrey45XJ_7h",
        "outputId": "d893e810-b64e-4c59-f0b1-d91d1decbed6"
      },
      "execution_count": null,
      "outputs": [
        {
          "output_type": "stream",
          "name": "stdout",
          "text": [
            "Model: \"sequential_1\"\n",
            "_________________________________________________________________\n",
            " Layer (type)                Output Shape              Param #   \n",
            "=================================================================\n",
            " embedding (Embedding)       (None, 1000, 300)         3000000   \n",
            "                                                                 \n",
            " gru (GRU)                   (None, 128)               165120    \n",
            "                                                                 \n",
            " dense_1 (Dense)             (None, 46)                5934      \n",
            "                                                                 \n",
            "=================================================================\n",
            "Total params: 3171054 (12.10 MB)\n",
            "Trainable params: 3171054 (12.10 MB)\n",
            "Non-trainable params: 0 (0.00 Byte)\n",
            "_________________________________________________________________\n"
          ]
        }
      ]
    },
    {
      "cell_type": "code",
      "source": [
        "model.compile(loss='categorical_crossentropy',optimizer='adam',metrics=['accuracy'])\n",
        "model.fit(X_train, y_train,batch_size=256,epochs=10,validation_split=0.2)\n",
        "model.evaluate(X_test,y_test)"
      ],
      "metadata": {
        "colab": {
          "base_uri": "https://localhost:8080/"
        },
        "id": "352cUToVKCYa",
        "outputId": "d018f3ec-d24a-4be9-f293-fa6cd7f167bd"
      },
      "execution_count": null,
      "outputs": [
        {
          "output_type": "stream",
          "name": "stdout",
          "text": [
            "Epoch 1/10\n",
            "25/25 [==============================] - 255s 10s/step - loss: 3.0729 - accuracy: 0.3299 - val_loss: 2.3204 - val_accuracy: 0.3575\n",
            "Epoch 2/10\n",
            "25/25 [==============================] - 242s 10s/step - loss: 2.1976 - accuracy: 0.3593 - val_loss: 2.0181 - val_accuracy: 0.4008\n",
            "Epoch 3/10\n",
            "25/25 [==============================] - 250s 10s/step - loss: 1.9210 - accuracy: 0.4296 - val_loss: 1.8724 - val_accuracy: 0.4822\n",
            "Epoch 4/10\n",
            "25/25 [==============================] - 240s 10s/step - loss: 1.7387 - accuracy: 0.5049 - val_loss: 1.8317 - val_accuracy: 0.5197\n",
            "Epoch 5/10\n",
            "25/25 [==============================] - 240s 10s/step - loss: 1.6039 - accuracy: 0.5620 - val_loss: 1.8101 - val_accuracy: 0.5299\n",
            "Epoch 6/10\n",
            "25/25 [==============================] - 238s 10s/step - loss: 1.4879 - accuracy: 0.6001 - val_loss: 1.8033 - val_accuracy: 0.5280\n",
            "Epoch 7/10\n",
            "25/25 [==============================] - 240s 10s/step - loss: 1.3915 - accuracy: 0.6226 - val_loss: 1.8343 - val_accuracy: 0.5350\n",
            "Epoch 8/10\n",
            "25/25 [==============================] - 240s 10s/step - loss: 1.3214 - accuracy: 0.6445 - val_loss: 1.8577 - val_accuracy: 0.5261\n",
            "Epoch 9/10\n",
            "25/25 [==============================] - 241s 10s/step - loss: 1.2524 - accuracy: 0.6701 - val_loss: 1.8725 - val_accuracy: 0.5293\n",
            "Epoch 10/10\n",
            "25/25 [==============================] - 246s 10s/step - loss: 1.1758 - accuracy: 0.6862 - val_loss: 1.8669 - val_accuracy: 0.5433\n",
            "106/106 [==============================] - 58s 545ms/step - loss: 1.9127 - accuracy: 0.5473\n"
          ]
        },
        {
          "output_type": "execute_result",
          "data": {
            "text/plain": [
              "[1.912722110748291, 0.5473434329032898]"
            ]
          },
          "metadata": {},
          "execution_count": 20
        }
      ]
    },
    {
      "cell_type": "code",
      "source": [
        "\n"
      ],
      "metadata": {
        "id": "RFg4h0QiKF2d"
      },
      "execution_count": null,
      "outputs": []
    }
  ]
}