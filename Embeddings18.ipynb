{
  "nbformat": 4,
  "nbformat_minor": 0,
  "metadata": {
    "colab": {
      "provenance": [],
      "authorship_tag": "ABX9TyNpnmEBZBGjsCpsZp4elgI6",
      "include_colab_link": true
    },
    "kernelspec": {
      "name": "python3",
      "display_name": "Python 3"
    },
    "language_info": {
      "name": "python"
    }
  },
  "cells": [
    {
      "cell_type": "markdown",
      "metadata": {
        "id": "view-in-github",
        "colab_type": "text"
      },
      "source": [
        "<a href=\"https://colab.research.google.com/github/MohamedElsayed002/DeepLearning_Study/blob/master/Embeddings18.ipynb\" target=\"_parent\"><img src=\"https://colab.research.google.com/assets/colab-badge.svg\" alt=\"Open In Colab\"/></a>"
      ]
    },
    {
      "cell_type": "markdown",
      "source": [
        "# Embedding\n",
        "\n",
        "You work for a streaming service that wants an automatic way to determine if they should add a movie to its catalog; each film is expensive to purchase, so the  streaming service would only like good movies to add to the catalog. You have been hired to build a neural network to determine if a movie is good or not using critics' written ratings similar to \"Rotten Tomatoes\".\n",
        "\n",
        "In this notebook, you will learn the fundamentals of how to convert text data to usable features for your neural network. In addition, you will also learn about the embedding layer, an engineering solution that allows you to implement linear layers for categorical data effectively.\n",
        "\n",
        "<img src=\"https://cf-courses-data.s3.us.cloud-object-storage.appdomain.cloud/IBMDeveloperSkillsNetwork-ML311-Coursera/labs/Module4/L1/movie_review.webp\" style=\"width: 60%\">"
      ],
      "metadata": {
        "id": "FVRwv0Hu07jB"
      }
    },
    {
      "cell_type": "markdown",
      "source": [
        "## Setup\n",
        "\n",
        "For this lab, we will be using the following libraries:\n",
        "\n",
        "*   [`pandas`](https://pandas.pydata.org/?utm_medium=Exinfluencer&utm_source=Exinfluencer&utm_content=000026UJ&utm_term=10006555&utm_id=NA-SkillsNetwork-Channel-SkillsNetworkCoursesIBMML0187ENSkillsNetwork31430127-2021-01-01) for managing the data.\n",
        "*   [`numpy`](https://numpy.org/?utm_medium=Exinfluencer&utm_source=Exinfluencer&utm_content=000026UJ&utm_term=10006555&utm_id=NA-SkillsNetwork-Channel-SkillsNetworkCoursesIBMML0187ENSkillsNetwork31430127-2021-01-01) for mathematical operations.\n",
        "*   [`sklearn`](https://scikit-learn.org/stable/?utm_medium=Exinfluencer&utm_source=Exinfluencer&utm_content=000026UJ&utm_term=10006555&utm_id=NA-SkillsNetwork-Channel-SkillsNetworkCoursesIBMML0187ENSkillsNetwork31430127-2021-01-01) for machine learning and machine-learning-pipeline related functions.\n",
        "*   [`matplotlib`](https://matplotlib.org/?utm_medium=Exinfluencer&utm_source=Exinfluencer&utm_content=000026UJ&utm_term=10006555&utm_id=NA-SkillsNetwork-Channel-SkillsNetworkCoursesIBMML0187ENSkillsNetwork31430127-2021-01-01) for additional plotting tools."
      ],
      "metadata": {
        "id": "X819JGkQ1Jkg"
      }
    },
    {
      "cell_type": "code",
      "execution_count": null,
      "metadata": {
        "id": "xvgh24D_01rC"
      },
      "outputs": [],
      "source": [
        "def warn(*args, **kwargs):\n",
        "    pass\n",
        "import warnings\n",
        "warnings.warn = warn\n",
        "warnings.filterwarnings('ignore')\n",
        "\n",
        "import importlib\n",
        "import numpy as np\n",
        "\n",
        "import matplotlib.pyplot as plt\n",
        "from numpy.random import seed\n",
        "seed(1)\n",
        "\n",
        "import  tensorflow as tf\n",
        "\n",
        "tf.random.set_seed(1234)\n",
        "from tensorflow.keras.layers import Embedding, Dense, Flatten,Dropout\n",
        "from tensorflow.keras.models import Sequential\n",
        "\n",
        "from keras import preprocessing\n",
        "from tensorflow.keras.preprocessing.text import Tokenizer\n",
        "from tensorflow.keras.preprocessing.sequence import pad_sequences\n",
        "\n",
        "from tensorflow.keras import regularizers"
      ]
    },
    {
      "cell_type": "markdown",
      "source": [
        "# Defining Helper Functions\n",
        "\n",
        "This function will plot the neural networks loss and accuracy curves from its trainig history"
      ],
      "metadata": {
        "id": "zEntxa3n1aUN"
      }
    },
    {
      "cell_type": "code",
      "source": [
        "def display_metrics(history):\n",
        "\n",
        "    n = len(history.history[\"loss\"])\n",
        "\n",
        "    fig = plt.figure(figsize=(12, 6))\n",
        "    ax = fig.add_subplot(1, 2, 1)\n",
        "    ax.plot(range(n), (history.history[\"loss\"]),'r', label=\"Train Loss\")\n",
        "    ax.plot(range(n), (history.history[\"val_loss\"]),'b', label=\"Validation Loss\")\n",
        "    ax.legend()\n",
        "    ax.set_title('Loss over iterations')\n",
        "\n",
        "    ax = fig.add_subplot(1, 2, 2)\n",
        "    ax.plot(range(n), (history.history[\"acc\"]),'r', label=\"Train Acc\")\n",
        "    ax.plot(range(n), (history.history[\"val_acc\"]),'b', label=\"Validation Acc\")\n",
        "    ax.legend(loc='lower right')\n",
        "    ax.set_title('Accuracy over iterations')"
      ],
      "metadata": {
        "id": "aMgTz9PC1PJT"
      },
      "execution_count": null,
      "outputs": []
    },
    {
      "cell_type": "markdown",
      "source": [
        "This function will plot word embedding that have been reduced to two dimensions"
      ],
      "metadata": {
        "id": "C848Ve-21qbh"
      }
    },
    {
      "cell_type": "code",
      "source": [
        "def plot_embedding(X_embedded,start=100,stop=300,sample=10):\n",
        "    fig, ax = plt.subplots()\n",
        "    ax.scatter(X_embedded[start:stop:sample,0], X_embedded[start:stop:sample,1])\n",
        "    for i in range(start,stop,sample):\n",
        "        ax.annotate(REVERSE_LOOKUP[i+1], (X_embedded[i,0], X_embedded[i,1]))"
      ],
      "metadata": {
        "id": "Fy45roda1jkS"
      },
      "execution_count": null,
      "outputs": []
    },
    {
      "cell_type": "markdown",
      "source": [
        "This function will convert a probability to a Rotten Tomatoes score"
      ],
      "metadata": {
        "id": "lR66QcX_147w"
      }
    },
    {
      "cell_type": "code",
      "source": [
        "def rotten_tomato_score(p_yx):\n",
        "  return [\"rotten\" if p < 0.60 else \"fresh\" for p in p_yx]"
      ],
      "metadata": {
        "id": "wfjyby0V13sy"
      },
      "execution_count": null,
      "outputs": []
    },
    {
      "cell_type": "markdown",
      "source": [
        "# Background\n",
        "\n",
        "As most machine learning models need their input variables to numeric text variables need to be transfromed in the pre-processing part.there are several methods to perform this transformation. one-hot and multi-hot encoding and frequently used to deal with textual data\n",
        "\n",
        "One-hot encoding invloves creating a set of vectors whose length equals the number of unique elements in the corpus or the vocab. we represnt individual words as ones else the leement is zero consider the following list of three sequences"
      ],
      "metadata": {
        "id": "0kCyfCzU2jG0"
      }
    },
    {
      "cell_type": "code",
      "source": [
        "samples=['I hate cats',\n",
        "         'the dog is brown and I like cats',\n",
        "         'for the']"
      ],
      "metadata": {
        "id": "P92Ioulo2ETD"
      },
      "execution_count": null,
      "outputs": []
    },
    {
      "cell_type": "markdown",
      "source": [
        "We have three **sequences**, and the corresponding number of **word tokens** for each sequence is given by:\n",
        "\n",
        "\n",
        "1. I hate cats - 3 tokens\n",
        "\n",
        "2. the dog is brown and likes cats - 8 tokens\n",
        "\n",
        "3. for the - 2 tokens\n"
      ],
      "metadata": {
        "id": "ZCBFP1mf3K6I"
      }
    },
    {
      "cell_type": "markdown",
      "source": [
        "### Tokenizer\n",
        "\n",
        "One way to encode text features to numeric features is using <b>one-hot-encoding</b> or <b>multi-hot-encoding</b>. The one-hot and multi-hot-encoding vector is a vector consisting of all zeros; if the sequence of text contains a specific word, then an element of the vector is set to one. Consider the vocabulary that consists of all the words in the list ```samples``` each vector will have an element assigned to it shown here:\n",
        "\n",
        "<img src=\"https://cf-courses-data.s3.us.cloud-object-storage.appdomain.cloud/IBMDeveloperSkillsNetwork-ML311-Coursera/labs/Module4/L1/one_hot.png\" width=\"200\" height=\"250\">"
      ],
      "metadata": {
        "id": "qvlFlhto3M1Y"
      }
    },
    {
      "cell_type": "markdown",
      "source": [
        "Keras has an additional component for words not in the vocabulary that we will leave out in this explanation. We have ten words; therefore, the vector will have ten elements. For example, we have the vector for the word ```I``` given by:\n"
      ],
      "metadata": {
        "id": "uBZvYrfI3Z6p"
      }
    },
    {
      "cell_type": "markdown",
      "source": [
        "All the elements in the vector are zero except for the index corresponding to the word ```I```; this is an example of one-hot-encoding. For **multi-hot-encoding** the sentence 'I hate cats', the vector is given by the following:\n",
        "\n",
        "<img src=\"https://cf-courses-data.s3.us.cloud-object-storage.appdomain.cloud/IBMDeveloperSkillsNetwork-ML311-Coursera/labs/Module4/L1/I_hate_cats.png\" width=\"550\" height=\"650\">\n",
        "\n"
      ],
      "metadata": {
        "id": "XemV-pUl3cfo"
      }
    },
    {
      "cell_type": "markdown",
      "source": [
        "We can also represent the sequence as three one-hot-encoding vectors. We see that for each word that occurs, the value in the vector is set to one; else, they are set to zero; the dimension of both encoding vectors is equal to the number of unique words in the corpus (vocabulary).\n",
        "\n",
        "Lets see how to convert a sequence of multi-hot-encoding vectors."
      ],
      "metadata": {
        "id": "jvd5BGeu3fsB"
      }
    },
    {
      "cell_type": "markdown",
      "source": [
        "###  Embedding\n",
        "\n",
        "An embedding layer in Keras can be used when we want to create the embedding. These embeddings are learnable parameters that embed high dimensional data into lower dimensional vectors. Lets assume we have the embedding for the vocabulary above, we can represent the vocabulary as a list of parameter vectors $[w_{I}, w_{cats}, w_{the}, w_{hate}, w_{dog}, w_{is}, w_{brown},w_{and}, w_{like }, w_{for} ] $ .   \n",
        "\n",
        "Thus, we can obtain the embedding for the sentence **\"I hate cats\"** by first performing one-hot-encoding for each token (as shown on the right) and then performing the matrix multiplication with the parameter vectors on the left:\n",
        "\n",
        "<img src=\"https://cf-courses-data.s3.us.cloud-object-storage.appdomain.cloud/IBMDeveloperSkillsNetwork-ML311-Coursera/labs/Module4/L1/Ihat_cats_embeding.png\" width=\"1000\" height=\"1200\">\n"
      ],
      "metadata": {
        "id": "FUfbJInc3iU4"
      }
    },
    {
      "cell_type": "markdown",
      "source": [
        "We represent the matrix as a set of three **one-hot-encoded** column vectors. We see the resultant vector is 1x3 **(output dimension x input length)** as Keras transposes this result. The input length is the number of words in a sentence. In this case, the output dimension is one, but it is usually a free parameter that you set as the number of dimensions of the low-dimensional space.\n",
        "\n",
        "We see that the operation is wasteful as we are multiplying many vectors by zeros. In real world applications, the one-hot-encoding is thousands of dimensions long. As a result, we use an **embedding layer**; this layer simply **outputs the parameters given the indexes**, as shown below. We can use these embeddings as the input to a neural network. Note that the parameters of an embedding layer are randomly initialized and are updated when training the neural network, just like the fully connected layers:\n"
      ],
      "metadata": {
        "id": "5AUsrO1j3kUY"
      }
    },
    {
      "cell_type": "markdown",
      "source": [
        "<img src=\"https://cf-courses-data.s3.us.cloud-object-storage.appdomain.cloud/IBMDeveloperSkillsNetwork-ML311-Coursera/labs/Module4/L1/I_hate_cats_embeding.png\" width=\"1000\" height=\"1200\">"
      ],
      "metadata": {
        "id": "3AVmzKQw3lug"
      }
    },
    {
      "cell_type": "markdown",
      "source": [
        "# Tokenizer in keras\n",
        "\n",
        "Keras has the class ``Tokenizer`` that allows you to vectorize a text by turning each word into either a sequence of integers or a vector where the coefficient for each token is binary, based on word count. We will use the following parameters:\n",
        "\n",
        "```num_words```: the maximum number of words to keep in a sentence, based on the highest word frequencies, that is, only the **most common** ``num_words`` words will be kept.\n",
        "\n",
        "```filters```: a string that contains characters that will be filtered from the texts. The default is all the punctuations, tabs, line breaks, and the ' character.\n",
        "\n",
        "```lower```: boolean type, indicates whether to convert the texts to lowercase.\n",
        "\n",
        "```split```: str, indicates the separator for word splitting.\n",
        "\n",
        "We create the ```Tokenizer``` object:"
      ],
      "metadata": {
        "id": "KRku3DTn3n_J"
      }
    },
    {
      "cell_type": "code",
      "source": [
        "tokenizer = Tokenizer(num_words=11)"
      ],
      "metadata": {
        "id": "t3cnuge23H0S"
      },
      "execution_count": null,
      "outputs": []
    },
    {
      "cell_type": "markdown",
      "source": [
        "To fit the tokenizer to our text data,we call the method `fit_on_texts` the layer will build a corpus (vocab) of all string tokens obtained from the sample, and each word in the vocab will be represented by an integer or a vector"
      ],
      "metadata": {
        "id": "8BPMkxZv31pI"
      }
    },
    {
      "cell_type": "code",
      "source": [
        "tokenizer.fit_on_texts(samples)"
      ],
      "metadata": {
        "id": "o0u_PuzQ30ba"
      },
      "execution_count": null,
      "outputs": []
    },
    {
      "cell_type": "markdown",
      "source": [
        "the attribute `word_counts` is a list of words tokens and the corresponding number of times they appeared in the samples:"
      ],
      "metadata": {
        "id": "YkRJ-5b_4Fmf"
      }
    },
    {
      "cell_type": "code",
      "source": [
        "word_counts = tokenizer.word_counts\n",
        "word_counts"
      ],
      "metadata": {
        "colab": {
          "base_uri": "https://localhost:8080/"
        },
        "id": "toTUmhwj4ESU",
        "outputId": "b3b0c427-6da6-4d56-912d-77eb3cf02300"
      },
      "execution_count": null,
      "outputs": [
        {
          "output_type": "execute_result",
          "data": {
            "text/plain": [
              "OrderedDict([('i', 2),\n",
              "             ('hate', 1),\n",
              "             ('cats', 2),\n",
              "             ('the', 2),\n",
              "             ('dog', 1),\n",
              "             ('is', 1),\n",
              "             ('brown', 1),\n",
              "             ('and', 1),\n",
              "             ('like', 1),\n",
              "             ('for', 1)])"
            ]
          },
          "metadata": {},
          "execution_count": 8
        }
      ]
    },
    {
      "cell_type": "markdown",
      "source": [
        "we can use the method `texts_to_matrix` to perform multi-hot-encoding. where each element of the resultant vector is set to one if the corresponding word exists in the sequence else the leemnt is set to zero. here we perform multi-hot encoding for each word in the different sequences"
      ],
      "metadata": {
        "id": "uK5RkscP4Y0J"
      }
    },
    {
      "cell_type": "code",
      "source": [
        "for key in tokenizer.word_counts.keys():\n",
        "\n",
        "    print(key)\n",
        "    print(tokenizer.texts_to_matrix([key]))"
      ],
      "metadata": {
        "colab": {
          "base_uri": "https://localhost:8080/"
        },
        "id": "utOlzzTm4StY",
        "outputId": "aef25a3a-250f-4816-a254-5363ad62c79c"
      },
      "execution_count": null,
      "outputs": [
        {
          "output_type": "stream",
          "name": "stdout",
          "text": [
            "i\n",
            "[[0. 1. 0. 0. 0. 0. 0. 0. 0. 0. 0.]]\n",
            "hate\n",
            "[[0. 0. 0. 0. 1. 0. 0. 0. 0. 0. 0.]]\n",
            "cats\n",
            "[[0. 0. 1. 0. 0. 0. 0. 0. 0. 0. 0.]]\n",
            "the\n",
            "[[0. 0. 0. 1. 0. 0. 0. 0. 0. 0. 0.]]\n",
            "dog\n",
            "[[0. 0. 0. 0. 0. 1. 0. 0. 0. 0. 0.]]\n",
            "is\n",
            "[[0. 0. 0. 0. 0. 0. 1. 0. 0. 0. 0.]]\n",
            "brown\n",
            "[[0. 0. 0. 0. 0. 0. 0. 1. 0. 0. 0.]]\n",
            "and\n",
            "[[0. 0. 0. 0. 0. 0. 0. 0. 1. 0. 0.]]\n",
            "like\n",
            "[[0. 0. 0. 0. 0. 0. 0. 0. 0. 1. 0.]]\n",
            "for\n",
            "[[0. 0. 0. 0. 0. 0. 0. 0. 0. 0. 1.]]\n"
          ]
        }
      ]
    },
    {
      "cell_type": "markdown",
      "source": [
        "As there is total of ten words in sequence, the vector has ten elements; each element in the vector corresponds to a different word."
      ],
      "metadata": {
        "id": "oQVd_Sp_7V4S"
      }
    },
    {
      "cell_type": "code",
      "source": [
        "for sample  in samples:\n",
        "\n",
        "    print(sample)\n",
        "    print(tokenizer.texts_to_matrix([sample]))"
      ],
      "metadata": {
        "colab": {
          "base_uri": "https://localhost:8080/"
        },
        "id": "QOq-jCfJ4qlx",
        "outputId": "2ebf593c-2c6c-4077-f34c-9477d6c4d96c"
      },
      "execution_count": null,
      "outputs": [
        {
          "output_type": "stream",
          "name": "stdout",
          "text": [
            "I hate cats\n",
            "[[0. 1. 1. 0. 1. 0. 0. 0. 0. 0. 0.]]\n",
            "the dog is brown and I like cats\n",
            "[[0. 1. 1. 1. 0. 1. 1. 1. 1. 1. 0.]]\n",
            "for the\n",
            "[[0. 0. 0. 1. 0. 0. 0. 0. 0. 0. 1.]]\n"
          ]
        }
      ]
    },
    {
      "cell_type": "markdown",
      "source": [
        "We can also apply different NLP transformations using the parameter `mode`."
      ],
      "metadata": {
        "id": "pwYBXz9U7ryn"
      }
    },
    {
      "cell_type": "code",
      "source": [
        "modes = ['binary','count','tfidf','freq']\n",
        "\n",
        "for mode in modes:\n",
        "  print(\"mode\",mode)\n",
        "  for sample in samples:\n",
        "    print(sample)\n",
        "    print(tokenizer.texts_to_matrix([sample],mode=mode))"
      ],
      "metadata": {
        "colab": {
          "base_uri": "https://localhost:8080/"
        },
        "id": "AUftU6xy7ixB",
        "outputId": "879591fe-49ca-4b56-85ae-3596766e0bbd"
      },
      "execution_count": null,
      "outputs": [
        {
          "output_type": "stream",
          "name": "stdout",
          "text": [
            "mode binary\n",
            "I hate cats\n",
            "[[0. 1. 1. 0. 1. 0. 0. 0. 0. 0. 0.]]\n",
            "the dog is brown and I like cats\n",
            "[[0. 1. 1. 1. 0. 1. 1. 1. 1. 1. 0.]]\n",
            "for the\n",
            "[[0. 0. 0. 1. 0. 0. 0. 0. 0. 0. 1.]]\n",
            "mode count\n",
            "I hate cats\n",
            "[[0. 1. 1. 0. 1. 0. 0. 0. 0. 0. 0.]]\n",
            "the dog is brown and I like cats\n",
            "[[0. 1. 1. 1. 0. 1. 1. 1. 1. 1. 0.]]\n",
            "for the\n",
            "[[0. 0. 0. 1. 0. 0. 0. 0. 0. 0. 1.]]\n",
            "mode tfidf\n",
            "I hate cats\n",
            "[[0.         0.69314718 0.69314718 0.         0.91629073 0.\n",
            "  0.         0.         0.         0.         0.        ]]\n",
            "the dog is brown and I like cats\n",
            "[[0.         0.69314718 0.69314718 0.69314718 0.         0.91629073\n",
            "  0.91629073 0.91629073 0.91629073 0.91629073 0.        ]]\n",
            "for the\n",
            "[[0.         0.         0.         0.69314718 0.         0.\n",
            "  0.         0.         0.         0.         0.91629073]]\n",
            "mode freq\n",
            "I hate cats\n",
            "[[0.         0.33333333 0.33333333 0.         0.33333333 0.\n",
            "  0.         0.         0.         0.         0.        ]]\n",
            "the dog is brown and I like cats\n",
            "[[0.    0.125 0.125 0.125 0.    0.125 0.125 0.125 0.125 0.125 0.   ]]\n",
            "for the\n",
            "[[0.  0.  0.  0.5 0.  0.  0.  0.  0.  0.  0.5]]\n"
          ]
        }
      ]
    },
    {
      "cell_type": "markdown",
      "source": [
        "In many cases, Multi-hot encoding is redundant. As a result, we use the method ```texts_to_sequences```. This method will output an integer sequence where each integer corresponds to the index of the element in the corpus. The sequence length is equal to the number of words or tokens in the input sequence, as opposed to the number of words in the entire vocabulary like in Multi-hot encoding."
      ],
      "metadata": {
        "id": "C4jTNkFy7_3W"
      }
    },
    {
      "cell_type": "code",
      "source": [
        "for sample  in samples:\n",
        "\n",
        "    print(sample)\n",
        "    print(tokenizer.texts_to_sequences([sample]))"
      ],
      "metadata": {
        "colab": {
          "base_uri": "https://localhost:8080/"
        },
        "id": "yOiOdgNF79Ug",
        "outputId": "d261d619-c7bf-441f-f59d-94dc81a16e7b"
      },
      "execution_count": null,
      "outputs": [
        {
          "output_type": "stream",
          "name": "stdout",
          "text": [
            "I hate cats\n",
            "[[1, 4, 2]]\n",
            "the dog is brown and I like cats\n",
            "[[3, 5, 6, 7, 8, 1, 9, 2]]\n",
            "for the\n",
            "[[10, 3]]\n"
          ]
        }
      ]
    },
    {
      "cell_type": "markdown",
      "source": [
        "# Input Dimension\n",
        "\n",
        "Let's look at an example where we want to output the integer `input_dim`,which the size of the vocabulary or maximum integer index."
      ],
      "metadata": {
        "id": "M9wT4Wyu8R33"
      }
    },
    {
      "cell_type": "code",
      "source": [
        "import tensorflow as tf\n",
        "from tensorflow.keras.layers import Embedding, Dense, Flatten\n",
        "from tensorflow.keras.models import Sequential\n",
        "from tensorflow.keras import Input\n",
        "\n",
        "import numpy as np\n",
        "\n",
        "\n",
        "model = Sequential()\n",
        "\n",
        "input_dim=3\n",
        "output_dim=1\n",
        "input_length=1\n",
        "model.add(Embedding(input_dim=input_dim, output_dim=output_dim,input_length=input_length))\n",
        "\n",
        "model.summary()"
      ],
      "metadata": {
        "colab": {
          "base_uri": "https://localhost:8080/"
        },
        "id": "AwJfAL1d8Ov4",
        "outputId": "75c1feb3-d20f-4ca4-8395-938bb71ee84a"
      },
      "execution_count": null,
      "outputs": [
        {
          "output_type": "stream",
          "name": "stdout",
          "text": [
            "Model: \"sequential_1\"\n",
            "_________________________________________________________________\n",
            " Layer (type)                Output Shape              Param #   \n",
            "=================================================================\n",
            " embedding (Embedding)       (None, 1, 1)              3         \n",
            "                                                                 \n",
            "=================================================================\n",
            "Total params: 3 (12.00 Byte)\n",
            "Trainable params: 3 (12.00 Byte)\n",
            "Non-trainable params: 0 (0.00 Byte)\n",
            "_________________________________________________________________\n"
          ]
        }
      ]
    },
    {
      "cell_type": "markdown",
      "source": [
        "Keras randomly initialize the weights, so let's set each weight to the index it belongs to:"
      ],
      "metadata": {
        "id": "QXpGst7x9Dyw"
      }
    },
    {
      "cell_type": "code",
      "source": [
        "model.get_weights()\n",
        "weights = np.array([0,1,2]).reshape(-1,1)\n",
        "\n",
        "model.set_weights([weights])\n",
        "model.get_weights()"
      ],
      "metadata": {
        "colab": {
          "base_uri": "https://localhost:8080/"
        },
        "id": "VZmGJ_IG88uJ",
        "outputId": "26a82671-eee6-40ef-8960-efe891e642b7"
      },
      "execution_count": null,
      "outputs": [
        {
          "output_type": "execute_result",
          "data": {
            "text/plain": [
              "[array([[0.],\n",
              "        [1.],\n",
              "        [2.]], dtype=float32)]"
            ]
          },
          "metadata": {},
          "execution_count": 16
        }
      ]
    },
    {
      "cell_type": "markdown",
      "source": [
        "We can also apply the method to multiple samples by making each sample a different sample in the batch dimension or as multiple samples in a row:"
      ],
      "metadata": {
        "id": "Vkwu431p9YYq"
      }
    },
    {
      "cell_type": "code",
      "source": [
        "z = model.predict([[0],[1],[2]])\n",
        "print(\"different samples in the batch dimension: \\n\",z)\n",
        "z = model.predict([0,1,2])\n",
        "print(\" multiple samples in a row: \\n\",z)"
      ],
      "metadata": {
        "colab": {
          "base_uri": "https://localhost:8080/"
        },
        "id": "ZQAwwicy9WJ6",
        "outputId": "9bd52c5d-64f1-4a3c-f117-213b81c90213"
      },
      "execution_count": null,
      "outputs": [
        {
          "output_type": "stream",
          "name": "stdout",
          "text": [
            "1/1 [==============================] - 0s 116ms/step\n",
            "different samples in the batch dimension: \n",
            " [[[0.]]\n",
            "\n",
            " [[1.]]\n",
            "\n",
            " [[2.]]]\n",
            "1/1 [==============================] - 0s 102ms/step\n",
            " multiple samples in a row: \n",
            " [[0.]\n",
            " [1.]\n",
            " [2.]]\n"
          ]
        }
      ]
    },
    {
      "cell_type": "markdown",
      "source": [
        "If you use the ```Sequential``` class, you must specify the input shape ```input_length``` so the model can be built with the proper set of parameters; ```input_length``` is the size of each input sequence."
      ],
      "metadata": {
        "id": "sozZEojn9t1X"
      }
    },
    {
      "cell_type": "markdown",
      "source": [
        "### Output shape\n",
        "\n",
        "Output shape is the number of parameters, using the matrix multiplication analogy: if the input is a multi-hot encoding column vector and the embedding is a matrix, the ```output_dim``` is the number of columns in the matrix. Consider the example of converting a number to its binary number equivalent, and we will represent each element of the binary number as a different dimension in the output.\n",
        "\n",
        "Let's convert the numbers from 0 to 3. As we have four numbers the parameter ```input_dim=4```. As we need two binary digits or bits to represent the numbers from one to three the ```output_dim=2```."
      ],
      "metadata": {
        "id": "5b06LiEE9zPX"
      }
    },
    {
      "cell_type": "markdown",
      "source": [],
      "metadata": {
        "id": "CzWeoMzr909f"
      }
    },
    {
      "cell_type": "code",
      "source": [
        "input_dim=4\n",
        "output_dim=2\n",
        "input_length=1\n",
        "model = Sequential()\n",
        "model.add(Embedding(input_dim=input_dim, output_dim=output_dim, input_length=input_length))\n",
        "model.summary()"
      ],
      "metadata": {
        "colab": {
          "base_uri": "https://localhost:8080/"
        },
        "id": "1CzlD3029rZf",
        "outputId": "2d14d0df-c81e-477a-8b8c-e2ba53be119b"
      },
      "execution_count": null,
      "outputs": [
        {
          "output_type": "stream",
          "name": "stdout",
          "text": [
            "Model: \"sequential_2\"\n",
            "_________________________________________________________________\n",
            " Layer (type)                Output Shape              Param #   \n",
            "=================================================================\n",
            " embedding_1 (Embedding)     (None, 1, 2)              8         \n",
            "                                                                 \n",
            "=================================================================\n",
            "Total params: 8 (32.00 Byte)\n",
            "Trainable params: 8 (32.00 Byte)\n",
            "Non-trainable params: 0 (0.00 Byte)\n",
            "_________________________________________________________________\n"
          ]
        }
      ]
    },
    {
      "cell_type": "markdown",
      "source": [
        "we assign the weights to represent binary numbers"
      ],
      "metadata": {
        "id": "-QzWAMkd94pY"
      }
    },
    {
      "cell_type": "code",
      "source": [
        "weights=np.array([[0,0],[0,1],[1,0],[1,1]])\n",
        "model.set_weights([weights])\n",
        "model.get_weights()"
      ],
      "metadata": {
        "colab": {
          "base_uri": "https://localhost:8080/"
        },
        "id": "XzvS_LuP92QQ",
        "outputId": "89df0f7c-49b4-4c09-c9a1-9844397d09a1"
      },
      "execution_count": null,
      "outputs": [
        {
          "output_type": "execute_result",
          "data": {
            "text/plain": [
              "[array([[0., 0.],\n",
              "        [0., 1.],\n",
              "        [1., 0.],\n",
              "        [1., 1.]], dtype=float32)]"
            ]
          },
          "metadata": {},
          "execution_count": 19
        }
      ]
    },
    {
      "cell_type": "markdown",
      "source": [
        "For each input integer, the output of the embedding is the corresponding binary number:"
      ],
      "metadata": {
        "id": "Um41Tp4y9-Rf"
      }
    },
    {
      "cell_type": "code",
      "source": [
        "for n in range(4):\n",
        "  x = np.array([[n]])\n",
        "  print(\"input x={}\".format(n))\n",
        "  z = model.predict(x)\n",
        "  print(\"input binary={}\".format(z.tolist()))"
      ],
      "metadata": {
        "colab": {
          "base_uri": "https://localhost:8080/"
        },
        "id": "8VSJfUd499tn",
        "outputId": "82eff8d5-2bb7-4165-c731-d6313b9913c5"
      },
      "execution_count": null,
      "outputs": [
        {
          "output_type": "stream",
          "name": "stdout",
          "text": [
            "input x=0\n",
            "1/1 [==============================] - 0s 55ms/step\n",
            "input binary=[[[0.0, 0.0]]]\n",
            "input x=1\n",
            "1/1 [==============================] - 0s 53ms/step\n",
            "input binary=[[[0.0, 1.0]]]\n",
            "input x=2\n",
            "1/1 [==============================] - 0s 68ms/step\n",
            "input binary=[[[1.0, 0.0]]]\n",
            "input x=3\n",
            "1/1 [==============================] - 0s 41ms/step\n",
            "input binary=[[[1.0, 1.0]]]\n"
          ]
        }
      ]
    },
    {
      "cell_type": "markdown",
      "source": [
        "For each input integer, the output of the embedding is the corresponding binary number:\n"
      ],
      "metadata": {
        "id": "K7qvENHg-TU5"
      }
    },
    {
      "cell_type": "code",
      "source": [
        "for n in range(4):\n",
        "    x=np.array([[n]])\n",
        "    print(\"input x={}\".format(n))\n",
        "    z=model.predict(x)\n",
        "    print(\"input binary={}\".format(z.tolist() ))"
      ],
      "metadata": {
        "colab": {
          "base_uri": "https://localhost:8080/"
        },
        "id": "M8cTWFmS-Phb",
        "outputId": "8757d662-c5b6-4417-9143-3ffcbbba5da8"
      },
      "execution_count": null,
      "outputs": [
        {
          "output_type": "stream",
          "name": "stdout",
          "text": [
            "input x=0\n",
            "1/1 [==============================] - 0s 28ms/step\n",
            "input binary=[[[0.0, 0.0]]]\n",
            "input x=1\n",
            "1/1 [==============================] - 0s 105ms/step\n",
            "input binary=[[[0.0, 1.0]]]\n",
            "input x=2\n",
            "1/1 [==============================] - 0s 91ms/step\n",
            "input binary=[[[1.0, 0.0]]]\n",
            "input x=3\n",
            "1/1 [==============================] - 0s 54ms/step\n",
            "input binary=[[[1.0, 1.0]]]\n"
          ]
        }
      ]
    },
    {
      "cell_type": "markdown",
      "source": [
        "in order to use the embedding, we go with seqeuntial\n",
        "\n",
        "\n",
        "# Padding Sequences\n",
        "\n",
        "Usually, sequences are of different lengths. consider our original sequence:"
      ],
      "metadata": {
        "id": "DaEn-g46-WjZ"
      }
    },
    {
      "cell_type": "code",
      "source": [
        "samples=['I hate cats','the dog is brown and I like cats','for the']\n",
        "for sample in samples:\n",
        "    print(\"sample:\",sample)\n",
        "    print(\"length:\",len(sample))"
      ],
      "metadata": {
        "colab": {
          "base_uri": "https://localhost:8080/"
        },
        "id": "d3-GYiQK-VIQ",
        "outputId": "fee631c6-b769-4e98-b1ed-0eb5179a20b4"
      },
      "execution_count": null,
      "outputs": [
        {
          "output_type": "stream",
          "name": "stdout",
          "text": [
            "sample: I hate cats\n",
            "length: 11\n",
            "sample: the dog is brown and I like cats\n",
            "length: 32\n",
            "sample: for the\n",
            "length: 7\n"
          ]
        }
      ]
    },
    {
      "cell_type": "markdown",
      "source": [
        "When we apply the ```Tokenizer``` we apply the method ```texts_to_sequences``` we see each sequence is also a different length:"
      ],
      "metadata": {
        "id": "9U5XizUx-nbQ"
      }
    },
    {
      "cell_type": "code",
      "source": [
        "tokenizer = Tokenizer(num_words=12)\n",
        "tokenizer.fit_on_texts(samples)\n",
        "tokens=tokenizer.texts_to_sequences(samples)\n",
        "print(\"tokens\",tokens)"
      ],
      "metadata": {
        "colab": {
          "base_uri": "https://localhost:8080/"
        },
        "id": "9zTHoCH2-jyY",
        "outputId": "d67ad465-23f7-4467-f2e6-4e07c02befb8"
      },
      "execution_count": null,
      "outputs": [
        {
          "output_type": "stream",
          "name": "stdout",
          "text": [
            "tokens [[1, 4, 2], [3, 5, 6, 7, 8, 1, 9, 2], [10, 3]]\n"
          ]
        }
      ]
    },
    {
      "cell_type": "markdown",
      "source": [
        "To make sure the sequences are the same length, we apply the function ```pad_sequences```. The function transforms a sequence into a 2D Numpy array with the number of rows equal to the number of samples and the number of columns equal to the parameter ```maxlen``` (the length of the longest sequence in the list). Sequences that are shorter than ```maxlen``` are padded with the parameter ```value```, which is by default zero.\n",
        "\n",
        "Consider the following example:"
      ],
      "metadata": {
        "id": "g5PC1-CJ-uN_"
      }
    },
    {
      "cell_type": "code",
      "source": [
        "maxlen=9\n",
        "x =pad_sequences(tokens, maxlen=maxlen,value=0)\n",
        "x"
      ],
      "metadata": {
        "colab": {
          "base_uri": "https://localhost:8080/"
        },
        "id": "s3hmfyFN-q-Q",
        "outputId": "4b537f56-223b-4bbe-bc66-27e2e5610eeb"
      },
      "execution_count": null,
      "outputs": [
        {
          "output_type": "execute_result",
          "data": {
            "text/plain": [
              "array([[ 0,  0,  0,  0,  0,  0,  1,  4,  2],\n",
              "       [ 0,  3,  5,  6,  7,  8,  1,  9,  2],\n",
              "       [ 0,  0,  0,  0,  0,  0,  0, 10,  3]], dtype=int32)"
            ]
          },
          "metadata": {},
          "execution_count": 24
        }
      ]
    },
    {
      "cell_type": "markdown",
      "source": [
        "We see the padding proceeds the integer values, but we can also set padding to follow the integers through ```padding = \"post\"```."
      ],
      "metadata": {
        "id": "ryYDlxW8-zEX"
      }
    },
    {
      "cell_type": "markdown",
      "source": [
        "If we decrease the value for ```maxlen```, the function will ```truncate``` the sequences, that is, making sequences that are longer than `maxlen` shorter."
      ],
      "metadata": {
        "id": "g36w00Sf_WZK"
      }
    },
    {
      "cell_type": "code",
      "source": [
        "maxlen=5\n",
        "x =pad_sequences(tokens, maxlen=maxlen)\n",
        "x"
      ],
      "metadata": {
        "colab": {
          "base_uri": "https://localhost:8080/"
        },
        "id": "qtGsi5d--wmQ",
        "outputId": "e0233df5-a1a0-4801-b28c-770fc082c4b0"
      },
      "execution_count": null,
      "outputs": [
        {
          "output_type": "execute_result",
          "data": {
            "text/plain": [
              "array([[ 0,  0,  1,  4,  2],\n",
              "       [ 7,  8,  1,  9,  2],\n",
              "       [ 0,  0,  0, 10,  3]], dtype=int32)"
            ]
          },
          "metadata": {},
          "execution_count": 25
        }
      ]
    },
    {
      "cell_type": "markdown",
      "source": [
        "We see the function truncates the values from sequences longer than ```maxlen``` at the beginning of the sequence. We can also set ```truncating = \"post\"```to  truncate the values from the end."
      ],
      "metadata": {
        "id": "89jXWL-r_a55"
      }
    },
    {
      "cell_type": "markdown",
      "source": [
        "# Sentiment Analysis\n",
        "\n",
        "Now that we have the sequence, , and embedding layers, we can use a neural network to classify our text data. Sentiment analysis in natural language processing is a technique used to determine opinions, appraisals, emotions, or attitudes towards a topic, person, or entity.\n",
        "\n",
        "Consider the IMDB dataset of 25,000 movie reviews from IMDB, labeled positive (y=0) and negative (y=1). In this dateset, the reviews have been pre-processed, and each review is encoded as a list of word indexes (integers). The words are indexed by overall frequency in the dataset so that for instance, the integer \"3\" encodes the 3rd most frequent word in the data. We will \"only consider the top 10,000 most common words, but eliminate the top 20 most common words for more on the dataset check out <a href=\"https://keras.io/api/datasets/imdb/?utm_medium=Exinfluencer&utm_source=Exinfluencer&utm_content=000026UJ&utm_term=10006555&utm_id=NA-SkillsNetwork-Channel-SkillsNetworkCoursesIBMDeveloperSkillsNetworkML311Coursera747-2022-01-01\">here </a>. We download the dataset:"
      ],
      "metadata": {
        "id": "M8d-LA3v_jg4"
      }
    },
    {
      "cell_type": "code",
      "source": [
        "from keras.datasets import imdb"
      ],
      "metadata": {
        "id": "0woPbtb__ZHA"
      },
      "execution_count": null,
      "outputs": []
    },
    {
      "cell_type": "code",
      "source": [
        "max_features = 10000\n",
        "\n",
        "# change the default parameter of np to allow_pickle=True\n",
        "np.load.__defaults__=(None, True, True, 'ASCII')\n",
        "importlib.reload(np)\n",
        "\n",
        "(x_train, y_train), (x_test, y_test) = imdb.load_data(num_words=max_features )"
      ],
      "metadata": {
        "colab": {
          "base_uri": "https://localhost:8080/"
        },
        "id": "-9U81IkL_pId",
        "outputId": "6b322835-ea2c-4abc-c358-2eb88fceb827"
      },
      "execution_count": null,
      "outputs": [
        {
          "output_type": "stream",
          "name": "stdout",
          "text": [
            "Downloading data from https://storage.googleapis.com/tensorflow/tf-keras-datasets/imdb.npz\n",
            "17464789/17464789 [==============================] - 1s 0us/step\n"
          ]
        }
      ]
    },
    {
      "cell_type": "markdown",
      "source": [
        "we print out the first three samples and we see the dataset has been tokenized"
      ],
      "metadata": {
        "id": "b0wgMXzO_u9W"
      }
    },
    {
      "cell_type": "code",
      "source": [
        "for i,x in enumerate(x_train[0:3]):\n",
        "    print(\"Sequence:\",i)\n",
        "    print(x)"
      ],
      "metadata": {
        "colab": {
          "base_uri": "https://localhost:8080/"
        },
        "id": "i3MV-Srb_rX6",
        "outputId": "2de6e7ad-a9aa-4c96-942d-0f0c4de3f38a"
      },
      "execution_count": null,
      "outputs": [
        {
          "output_type": "stream",
          "name": "stdout",
          "text": [
            "Sequence: 0\n",
            "[1, 14, 22, 16, 43, 530, 973, 1622, 1385, 65, 458, 4468, 66, 3941, 4, 173, 36, 256, 5, 25, 100, 43, 838, 112, 50, 670, 2, 9, 35, 480, 284, 5, 150, 4, 172, 112, 167, 2, 336, 385, 39, 4, 172, 4536, 1111, 17, 546, 38, 13, 447, 4, 192, 50, 16, 6, 147, 2025, 19, 14, 22, 4, 1920, 4613, 469, 4, 22, 71, 87, 12, 16, 43, 530, 38, 76, 15, 13, 1247, 4, 22, 17, 515, 17, 12, 16, 626, 18, 2, 5, 62, 386, 12, 8, 316, 8, 106, 5, 4, 2223, 5244, 16, 480, 66, 3785, 33, 4, 130, 12, 16, 38, 619, 5, 25, 124, 51, 36, 135, 48, 25, 1415, 33, 6, 22, 12, 215, 28, 77, 52, 5, 14, 407, 16, 82, 2, 8, 4, 107, 117, 5952, 15, 256, 4, 2, 7, 3766, 5, 723, 36, 71, 43, 530, 476, 26, 400, 317, 46, 7, 4, 2, 1029, 13, 104, 88, 4, 381, 15, 297, 98, 32, 2071, 56, 26, 141, 6, 194, 7486, 18, 4, 226, 22, 21, 134, 476, 26, 480, 5, 144, 30, 5535, 18, 51, 36, 28, 224, 92, 25, 104, 4, 226, 65, 16, 38, 1334, 88, 12, 16, 283, 5, 16, 4472, 113, 103, 32, 15, 16, 5345, 19, 178, 32]\n",
            "Sequence: 1\n",
            "[1, 194, 1153, 194, 8255, 78, 228, 5, 6, 1463, 4369, 5012, 134, 26, 4, 715, 8, 118, 1634, 14, 394, 20, 13, 119, 954, 189, 102, 5, 207, 110, 3103, 21, 14, 69, 188, 8, 30, 23, 7, 4, 249, 126, 93, 4, 114, 9, 2300, 1523, 5, 647, 4, 116, 9, 35, 8163, 4, 229, 9, 340, 1322, 4, 118, 9, 4, 130, 4901, 19, 4, 1002, 5, 89, 29, 952, 46, 37, 4, 455, 9, 45, 43, 38, 1543, 1905, 398, 4, 1649, 26, 6853, 5, 163, 11, 3215, 2, 4, 1153, 9, 194, 775, 7, 8255, 2, 349, 2637, 148, 605, 2, 8003, 15, 123, 125, 68, 2, 6853, 15, 349, 165, 4362, 98, 5, 4, 228, 9, 43, 2, 1157, 15, 299, 120, 5, 120, 174, 11, 220, 175, 136, 50, 9, 4373, 228, 8255, 5, 2, 656, 245, 2350, 5, 4, 9837, 131, 152, 491, 18, 2, 32, 7464, 1212, 14, 9, 6, 371, 78, 22, 625, 64, 1382, 9, 8, 168, 145, 23, 4, 1690, 15, 16, 4, 1355, 5, 28, 6, 52, 154, 462, 33, 89, 78, 285, 16, 145, 95]\n",
            "Sequence: 2\n",
            "[1, 14, 47, 8, 30, 31, 7, 4, 249, 108, 7, 4, 5974, 54, 61, 369, 13, 71, 149, 14, 22, 112, 4, 2401, 311, 12, 16, 3711, 33, 75, 43, 1829, 296, 4, 86, 320, 35, 534, 19, 263, 4821, 1301, 4, 1873, 33, 89, 78, 12, 66, 16, 4, 360, 7, 4, 58, 316, 334, 11, 4, 1716, 43, 645, 662, 8, 257, 85, 1200, 42, 1228, 2578, 83, 68, 3912, 15, 36, 165, 1539, 278, 36, 69, 2, 780, 8, 106, 14, 6905, 1338, 18, 6, 22, 12, 215, 28, 610, 40, 6, 87, 326, 23, 2300, 21, 23, 22, 12, 272, 40, 57, 31, 11, 4, 22, 47, 6, 2307, 51, 9, 170, 23, 595, 116, 595, 1352, 13, 191, 79, 638, 89, 2, 14, 9, 8, 106, 607, 624, 35, 534, 6, 227, 7, 129, 113]\n"
          ]
        }
      ]
    },
    {
      "cell_type": "markdown",
      "source": [
        "We can obtain a dictionary look-up table with the word and the integer that represents it:"
      ],
      "metadata": {
        "id": "CY19Oyk-_1Vm"
      }
    },
    {
      "cell_type": "code",
      "source": [
        "word_index = imdb.get_word_index()"
      ],
      "metadata": {
        "colab": {
          "base_uri": "https://localhost:8080/"
        },
        "id": "dU4_HOwn_zD7",
        "outputId": "0d969532-70fc-4b49-d3bf-b4612457524c"
      },
      "execution_count": null,
      "outputs": [
        {
          "output_type": "stream",
          "name": "stdout",
          "text": [
            "Downloading data from https://storage.googleapis.com/tensorflow/tf-keras-datasets/imdb_word_index.json\n",
            "1641221/1641221 [==============================] - 1s 0us/step\n"
          ]
        }
      ]
    },
    {
      "cell_type": "markdown",
      "source": [
        "We invert the table so the key is the integer that represents the word, and the value is the word. We assign the new dictionary to the variable ```REVERSE_LOOKUP```:"
      ],
      "metadata": {
        "id": "3NsQVVLz__7_"
      }
    },
    {
      "cell_type": "code",
      "source": [
        "REVERSE_LOOKUP={value:key for key, value in word_index.items()}"
      ],
      "metadata": {
        "id": "QPU_n8Ry_4PW"
      },
      "execution_count": null,
      "outputs": []
    },
    {
      "cell_type": "markdown",
      "source": [
        "The following function will use ```REVERSE_LOOKUP``` to convert an input sequence x to the original review."
      ],
      "metadata": {
        "id": "bY3lLbOnAHfv"
      }
    },
    {
      "cell_type": "code",
      "source": [
        "def get_review(x):\n",
        "     return' '.join([REVERSE_LOOKUP[index ] for index in x])"
      ],
      "metadata": {
        "id": "Xk2UJftjAEb0"
      },
      "execution_count": null,
      "outputs": []
    },
    {
      "cell_type": "markdown",
      "source": [
        "We can obtain the review for the first sample:\n"
      ],
      "metadata": {
        "id": "k7f1QcDcALWn"
      }
    },
    {
      "cell_type": "code",
      "source": [
        "get_review(x_train[0])"
      ],
      "metadata": {
        "colab": {
          "base_uri": "https://localhost:8080/",
          "height": 140
        },
        "id": "dPjlwDgIAJYI",
        "outputId": "838ae121-c783-42f4-963b-afbb3b17f660"
      },
      "execution_count": null,
      "outputs": [
        {
          "output_type": "execute_result",
          "data": {
            "text/plain": [
              "\"the as you with out themselves powerful lets loves their becomes reaching had journalist of lot from anyone to have after out atmosphere never more room and it so heart shows to years of every never going and help moments or of every chest visual movie except her was several of enough more with is now current film as you of mine potentially unfortunately of you than him that with out themselves her get for was camp of you movie sometimes movie that with scary but and to story wonderful that in seeing in character to of 70s musicians with heart had shadows they of here that with her serious to have does when from why what have critics they is you that isn't one will very to as itself with other and in of seen over landed for anyone of and br show's to whether from than out themselves history he name half some br of and odd was two most of mean for 1 any an boat she he should is thought frog but of script you not while history he heart to real at barrel but when from one bit then have two of script their with her nobody most that with wasn't to with armed acting watch an for with heartfelt film want an\""
            ],
            "application/vnd.google.colaboratory.intrinsic+json": {
              "type": "string"
            }
          },
          "metadata": {},
          "execution_count": 32
        }
      ]
    },
    {
      "cell_type": "code",
      "source": [
        "get_review(x_train[1])"
      ],
      "metadata": {
        "colab": {
          "base_uri": "https://localhost:8080/",
          "height": 122
        },
        "id": "ruHu1MpFAMbt",
        "outputId": "b0929ad8-db1b-4f8b-f61f-014e7861248d"
      },
      "execution_count": null,
      "outputs": [
        {
          "output_type": "execute_result",
          "data": {
            "text/plain": [
              "\"the thought solid thought senator do making to is spot nomination assumed while he of jack in where picked as getting on was did hands fact characters to always life thrillers not as me can't in at are br of sure your way of little it strongly random to view of love it so principles of guy it used producer of where it of here icon film of outside to don't all unique some like of direction it if out her imagination below keep of queen he diverse to makes this stretch and of solid it thought begins br senator and budget worthwhile though ok and awaiting for ever better were and diverse for budget look kicked any to of making it out and follows for effects show to show cast this family us scenes more it severe making senator to and finds tv tend to of emerged these thing wants but and an beckinsale cult as it is video do you david see scenery it in few those are of ship for with of wild to one is very work dark they don't do dvd with those them\""
            ],
            "application/vnd.google.colaboratory.intrinsic+json": {
              "type": "string"
            }
          },
          "metadata": {},
          "execution_count": 33
        }
      ]
    },
    {
      "cell_type": "markdown",
      "source": [
        "Each sample is of a different length; for example, we can print the length of the first three samples:\n"
      ],
      "metadata": {
        "id": "ilf7MTUKASOH"
      }
    },
    {
      "cell_type": "code",
      "source": [
        "for i,x in enumerate(x_train[0:3]):\n",
        "    print(\"length {} of sample {}:\".format(i,len(x)))"
      ],
      "metadata": {
        "colab": {
          "base_uri": "https://localhost:8080/"
        },
        "id": "YunY0X-ZAO4J",
        "outputId": "d29a8241-8336-4307-b628-05dfdc442d63"
      },
      "execution_count": null,
      "outputs": [
        {
          "output_type": "stream",
          "name": "stdout",
          "text": [
            "length 0 of sample 218:\n",
            "length 1 of sample 189:\n",
            "length 2 of sample 141:\n"
          ]
        }
      ]
    },
    {
      "cell_type": "markdown",
      "source": [
        "As a result, we need to pad all the sequences using ```pad_sequences```:"
      ],
      "metadata": {
        "id": "ZTLgxWbbAV6J"
      }
    },
    {
      "cell_type": "code",
      "source": [
        "maxlen=20\n",
        "x_train =pad_sequences(x_train, maxlen=maxlen)\n",
        "x_test =pad_sequences(x_test, maxlen=maxlen)"
      ],
      "metadata": {
        "id": "L6VjZbUYATb6"
      },
      "execution_count": null,
      "outputs": []
    },
    {
      "cell_type": "code",
      "source": [
        "x_test.shape"
      ],
      "metadata": {
        "colab": {
          "base_uri": "https://localhost:8080/"
        },
        "id": "DRIdeROCAZQJ",
        "outputId": "4a4aaada-072f-4467-b60e-3cecd4c3acba"
      },
      "execution_count": null,
      "outputs": [
        {
          "output_type": "execute_result",
          "data": {
            "text/plain": [
              "(25000, 20)"
            ]
          },
          "metadata": {},
          "execution_count": 36
        }
      ]
    },
    {
      "cell_type": "markdown",
      "source": [
        "Now we can create the embedding layer. We know the number of words is ```max_features=10000``` and therefore ```input_dim=10000```. The dimension of the output is a parameter that we set. Let's set ```output_dim=8``` and ```input_length=1``` for now.\n",
        "\n",
        "We also need to add a flattening layer using ```Flatten()```, which adds an extra dimension and will reshape the input as ```(batch, 1)```."
      ],
      "metadata": {
        "id": "xzZZI4GdAcZP"
      }
    },
    {
      "cell_type": "code",
      "source": [
        "model = Sequential()\n",
        "model.add(Embedding(10000,8,input_length=20))\n",
        "model.add(Flatten())"
      ],
      "metadata": {
        "id": "Bk-C8VWAAagZ"
      },
      "execution_count": null,
      "outputs": []
    },
    {
      "cell_type": "markdown",
      "source": [
        "We can now add a fully connected layer with `units=1` for classification:"
      ],
      "metadata": {
        "id": "NT8DkhDFAu7v"
      }
    },
    {
      "cell_type": "code",
      "source": [
        "model.add(Dense(1, activation='sigmoid'))\n",
        "model.compile(optimizer='rmsprop', loss='binary_crossentropy', metrics=['acc'])\n",
        "model.summary()"
      ],
      "metadata": {
        "colab": {
          "base_uri": "https://localhost:8080/"
        },
        "id": "2HpIy7h9Aq4t",
        "outputId": "b47a2fb2-51cf-41a3-c3e1-9c6388cd0d3c"
      },
      "execution_count": null,
      "outputs": [
        {
          "output_type": "stream",
          "name": "stdout",
          "text": [
            "Model: \"sequential_3\"\n",
            "_________________________________________________________________\n",
            " Layer (type)                Output Shape              Param #   \n",
            "=================================================================\n",
            " embedding_2 (Embedding)     (None, 20, 8)             80000     \n",
            "                                                                 \n",
            " flatten (Flatten)           (None, 160)               0         \n",
            "                                                                 \n",
            " dense (Dense)               (None, 1)                 161       \n",
            "                                                                 \n",
            "=================================================================\n",
            "Total params: 80161 (313.13 KB)\n",
            "Trainable params: 80161 (313.13 KB)\n",
            "Non-trainable params: 0 (0.00 Byte)\n",
            "_________________________________________________________________\n"
          ]
        }
      ]
    },
    {
      "cell_type": "code",
      "source": [
        "history = model.fit(x_train, y_train, epochs=10,batch_size=30,validation_split=0.2)"
      ],
      "metadata": {
        "colab": {
          "base_uri": "https://localhost:8080/"
        },
        "id": "0YRd4SCWAtXf",
        "outputId": "b524d25d-3084-44f5-cf19-ca224b3ee55d"
      },
      "execution_count": null,
      "outputs": [
        {
          "output_type": "stream",
          "name": "stdout",
          "text": [
            "Epoch 1/10\n",
            "667/667 [==============================] - 3s 3ms/step - loss: 0.6714 - acc: 0.6245 - val_loss: 0.6264 - val_acc: 0.6970\n",
            "Epoch 2/10\n",
            "667/667 [==============================] - 2s 3ms/step - loss: 0.5498 - acc: 0.7525 - val_loss: 0.5298 - val_acc: 0.7308\n",
            "Epoch 3/10\n",
            "667/667 [==============================] - 2s 2ms/step - loss: 0.4643 - acc: 0.7885 - val_loss: 0.5018 - val_acc: 0.7424\n",
            "Epoch 4/10\n",
            "667/667 [==============================] - 2s 2ms/step - loss: 0.4206 - acc: 0.8121 - val_loss: 0.4963 - val_acc: 0.7524\n",
            "Epoch 5/10\n",
            "667/667 [==============================] - 2s 3ms/step - loss: 0.3912 - acc: 0.8284 - val_loss: 0.4957 - val_acc: 0.7572\n",
            "Epoch 6/10\n",
            "667/667 [==============================] - 2s 3ms/step - loss: 0.3662 - acc: 0.8413 - val_loss: 0.4993 - val_acc: 0.7532\n",
            "Epoch 7/10\n",
            "667/667 [==============================] - 2s 3ms/step - loss: 0.3440 - acc: 0.8529 - val_loss: 0.5035 - val_acc: 0.7492\n",
            "Epoch 8/10\n",
            "667/667 [==============================] - 2s 3ms/step - loss: 0.3235 - acc: 0.8656 - val_loss: 0.5124 - val_acc: 0.7500\n",
            "Epoch 9/10\n",
            "667/667 [==============================] - 2s 4ms/step - loss: 0.3038 - acc: 0.8767 - val_loss: 0.5200 - val_acc: 0.7466\n",
            "Epoch 10/10\n",
            "667/667 [==============================] - 2s 3ms/step - loss: 0.2847 - acc: 0.8863 - val_loss: 0.5297 - val_acc: 0.7440\n"
          ]
        }
      ]
    },
    {
      "cell_type": "markdown",
      "source": [
        "we can plot the training history:"
      ],
      "metadata": {
        "id": "xfHWH2QaAyT2"
      }
    },
    {
      "cell_type": "code",
      "source": [
        "display_metrics(history)"
      ],
      "metadata": {
        "colab": {
          "base_uri": "https://localhost:8080/",
          "height": 545
        },
        "id": "LNBfluIrAw2C",
        "outputId": "5a64c98f-40f3-4f2b-f585-332985392cce"
      },
      "execution_count": null,
      "outputs": [
        {
          "output_type": "display_data",
          "data": {
            "text/plain": [
              "<Figure size 1200x600 with 2 Axes>"
            ],
            "image/png": "[encoded data removed]"
          },
          "metadata": {}
        }
      ]
    },
    {
      "cell_type": "markdown",
      "source": [
        "The output of the model is a probability as it ranges from 0 to 1, so we can use this as a proxy for the Rotten Tomatoes score:"
      ],
      "metadata": {
        "id": "wgSeeA-tA6HX"
      }
    },
    {
      "cell_type": "code",
      "source": [
        "p_yx=model.predict(x_test[0:10])"
      ],
      "metadata": {
        "colab": {
          "base_uri": "https://localhost:8080/"
        },
        "id": "CR--ukZoA2Sl",
        "outputId": "73357338-5e22-4c38-d8ca-618ace52091d"
      },
      "execution_count": null,
      "outputs": [
        {
          "output_type": "stream",
          "name": "stdout",
          "text": [
            "1/1 [==============================] - 0s 46ms/step\n"
          ]
        }
      ]
    },
    {
      "cell_type": "markdown",
      "source": [
        "We can obtain the the rating using the helper function ```rotten_tomato_score``` which maps a probability to a prediction:\n"
      ],
      "metadata": {
        "id": "kdackvEwA9bi"
      }
    },
    {
      "cell_type": "code",
      "source": [
        "rotten_tomato_score(p_yx)"
      ],
      "metadata": {
        "colab": {
          "base_uri": "https://localhost:8080/"
        },
        "id": "3Cdkk2XOA7eg",
        "outputId": "ec23f6a5-e424-4aeb-99f0-7db6f9e7b64d"
      },
      "execution_count": null,
      "outputs": [
        {
          "output_type": "execute_result",
          "data": {
            "text/plain": [
              "['rotten',\n",
              " 'rotten',\n",
              " 'fresh',\n",
              " 'fresh',\n",
              " 'fresh',\n",
              " 'rotten',\n",
              " 'rotten',\n",
              " 'rotten',\n",
              " 'rotten',\n",
              " 'fresh']"
            ]
          },
          "metadata": {},
          "execution_count": 42
        }
      ]
    },
    {
      "cell_type": "markdown",
      "source": [
        "# Visualizing the embedding weights\n",
        "\n",
        "The weights in the embedding layer contain correlations between words.let's obtain the embedding weights"
      ],
      "metadata": {
        "id": "ArtPv0uEBDTw"
      }
    },
    {
      "cell_type": "code",
      "source": [
        "weights = model.layers[0].get_weights()[0]"
      ],
      "metadata": {
        "id": "mqxdg4P0A_w-"
      },
      "execution_count": null,
      "outputs": []
    },
    {
      "cell_type": "markdown",
      "source": [
        "there are 10,000 words so there are 10,000 different parameter vectors, each has 8 dimensions"
      ],
      "metadata": {
        "id": "YxFQ_zO2BPDe"
      }
    },
    {
      "cell_type": "code",
      "source": [
        "weights.shape"
      ],
      "metadata": {
        "colab": {
          "base_uri": "https://localhost:8080/"
        },
        "id": "9opbWAB2BOMb",
        "outputId": "bfe659c6-f0fb-4249-e87c-6461b452fbb9"
      },
      "execution_count": null,
      "outputs": [
        {
          "output_type": "execute_result",
          "data": {
            "text/plain": [
              "(10000, 8)"
            ]
          },
          "metadata": {},
          "execution_count": 44
        }
      ]
    },
    {
      "cell_type": "markdown",
      "source": [
        "We can't visualize the vector as it's 8-dimensional, but we can use **T-distributed Stochastic Neighbor Embedding (TSNE)** to reduce the dimension to two for visualizing the embeddings on a 2D plot:"
      ],
      "metadata": {
        "id": "LfDVaLivBYQH"
      }
    },
    {
      "cell_type": "code",
      "source": [
        "from sklearn.manifold import TSNE\n",
        "tsne = TSNE(n_components=2)\n",
        "X_embedded = tsne.fit_transform(weights)"
      ],
      "metadata": {
        "id": "WuqH1F3_BWOY"
      },
      "execution_count": null,
      "outputs": []
    },
    {
      "cell_type": "markdown",
      "source": [
        "Now that the embeddings are transformed let's use the helper function plot_embedding to visualize them the staring word index is start and stop is the index of the last word: sample is the number of sample betweensamples"
      ],
      "metadata": {
        "id": "p3jxstwGBpdB"
      }
    },
    {
      "cell_type": "code",
      "source": [
        "start=1\n",
        "stop=600\n",
        "sample=10\n",
        "plot_embedding(X_embedded,start,stop,sample)"
      ],
      "metadata": {
        "colab": {
          "base_uri": "https://localhost:8080/",
          "height": 430
        },
        "id": "Tf8dmYYUBop-",
        "outputId": "2a308ff9-6cb6-41f5-c5d7-79e9814d4619"
      },
      "execution_count": null,
      "outputs": [
        {
          "output_type": "display_data",
          "data": {
            "text/plain": [
              "<Figure size 640x480 with 1 Axes>"
            ],
            "image/png": "[encoded data removed]"
          },
          "metadata": {}
        }
      ]
    },
    {
      "cell_type": "markdown",
      "source": [
        "# Exercies 1\n",
        "\n",
        "Recreate the model above but add a dense layer with 500 neurons (using relu activation), a dense layer with 250 neurons (using relu activation), and a final layer for classification, then use the function display_metrics to plot the results."
      ],
      "metadata": {
        "id": "sZZFsEKNB8N0"
      }
    },
    {
      "cell_type": "code",
      "source": [
        "model = Sequential()\n",
        "model.add(Embedding(10000, 8, input_length=20))\n",
        "model.add(Flatten())\n",
        "\n",
        "model.add(Dense(500, activation='relu'))\n",
        "model.add(Dense(250, activation='relu'))\n",
        "model.add(Dense(1, activation='sigmoid'))\n",
        "model.compile(optimizer='rmsprop', loss='binary_crossentropy', metrics=['acc'])\n",
        "history = model.fit(x_train, y_train, epochs=10,batch_size=30,validation_split=0.2)\n",
        "\n",
        "display_metrics(history)"
      ],
      "metadata": {
        "colab": {
          "base_uri": "https://localhost:8080/",
          "height": 892
        },
        "id": "QpzsSin7B5Yo",
        "outputId": "f5ac9c86-fecf-41a4-e5ec-baa722437087"
      },
      "execution_count": null,
      "outputs": [
        {
          "output_type": "stream",
          "name": "stdout",
          "text": [
            "Epoch 1/10\n",
            "667/667 [==============================] - 3s 4ms/step - loss: 0.5897 - acc: 0.6625 - val_loss: 0.5396 - val_acc: 0.7272\n",
            "Epoch 2/10\n",
            "667/667 [==============================] - 3s 4ms/step - loss: 0.4466 - acc: 0.7884 - val_loss: 0.4926 - val_acc: 0.7460\n",
            "Epoch 3/10\n",
            "667/667 [==============================] - 3s 4ms/step - loss: 0.3860 - acc: 0.8259 - val_loss: 0.5082 - val_acc: 0.7470\n",
            "Epoch 4/10\n",
            "667/667 [==============================] - 4s 6ms/step - loss: 0.3313 - acc: 0.8579 - val_loss: 0.5583 - val_acc: 0.7442\n",
            "Epoch 5/10\n",
            "667/667 [==============================] - 3s 4ms/step - loss: 0.2743 - acc: 0.8863 - val_loss: 0.5960 - val_acc: 0.7352\n",
            "Epoch 6/10\n",
            "667/667 [==============================] - 3s 4ms/step - loss: 0.2177 - acc: 0.9144 - val_loss: 0.6624 - val_acc: 0.7246\n",
            "Epoch 7/10\n",
            "667/667 [==============================] - 3s 4ms/step - loss: 0.1620 - acc: 0.9374 - val_loss: 0.7940 - val_acc: 0.7106\n",
            "Epoch 8/10\n",
            "667/667 [==============================] - 3s 5ms/step - loss: 0.1118 - acc: 0.9599 - val_loss: 0.9339 - val_acc: 0.7098\n",
            "Epoch 9/10\n",
            "667/667 [==============================] - 4s 6ms/step - loss: 0.0706 - acc: 0.9776 - val_loss: 1.1291 - val_acc: 0.7096\n",
            "Epoch 10/10\n",
            "667/667 [==============================] - 3s 4ms/step - loss: 0.0379 - acc: 0.9876 - val_loss: 1.4538 - val_acc: 0.7010\n"
          ]
        },
        {
          "output_type": "display_data",
          "data": {
            "text/plain": [
              "<Figure size 1200x600 with 2 Axes>"
            ],
            "image/png": "[encoded data removed]"
          },
          "metadata": {}
        }
      ]
    },
    {
      "cell_type": "markdown",
      "source": [
        "# Exercise 2 - Question: Does this model perform better then the last model? Why or why not?"
      ],
      "metadata": {
        "id": "842-P6CRCB9h"
      }
    },
    {
      "cell_type": "markdown",
      "source": [
        "### Exercise 3 - Introduce L2 and dropout regulation to your model (there are many solutions, one is given here)"
      ],
      "metadata": {
        "id": "swO4k3BrCJfw"
      }
    },
    {
      "cell_type": "code",
      "source": [
        "model = Sequential()\n",
        "model.add(Embedding(max_features, 8, input_length=maxlen))\n",
        "model.add(Flatten())\n",
        "model.add(Dense(500, kernel_initializer='normal', activation='relu',kernel_regularizer=regularizers.L2(l2=5e-3)))\n",
        "model.add(Dropout(.4))\n",
        "\n",
        "model.add(Dense(250, kernel_initializer='normal', activation='relu',kernel_regularizer=regularizers.L2(l2=5e-3)))\n",
        "model.add(Dropout(.3))\n",
        "model.add(Dense(1, activation='sigmoid'))\n",
        "model.compile(optimizer='rmsprop', loss='binary_crossentropy', metrics=['acc'])\n",
        "model.summary()\n",
        "\n",
        "history = model.fit(x_train, y_train, epochs=10,batch_size=64, validation_split=0.2)\n",
        "display_metrics(history)"
      ],
      "metadata": {
        "colab": {
          "base_uri": "https://localhost:8080/",
          "height": 1000
        },
        "id": "cf0Q4TNhCA7z",
        "outputId": "c47f9b83-87b2-4be5-8050-88512fbff35d"
      },
      "execution_count": null,
      "outputs": [
        {
          "output_type": "stream",
          "name": "stdout",
          "text": [
            "Model: \"sequential_5\"\n",
            "_________________________________________________________________\n",
            " Layer (type)                Output Shape              Param #   \n",
            "=================================================================\n",
            " embedding_4 (Embedding)     (None, 20, 8)             80000     \n",
            "                                                                 \n",
            " flatten_2 (Flatten)         (None, 160)               0         \n",
            "                                                                 \n",
            " dense_4 (Dense)             (None, 500)               80500     \n",
            "                                                                 \n",
            " dropout (Dropout)           (None, 500)               0         \n",
            "                                                                 \n",
            " dense_5 (Dense)             (None, 250)               125250    \n",
            "                                                                 \n",
            " dropout_1 (Dropout)         (None, 250)               0         \n",
            "                                                                 \n",
            " dense_6 (Dense)             (None, 1)                 251       \n",
            "                                                                 \n",
            "=================================================================\n",
            "Total params: 286001 (1.09 MB)\n",
            "Trainable params: 286001 (1.09 MB)\n",
            "Non-trainable params: 0 (0.00 Byte)\n",
            "_________________________________________________________________\n",
            "Epoch 1/10\n",
            "313/313 [==============================] - 3s 6ms/step - loss: 0.9382 - acc: 0.5013 - val_loss: 0.6933 - val_acc: 0.4938\n",
            "Epoch 2/10\n",
            "313/313 [==============================] - 2s 6ms/step - loss: 0.6932 - acc: 0.4961 - val_loss: 0.6933 - val_acc: 0.4938\n",
            "Epoch 3/10\n",
            "313/313 [==============================] - 2s 6ms/step - loss: 0.6933 - acc: 0.4999 - val_loss: 0.6931 - val_acc: 0.5062\n",
            "Epoch 4/10\n",
            "313/313 [==============================] - 3s 9ms/step - loss: 0.6932 - acc: 0.4969 - val_loss: 0.6932 - val_acc: 0.4938\n",
            "Epoch 5/10\n",
            "313/313 [==============================] - 2s 7ms/step - loss: 0.6932 - acc: 0.5005 - val_loss: 0.6933 - val_acc: 0.4938\n",
            "Epoch 6/10\n",
            "313/313 [==============================] - 2s 6ms/step - loss: 0.6932 - acc: 0.4992 - val_loss: 0.6934 - val_acc: 0.4938\n",
            "Epoch 7/10\n",
            "313/313 [==============================] - 2s 6ms/step - loss: 0.6932 - acc: 0.4997 - val_loss: 0.6932 - val_acc: 0.4938\n",
            "Epoch 8/10\n",
            "313/313 [==============================] - 2s 6ms/step - loss: 0.6932 - acc: 0.4979 - val_loss: 0.6933 - val_acc: 0.4938\n",
            "Epoch 9/10\n",
            "313/313 [==============================] - 2s 6ms/step - loss: 0.6932 - acc: 0.5013 - val_loss: 0.6931 - val_acc: 0.5062\n",
            "Epoch 10/10\n",
            "313/313 [==============================] - 2s 7ms/step - loss: 0.6932 - acc: 0.4998 - val_loss: 0.6931 - val_acc: 0.5062\n"
          ]
        },
        {
          "output_type": "display_data",
          "data": {
            "text/plain": [
              "<Figure size 1200x600 with 2 Axes>"
            ],
            "image/png": "[encoded data removed]"
          },
          "metadata": {}
        }
      ]
    },
    {
      "cell_type": "code",
      "source": [],
      "metadata": {
        "id": "inqmmYjpCL0j"
      },
      "execution_count": null,
      "outputs": []
    }
  ]
}