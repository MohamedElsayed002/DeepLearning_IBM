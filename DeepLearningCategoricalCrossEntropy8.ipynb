{
  "nbformat": 4,
  "nbformat_minor": 0,
  "metadata": {
    "colab": {
      "provenance": [],
      "authorship_tag": "ABX9TyNKWxqKIiwpoItCLvzEx5an",
      "include_colab_link": true
    },
    "kernelspec": {
      "name": "python3",
      "display_name": "Python 3"
    },
    "language_info": {
      "name": "python"
    }
  },
  "cells": [
    {
      "cell_type": "markdown",
      "metadata": {
        "id": "view-in-github",
        "colab_type": "text"
      },
      "source": [
        "<a href=\"https://colab.research.google.com/github/MohamedElsayed002/DeepLearning_Study/blob/master/DeepLearningCategoricalCrossEntropy8.ipynb\" target=\"_parent\"><img src=\"https://colab.research.google.com/assets/colab-badge.svg\" alt=\"Open In Colab\"/></a>"
      ]
    },
    {
      "cell_type": "markdown",
      "source": [
        "# Categorical Cross Entropy Loss\n",
        "\n",
        "In this lab we going to use the MNIST hand-writen digits as a set motivating example to understand categorical cross-entropy loss.\n"
      ],
      "metadata": {
        "id": "qqmlrfpeTfYk"
      }
    },
    {
      "cell_type": "markdown",
      "source": [
        "## House Number Detection\n",
        "\n",
        "You have been tasked with building a model that can recognize house numbers from arbitrary street-view images. You are given a set of images of single-digit house numbers engraved into slates or wall surfaces. The images vary in size and color. In this lab, we are going to use the MNIST hand-written digits dataset as a motivating example to understand the __softmax function__, __one-hot encoding__, and __categorical cross-entropy loss__. The MNIST hand-written dataset has 10 classes, each representing a digit from 0-9. We will attempt to build a multi-class classification model that will identify which digit is present in the image.\n",
        "\n",
        "\n"
      ],
      "metadata": {
        "id": "q4ZAG0cSTqG1"
      }
    },
    {
      "cell_type": "markdown",
      "source": [
        "<img src=\"https://cf-courses-data.s3.us.cloud-object-storage.appdomain.cloud/IBMDeveloperSkillsNetwork-ML311-Coursera/labs/Module3/L1/house_number.jpg\" style=\"width: 30%\">\n",
        "\n",
        "<!-- Original Source: https://slate.com/human-interest/2020/06/a-quest-to-catalogue-every-single-house-number-in-one-suburban-zip-code.html -->"
      ],
      "metadata": {
        "id": "72jfSe0rT4K9"
      }
    },
    {
      "cell_type": "markdown",
      "source": [
        "## **Table of Contents**\n",
        "\n",
        "<ol>\n",
        "    <li><a href=\"https://#Objectives\">Objectives</a></li>\n",
        "    <li><a href=\"https://#Datasets\">Datasets</a></li>\n",
        "    <li>\n",
        "        <a href=\"https://#Setup\">Setup</a>\n",
        "        <ol>\n",
        "            <li><a href=\"https://#Installing-Required-Libraries\">Installing Required Libraries</a></li>\n",
        "            <li><a href=\"https://#Importing-Required-Libraries\">Importing Required Libraries</a></li>\n",
        "            <li><a href=\"https://#Defining-Helper-Functions\">Defining Helper Functions</a></li>\n",
        "        </ol>\n",
        "    </li>\n",
        "    <li><a href=\"https://https://#Categorical Cross-Entropy\">Categorical Cross-Entropy</a>\n",
        "        <ol>\n",
        "            <li><a href=\"https://#Softmax Activation Function\">Softmax Activation Function</a></li>\n",
        "            <li><a href=\"https://#One-Hot Encoding\">One-Hot Encoding</a></li>\n",
        "            <li><a href=\"#Categorical Cross-Entropy\">Categorical Cross-Entropy</a></li>\n",
        "        </ol>\n",
        "    </li>\n",
        "    <li><a href=\"https://#Binary vs. Multi-Class Classification\">Binary vs. Multi-Class Classification</a>\n",
        "        <ol>\n",
        "            <li><a href=\"https://#Binary Classification\">Binary Classification</a></li>\n",
        "            <li><a href=\"https://#Multi-Class Classification\">Multi-Class Classification</a></li>\n",
        "        </ol>\n",
        "    </li>\n",
        "    <li>\n",
        "        <a href=\"https://#Example: MNIST Hand-Written Digits\">Example: MNIST Hand-Written Digits</a> </li>\n",
        "    <li>\n",
        "        <a href=\"https://#Example: Single-Digit House Number Recognition\"> Example: Single-Digit House Number Recognition</a> </li>\n",
        "    <li><a href=\"https://#Exercises\">Exercises</a>\n",
        "        <ol>\n",
        "            <li><a href=\"https://#Exercise 1 - Loading and plotting the images\">Exercise 1 - Loading and plotting the images</a></li>\n",
        "            <li><a href=\"https://#Exercise 2 - Preparing the data\">Exercise 2 - Preparing the data</a></li>\n",
        "            <li><a href=\"https://#Exercise 3 - One-hot encoding\">Exercise 3 - One-hot encoding</a></li>\n",
        "            <li><a href=\"https://#Exercise 4 - Build model architecture\">Exercise 4 - Build model architecture</a></li>\n",
        "            <li><a href=\"https://#(Optional) Exercise 5 - Sparse Categorical Cross-Entropy\">Sparse Categorical Cross-Entropy</a></li>\n",
        "        </ol>\n",
        "    </li>\n",
        "</ol>\n"
      ],
      "metadata": {
        "id": "imen-RgET7C0"
      }
    },
    {
      "cell_type": "code",
      "source": [
        "import cv2\n",
        "from urllib.request import urlopen\n",
        "from PIL import Image\n",
        "import IPython\n",
        "import numpy as np\n",
        "from matplotlib import pyplot as plt\n",
        "import pandas as pd, numpy as np\n",
        "from keras.datasets import mnist, fashion_mnist\n",
        "import random\n",
        "from sklearn.preprocessing import OneHotEncoder\n",
        "from tensorflow.keras.losses import CategoricalCrossentropy,SparseCategoricalCrossentropy,BinaryCrossentropy\n",
        "from sklearn.datasets import make_blobs\n",
        "from mlxtend.plotting import plot_decision_regions\n",
        "import tensorflow as tf\n",
        "print(tf.__version__)\n",
        "from sklearn import preprocessing\n",
        "from tensorflow.keras.utils import to_categorical\n",
        "from tensorflow.keras.models import Sequential\n",
        "from tensorflow.keras.layers import Dense"
      ],
      "metadata": {
        "colab": {
          "base_uri": "https://localhost:8080/"
        },
        "id": "JzB9qNBKTppu",
        "outputId": "d8d278ed-6b18-4a3b-89ad-f2b9ff2f8256"
      },
      "execution_count": null,
      "outputs": [
        {
          "output_type": "stream",
          "name": "stdout",
          "text": [
            "2.15.0\n"
          ]
        }
      ]
    },
    {
      "cell_type": "code",
      "source": [
        "def generate_multiclass_blobs(num_samples_total, training_split, cluster_centers, num_classes, loss_function_used):\n",
        "    X, targets = make_blobs(n_samples = num_samples_total, centers = cluster_centers, n_features = num_classes, center_box=(0, 1), cluster_std = 1.5)\n",
        "    categorical_targets = to_categorical(targets)\n",
        "    X_training = X[training_split:, :]\n",
        "    X_testing = X[:training_split, :]\n",
        "    Targets_training = categorical_targets[training_split:]\n",
        "    Targets_testing = categorical_targets[:training_split].astype(np.int32)\n",
        "    return X_training, Targets_training, X_testing, Targets_testing\n",
        "\n",
        "\n",
        "def generate_binary_blobs(num_samples_total, training_split, loss_function_used):\n",
        "    X, targets = make_blobs(n_samples = num_samples_total, centers = [(0,0), (15,15)], n_features = 2, center_box=(0, 1), cluster_std = 2.5)\n",
        "    targets[np.where(targets == 0)] = -1\n",
        "    X_training = X[training_split:, :]\n",
        "    X_testing = X[:training_split, :]\n",
        "    Targets_training = targets[training_split:]\n",
        "    Targets_testing = targets[:training_split]\n",
        "    return X_training, Targets_training, X_testing, Targets_testing"
      ],
      "metadata": {
        "id": "ckipKWrXUFUt"
      },
      "execution_count": null,
      "outputs": []
    },
    {
      "cell_type": "markdown",
      "source": [
        "# Categorical Cross-Entropy\n",
        "\n",
        "When working on a machine learning problem, we use loss functions to optimize our models during training where a common objective is to minimize the loss function.\n",
        "\n",
        "Cross-entropy is a widely used loss or cost function, that is used to optimize classification models. Before delving into cross-entropy, let us first cover the prerequisites by learning about a common activation function called Softmax."
      ],
      "metadata": {
        "id": "8KwjSIXxURPl"
      }
    },
    {
      "cell_type": "markdown",
      "source": [
        "# Softmax Activation Function\n",
        "\n",
        "Activation functions are transformations applied to the output from CNNs before loss computations.\n",
        "\n",
        "The Softmax activation function is typically placed as the last layer in a neural network and used to normalize the output of a network to a probability distribution over predicted output classes.\n",
        "\n",
        "It does so by scaling numbers/logits into probabilities for each possible outcome or class present in our dataset. The resulting probabilities in the vector sum up to one.\n",
        "\n",
        "Mathematically, Softmax is defined as follows:\n",
        "\n",
        "<img src=\"https://cf-courses-data.s3.us.cloud-object-storage.appdomain.cloud/IBMDeveloperSkillsNetwork-ML311-Coursera/labs/Module3/L1/softmax.png\" style=\"width: 30%\">"
      ],
      "metadata": {
        "id": "qQrPQ9qBUbEU"
      }
    },
    {
      "cell_type": "markdown",
      "source": [
        "Here, $\\overrightarrow{{z}}$ is an input vector to the Softmax function $\\sigma$.\n",
        "\n",
        "$\\overrightarrow{{z}}\\_i$ represents the $i$th element of the input vector, and can take on values from -inf to inf.\n",
        "\n",
        "$\\overrightarrow{{z}}_i$ represents the $i$th element of the input vector, and can take on values from -inf to inf.\n",
        "\n",
        "$e^{z_i}$ is a standard exponential function applied on the $i$th element of $z$, and the denominator is a normalizing term (L1-norm) to ensure the result is a valid probability distribution, that is, sums up to 1, and values are within the 0 - 1 range."
      ],
      "metadata": {
        "id": "dCr0ZiHXUuDL"
      }
    },
    {
      "cell_type": "markdown",
      "source": [
        "Exponential is a steeply increasing function; that is, it increases the difference between outputs. In the final output, the largest element (which dominates the norm) is normalized to a value close to 1, while all the other elements end up being close to 0. Not only does the resulting vector show the winning class, but it also retains the original order of values.\n",
        "\n",
        "\n",
        "Another important point to note is that Softmax is not affected by negative values, as the exponent of any value is always a positive value."
      ],
      "metadata": {
        "id": "Ye9gDG1hUvt7"
      }
    },
    {
      "cell_type": "markdown",
      "source": [
        "Let us walk through an example to understand Softmax.\n",
        "\n",
        "Imagine you are building a CNN model to classify an image as a dog, cat, fish, or horse. The fully-connected layer of your CNN gives a vector of logits. You pass the vector through the Softmax function above to obtain probabilities."
      ],
      "metadata": {
        "id": "TE8yWgwCUylT"
      }
    },
    {
      "cell_type": "markdown",
      "source": [
        "![](https://cf-courses-data.s3.us.cloud-object-storage.appdomain.cloud/IBMDeveloperSkillsNetwork-ML311-Coursera/labs/Module3/L1/cce_diag.png)"
      ],
      "metadata": {
        "id": "yvUdDOmhU7gq"
      }
    },
    {
      "cell_type": "markdown",
      "source": [
        "# One-Hot encoding\n",
        "\n",
        "The ground truth is typically presented in form of categorical data; that is, a given image is categorized into one of these classes: dog, cat, fish, or horse.\n",
        "\n",
        "\n",
        "For categorical variables where no ordinal relationships exist, we can perform one-hot encoding to represent each class. This is best explained through an example.\n",
        "\n",
        "In our case, we will have four classes, and these are the corresponding one-hot encoded labels:\n"
      ],
      "metadata": {
        "id": "tT1YRQY1U-_D"
      }
    },
    {
      "cell_type": "markdown",
      "source": [
        "<img src=\"https://cf-courses-data.s3.us.cloud-object-storage.appdomain.cloud/IBMDeveloperSkillsNetwork-ML311-Coursera/labs/Module3/L1/ohe_labels.png\" style=\"width: 50%\">"
      ],
      "metadata": {
        "id": "TzRHtrnjVIY7"
      }
    },
    {
      "cell_type": "markdown",
      "source": [
        "So in one-hot encoding, we represent labels with a binary variable where for every given class, we have the value 1 for the position corresponding to that particular class and 0 elsewhere (that is, 100% probability of belonging to that class)."
      ],
      "metadata": {
        "id": "E3Bu-aGJVN1b"
      }
    },
    {
      "cell_type": "markdown",
      "source": [
        "### Back to Categorical Cross-Entropy\n",
        "\n",
        "Now that we have converted the logits to output probabilities, we need to measure how good they are; that is, measure the distance from the truth values\n",
        "\n",
        "For instance, in the example above, the desired output is [1,0,0,0], but the model outputs [0.775,0.116,0.039,0.070].\n",
        "\n",
        "The categorical cross-entropy is mathematically defined as follows:\n",
        "\n",
        "\n",
        "<img src=\"https://cf-courses-data.s3.us.cloud-object-storage.appdomain.cloud/IBMDeveloperSkillsNetwork-ML311-Coursera/labs/Module3/L1/cce.png\" style=\"width: 30%\">\n",
        "\n",
        "We can use the formula above to compute the cross-entropy loss. When training our model, we iteratively update the weights to minimize the cross-entropy loss.\n",
        "\n",
        "The Softmax is continuously differentiable, and this property makes it easy to compute the derivative of the loss function and, accordingly, adjust the model weights in each iteration to minimize the loss function.\n",
        "\n",
        "In the next iteration, if our $$L\\_{CE}$$ is lower than the current one, we say that the model is *learning*.\n"
      ],
      "metadata": {
        "id": "7B8uhoL4Vc3y"
      }
    },
    {
      "cell_type": "markdown",
      "source": [
        "# Binary vs. Multi-Class Classification\n",
        "\n",
        "Now, let us do a quick review of binary and multi-class classification. Binary classification tasks require that all examples be assigned to one of two classes, whereas in multi-class classification, examples can belong to more than two classes.\n",
        "\n",
        "For binary classification problems, we have a final layer with a single node and a sigmoid activation function. It can map the output vector from a CNN to values between 0 and 1 before loss computations. The sigmoid function is denoted using the following formula:\n",
        "\n",
        "$$\\sigma(x) = 1/(1+e^{-x})$$\n"
      ],
      "metadata": {
        "id": "VSN4t3lTVtG6"
      }
    },
    {
      "cell_type": "markdown",
      "source": [
        "Let's see binary classification and multi-class classification in action.\n",
        "\n",
        "## Binary Classification\n",
        "\n",
        "Using a helper function defined at the beginning of the notebook, we will use the `make_blobs()` function from `sklearn` to generate isotropic Gaussian blobs for classification.\n",
        "\n",
        "We will create a data set with 1000 samples, and use 750 of those samples for training a simple CNN model.\n",
        "\n",
        "### Let us define a few more configuration\n",
        "\n",
        "*   **num_samples**: refers to the total number of samples in our dataset\n",
        "*   **test_split**: refers to the number of samples to be used for testing\n",
        "*   **cluster_centers**: we define 2 centers for our isotropic Gaussian blobs\n",
        "*   **num_classes**: we have 2 classes\n",
        "*   **loss_function_used**: since this is a binary classification problem, we use binary cross-entropy loss"
      ],
      "metadata": {
        "id": "303sCNUQV8SV"
      }
    },
    {
      "cell_type": "code",
      "source": [
        "num_samples = 1000\n",
        "test_split = 250\n",
        "cluster_centers = [(15,0), (30,15)]\n",
        "num_classes = len(cluster_centers)\n",
        "loss_function_used = BinaryCrossentropy(from_logits=True)"
      ],
      "metadata": {
        "id": "-9e_dYNiU7qq"
      },
      "execution_count": null,
      "outputs": []
    },
    {
      "cell_type": "code",
      "source": [
        "X_training, Targets_training, X_testing, Targets_testing=generate_binary_blobs(num_samples, test_split, loss_function_used)\n"
      ],
      "metadata": {
        "id": "7FrPOJ_-WU6W"
      },
      "execution_count": null,
      "outputs": []
    },
    {
      "cell_type": "code",
      "source": [
        "plt.figure(figsize=(4, 4))\n",
        "plt.scatter(X_training[:,0], X_training[:,1])\n",
        "plt.title('Linearly separable data')\n",
        "plt.xlabel('X1')\n",
        "plt.ylabel('X2')\n",
        "plt.show()"
      ],
      "metadata": {
        "colab": {
          "base_uri": "https://localhost:8080/",
          "height": 410
        },
        "id": "EG_qxU2RWoh3",
        "outputId": "64b753c6-a85b-469b-e433-31a470a63b5d"
      },
      "execution_count": null,
      "outputs": [
        {
          "output_type": "display_data",
          "data": {
            "text/plain": [
              "<Figure size 400x400 with 1 Axes>"
            ],
            "image/png": "[encoded data removed]"
          },
          "metadata": {}
        }
      ]
    },
    {
      "cell_type": "markdown",
      "source": [
        "We will build a simple CNN model with two hidden layers, that uses sigmoid as the activation function, and binary cross-entropy as the loss function let's define the archieture of our model"
      ],
      "metadata": {
        "id": "b8OP60hFWuWT"
      }
    },
    {
      "cell_type": "code",
      "source": [
        "feature_vector_shape = X_training.shape[1]\n",
        "input_shape = (feature_vector_shape,)\n",
        "\n",
        "model = Sequential()\n",
        "model.add(Dense(12, input_shape=input_shape, activation='relu', kernel_initializer='he_uniform'))\n",
        "model.add(Dense(8, activation='relu', kernel_initializer='he_uniform'))\n",
        "model.add(Dense(1,activation='sigmoid'))"
      ],
      "metadata": {
        "id": "IciTp8qOWp7v"
      },
      "execution_count": null,
      "outputs": []
    },
    {
      "cell_type": "code",
      "source": [
        "model.compile(loss=loss_function_used, optimizer=tf.keras.optimizers.Adam(lr=0.01), metrics=['accuracy'])\n",
        "history = model.fit(X_training, Targets_training, epochs=30, batch_size=5, verbose=1, validation_split=0.2)"
      ],
      "metadata": {
        "colab": {
          "base_uri": "https://localhost:8080/"
        },
        "id": "6gaFj2VbXMYO",
        "outputId": "d21c2fbc-259c-47ad-deb9-717b780cab1b"
      },
      "execution_count": null,
      "outputs": [
        {
          "output_type": "stream",
          "name": "stderr",
          "text": [
            "WARNING:absl:`lr` is deprecated in Keras optimizer, please use `learning_rate` or use the legacy optimizer, e.g.,tf.keras.optimizers.legacy.Adam.\n"
          ]
        },
        {
          "output_type": "stream",
          "name": "stdout",
          "text": [
            "Epoch 1/30\n"
          ]
        },
        {
          "output_type": "stream",
          "name": "stderr",
          "text": [
            "/usr/local/lib/python3.10/dist-packages/keras/src/backend.py:5818: UserWarning: \"`binary_crossentropy` received `from_logits=True`, but the `output` argument was produced by a Sigmoid activation and thus does not represent logits. Was this intended?\n",
            "  output, from_logits = _get_logits(\n"
          ]
        },
        {
          "output_type": "stream",
          "name": "stdout",
          "text": [
            "120/120 [==============================] - 2s 4ms/step - loss: 0.3491 - accuracy: 0.4283 - val_loss: -0.4795 - val_accuracy: 0.5133\n",
            "Epoch 2/30\n",
            "120/120 [==============================] - 0s 3ms/step - loss: -1.2941 - accuracy: 0.4883 - val_loss: -1.9213 - val_accuracy: 0.4800\n",
            "Epoch 3/30\n",
            "120/120 [==============================] - 0s 3ms/step - loss: -2.9973 - accuracy: 0.4767 - val_loss: -4.0631 - val_accuracy: 0.5000\n",
            "Epoch 4/30\n",
            "120/120 [==============================] - 0s 3ms/step - loss: -6.2397 - accuracy: 0.4733 - val_loss: -8.0303 - val_accuracy: 0.5000\n",
            "Epoch 5/30\n",
            "120/120 [==============================] - 0s 3ms/step - loss: -11.7644 - accuracy: 0.4733 - val_loss: -14.2943 - val_accuracy: 0.4867\n",
            "Epoch 6/30\n",
            "120/120 [==============================] - 0s 2ms/step - loss: -20.5101 - accuracy: 0.4683 - val_loss: -24.2527 - val_accuracy: 0.5000\n",
            "Epoch 7/30\n",
            "120/120 [==============================] - 1s 6ms/step - loss: -33.4701 - accuracy: 0.4700 - val_loss: -38.4863 - val_accuracy: 0.4933\n",
            "Epoch 8/30\n",
            "120/120 [==============================] - 0s 3ms/step - loss: -51.2048 - accuracy: 0.4667 - val_loss: -55.9741 - val_accuracy: 0.5000\n",
            "Epoch 9/30\n",
            "120/120 [==============================] - 0s 3ms/step - loss: -73.9615 - accuracy: 0.4633 - val_loss: -78.6375 - val_accuracy: 0.5000\n",
            "Epoch 10/30\n",
            "120/120 [==============================] - 0s 3ms/step - loss: -102.2427 - accuracy: 0.4667 - val_loss: -106.5374 - val_accuracy: 0.5067\n",
            "Epoch 11/30\n",
            "120/120 [==============================] - 0s 2ms/step - loss: -136.7301 - accuracy: 0.4667 - val_loss: -140.7352 - val_accuracy: 0.5067\n",
            "Epoch 12/30\n",
            "120/120 [==============================] - 0s 3ms/step - loss: -177.7118 - accuracy: 0.4633 - val_loss: -180.5816 - val_accuracy: 0.5000\n",
            "Epoch 13/30\n",
            "120/120 [==============================] - 0s 3ms/step - loss: -225.8210 - accuracy: 0.4733 - val_loss: -225.2856 - val_accuracy: 0.4467\n",
            "Epoch 14/30\n",
            "120/120 [==============================] - 0s 2ms/step - loss: -281.3529 - accuracy: 0.4633 - val_loss: -279.1743 - val_accuracy: 0.4933\n",
            "Epoch 15/30\n",
            "120/120 [==============================] - 0s 3ms/step - loss: -344.2540 - accuracy: 0.4633 - val_loss: -339.1085 - val_accuracy: 0.5067\n",
            "Epoch 16/30\n",
            "120/120 [==============================] - 0s 3ms/step - loss: -415.1595 - accuracy: 0.4717 - val_loss: -406.5259 - val_accuracy: 0.4733\n",
            "Epoch 17/30\n",
            "120/120 [==============================] - 0s 2ms/step - loss: -496.9964 - accuracy: 0.4617 - val_loss: -488.4707 - val_accuracy: 0.5000\n",
            "Epoch 18/30\n",
            "120/120 [==============================] - 1s 5ms/step - loss: -599.1353 - accuracy: 0.4733 - val_loss: -585.1102 - val_accuracy: 0.4733\n",
            "Epoch 19/30\n",
            "120/120 [==============================] - 2s 14ms/step - loss: -714.4296 - accuracy: 0.4633 - val_loss: -693.5470 - val_accuracy: 0.4867\n",
            "Epoch 20/30\n",
            "120/120 [==============================] - 2s 14ms/step - loss: -842.2928 - accuracy: 0.4633 - val_loss: -811.9370 - val_accuracy: 0.4933\n",
            "Epoch 21/30\n",
            "120/120 [==============================] - 2s 13ms/step - loss: -980.6971 - accuracy: 0.4683 - val_loss: -941.5336 - val_accuracy: 0.4867\n",
            "Epoch 22/30\n",
            "120/120 [==============================] - 0s 3ms/step - loss: -1130.8905 - accuracy: 0.4667 - val_loss: -1080.5370 - val_accuracy: 0.4733\n",
            "Epoch 23/30\n",
            "120/120 [==============================] - 0s 4ms/step - loss: -1293.3462 - accuracy: 0.4633 - val_loss: -1228.6948 - val_accuracy: 0.5000\n",
            "Epoch 24/30\n",
            "120/120 [==============================] - 0s 3ms/step - loss: -1468.6782 - accuracy: 0.4717 - val_loss: -1390.1578 - val_accuracy: 0.4933\n",
            "Epoch 25/30\n",
            "120/120 [==============================] - 0s 3ms/step - loss: -1657.9308 - accuracy: 0.4700 - val_loss: -1564.2834 - val_accuracy: 0.4933\n",
            "Epoch 26/30\n",
            "120/120 [==============================] - 0s 3ms/step - loss: -1861.8175 - accuracy: 0.4683 - val_loss: -1749.5692 - val_accuracy: 0.4933\n",
            "Epoch 27/30\n",
            "120/120 [==============================] - 0s 3ms/step - loss: -2078.3552 - accuracy: 0.4717 - val_loss: -1950.4130 - val_accuracy: 0.4933\n",
            "Epoch 28/30\n",
            "120/120 [==============================] - 0s 3ms/step - loss: -2310.1760 - accuracy: 0.4717 - val_loss: -2155.9934 - val_accuracy: 0.4933\n",
            "Epoch 29/30\n",
            "120/120 [==============================] - 0s 3ms/step - loss: -2554.4102 - accuracy: 0.4683 - val_loss: -2382.2319 - val_accuracy: 0.4933\n",
            "Epoch 30/30\n",
            "120/120 [==============================] - 0s 3ms/step - loss: -2813.2502 - accuracy: 0.4717 - val_loss: -2614.2349 - val_accuracy: 0.5000\n"
          ]
        }
      ]
    },
    {
      "cell_type": "markdown",
      "source": [
        "We will now use the trained model to make predictions on an unseen test dataset"
      ],
      "metadata": {
        "id": "5t7ok8bgXqeC"
      }
    },
    {
      "cell_type": "code",
      "source": [
        "test_results = model.evaluate(X_testing, Targets_testing, verbose=1)\n",
        "print(f'Test results - Loss: {test_results[0]} - Accuracy: {test_results[1]*100}%')"
      ],
      "metadata": {
        "colab": {
          "base_uri": "https://localhost:8080/"
        },
        "id": "cOlbb8KvXvfl",
        "outputId": "ba3657cd-495d-4668-eb4d-3490afffa19c"
      },
      "execution_count": null,
      "outputs": [
        {
          "output_type": "stream",
          "name": "stdout",
          "text": [
            "8/8 [==============================] - 0s 4ms/step - loss: -2627.1455 - accuracy: 0.4800\n",
            "Test results - Loss: -2627.1455078125 - Accuracy: 47.999998927116394%\n"
          ]
        }
      ]
    },
    {
      "cell_type": "code",
      "source": [
        "plot_decision_regions(X_testing,Targets_testing,clf=model,legend=2)\n",
        "plt.figure(figsize=(4,4))\n",
        "plt.show()"
      ],
      "metadata": {
        "colab": {
          "base_uri": "https://localhost:8080/",
          "height": 465
        },
        "id": "mvXhxHDvXy5l",
        "outputId": "5918f6de-e0e8-4128-b856-b3403d9a179b"
      },
      "execution_count": null,
      "outputs": [
        {
          "output_type": "stream",
          "name": "stdout",
          "text": [
            "9600/9600 [==============================] - 15s 2ms/step\n"
          ]
        },
        {
          "output_type": "display_data",
          "data": {
            "text/plain": [
              "<Figure size 640x480 with 1 Axes>"
            ],
            "image/png": "[encoded data removed]"
          },
          "metadata": {}
        },
        {
          "output_type": "display_data",
          "data": {
            "text/plain": [
              "<Figure size 400x400 with 0 Axes>"
            ]
          },
          "metadata": {}
        }
      ]
    },
    {
      "cell_type": "markdown",
      "source": [
        "The model successfuly classifies the two clusters into two classes"
      ],
      "metadata": {
        "id": "p6SWhfipYUQK"
      }
    },
    {
      "cell_type": "markdown",
      "source": [
        "### Multi-Class Classification\n",
        "\n",
        "Similar to binary classification, let's create another data set with 1000 samples, and use 750 of those samples for training a simple CNN model.\n",
        "\n",
        "Let us define a few more configuration options.\n",
        "\n",
        "\n",
        "*   **num_samples**: refers to the total number of samples in our dataset\n",
        "*   **test_split**: refers to the number of samples to be used for testing\n",
        "*   **cluster_centers**: we define 3 centers for our isotropic Gaussian blobs\n",
        "*   **num_classes**: we have 3 classes\n",
        "*   **loss_function_used**: since this is a multi-class classification problem, we use categorical cross-entropy loss\n"
      ],
      "metadata": {
        "id": "fG34cFlqYZW6"
      }
    },
    {
      "cell_type": "code",
      "source": [
        "num_samples = 1000\n",
        "train_split = 250\n",
        "cluster_centers = [(-10, 5), (0, 0), (10, 5)]\n",
        "num_classes = len(cluster_centers)\n",
        "loss_function_used = CategoricalCrossentropy(from_logits=True)"
      ],
      "metadata": {
        "id": "FojtlbU1YEHx"
      },
      "execution_count": null,
      "outputs": []
    },
    {
      "cell_type": "code",
      "source": [
        "X_training, Targets_training, X_testing, Targets_testing= generate_multiclass_blobs(num_samples, train_split,\n",
        "              cluster_centers, num_classes,\n",
        "              loss_function_used)"
      ],
      "metadata": {
        "id": "mDhbeCxUYiZB"
      },
      "execution_count": null,
      "outputs": []
    },
    {
      "cell_type": "code",
      "source": [
        "# Let's take a look at one of the samples\n",
        "\n",
        "plt.scatter(X_training[:,0], X_training[:,1])\n",
        "plt.title('Linearly separable data')\n",
        "plt.xlabel('X1')\n",
        "plt.ylabel('X2')\n",
        "plt.show()"
      ],
      "metadata": {
        "colab": {
          "base_uri": "https://localhost:8080/",
          "height": 472
        },
        "id": "TgZKM_SYYk-2",
        "outputId": "d6654310-6e7f-4f49-ed49-1363095033c9"
      },
      "execution_count": null,
      "outputs": [
        {
          "output_type": "display_data",
          "data": {
            "text/plain": [
              "<Figure size 640x480 with 1 Axes>"
            ],
            "image/png": "[encoded data removed]"
          },
          "metadata": {}
        }
      ]
    },
    {
      "cell_type": "markdown",
      "source": [
        "We will build a simple CNN model with two hidden layers, that uses softmax as the activation function, and categorical cross-entropy as the loss function. Let's define the architecture of our model:"
      ],
      "metadata": {
        "id": "D6h8UlUNYqPK"
      }
    },
    {
      "cell_type": "code",
      "source": [
        "feature_vector_shape = X_training.shape[1]\n",
        "input_shape = (feature_vector_shape,)\n",
        "\n",
        "model = Sequential()\n",
        "model.add(Dense(12, input_shape=input_shape, activation='relu', kernel_initializer='he_uniform'))\n",
        "model.add(Dense(8, activation='relu', kernel_initializer='he_uniform'))\n",
        "model.add(Dense(num_classes, activation='softmax'))"
      ],
      "metadata": {
        "id": "bak6415HYoHG"
      },
      "execution_count": null,
      "outputs": []
    },
    {
      "cell_type": "code",
      "source": [
        "model.compile(loss=loss_function_used, optimizer=tf.keras.optimizers.Adam(lr=0.001), metrics=['accuracy'])\n",
        "history = model.fit(X_training, Targets_training, epochs=30, batch_size=5, verbose=1, validation_split=0.2)"
      ],
      "metadata": {
        "colab": {
          "base_uri": "https://localhost:8080/"
        },
        "id": "VZPWi4yOYwaJ",
        "outputId": "b6d11806-1ea7-4413-c0d8-af6f0ad4da39"
      },
      "execution_count": null,
      "outputs": [
        {
          "output_type": "stream",
          "name": "stderr",
          "text": [
            "WARNING:absl:`lr` is deprecated in Keras optimizer, please use `learning_rate` or use the legacy optimizer, e.g.,tf.keras.optimizers.legacy.Adam.\n"
          ]
        },
        {
          "output_type": "stream",
          "name": "stdout",
          "text": [
            "Epoch 1/30\n"
          ]
        },
        {
          "output_type": "stream",
          "name": "stderr",
          "text": [
            "/usr/local/lib/python3.10/dist-packages/keras/src/backend.py:5575: UserWarning: \"`categorical_crossentropy` received `from_logits=True`, but the `output` argument was produced by a Softmax activation and thus does not represent logits. Was this intended?\n",
            "  output, from_logits = _get_logits(\n"
          ]
        },
        {
          "output_type": "stream",
          "name": "stdout",
          "text": [
            "120/120 [==============================] - 2s 8ms/step - loss: 2.2155 - accuracy: 0.4017 - val_loss: 0.7907 - val_accuracy: 0.5867\n",
            "Epoch 2/30\n",
            "120/120 [==============================] - 1s 7ms/step - loss: 0.5964 - accuracy: 0.7367 - val_loss: 0.4356 - val_accuracy: 0.9000\n",
            "Epoch 3/30\n",
            "120/120 [==============================] - 0s 3ms/step - loss: 0.3564 - accuracy: 0.9250 - val_loss: 0.3023 - val_accuracy: 0.9667\n",
            "Epoch 4/30\n",
            "120/120 [==============================] - 0s 2ms/step - loss: 0.2533 - accuracy: 0.9583 - val_loss: 0.2141 - val_accuracy: 0.9667\n",
            "Epoch 5/30\n",
            "120/120 [==============================] - 0s 3ms/step - loss: 0.1582 - accuracy: 0.9767 - val_loss: 0.1135 - val_accuracy: 0.9933\n",
            "Epoch 6/30\n",
            "120/120 [==============================] - 0s 3ms/step - loss: 0.0826 - accuracy: 0.9883 - val_loss: 0.0675 - val_accuracy: 0.9933\n",
            "Epoch 7/30\n",
            "120/120 [==============================] - 0s 4ms/step - loss: 0.0530 - accuracy: 0.9950 - val_loss: 0.0447 - val_accuracy: 0.9933\n",
            "Epoch 8/30\n",
            "120/120 [==============================] - 0s 4ms/step - loss: 0.0367 - accuracy: 0.9950 - val_loss: 0.0330 - val_accuracy: 0.9933\n",
            "Epoch 9/30\n",
            "120/120 [==============================] - 0s 4ms/step - loss: 0.0268 - accuracy: 0.9967 - val_loss: 0.0247 - val_accuracy: 1.0000\n",
            "Epoch 10/30\n",
            "120/120 [==============================] - 0s 4ms/step - loss: 0.0213 - accuracy: 0.9967 - val_loss: 0.0192 - val_accuracy: 1.0000\n",
            "Epoch 11/30\n",
            "120/120 [==============================] - 0s 4ms/step - loss: 0.0171 - accuracy: 0.9967 - val_loss: 0.0151 - val_accuracy: 1.0000\n",
            "Epoch 12/30\n",
            "120/120 [==============================] - 1s 5ms/step - loss: 0.0143 - accuracy: 0.9967 - val_loss: 0.0122 - val_accuracy: 1.0000\n",
            "Epoch 13/30\n",
            "120/120 [==============================] - 0s 2ms/step - loss: 0.0114 - accuracy: 0.9967 - val_loss: 0.0113 - val_accuracy: 1.0000\n",
            "Epoch 14/30\n",
            "120/120 [==============================] - 0s 2ms/step - loss: 0.0090 - accuracy: 0.9983 - val_loss: 0.0085 - val_accuracy: 1.0000\n",
            "Epoch 15/30\n",
            "120/120 [==============================] - 0s 2ms/step - loss: 0.0092 - accuracy: 0.9983 - val_loss: 0.0086 - val_accuracy: 1.0000\n",
            "Epoch 16/30\n",
            "120/120 [==============================] - 0s 3ms/step - loss: 0.0067 - accuracy: 0.9983 - val_loss: 0.0068 - val_accuracy: 1.0000\n",
            "Epoch 17/30\n",
            "120/120 [==============================] - 0s 3ms/step - loss: 0.0064 - accuracy: 0.9983 - val_loss: 0.0052 - val_accuracy: 1.0000\n",
            "Epoch 18/30\n",
            "120/120 [==============================] - 0s 3ms/step - loss: 0.0051 - accuracy: 1.0000 - val_loss: 0.0050 - val_accuracy: 1.0000\n",
            "Epoch 19/30\n",
            "120/120 [==============================] - 0s 2ms/step - loss: 0.0046 - accuracy: 1.0000 - val_loss: 0.0048 - val_accuracy: 1.0000\n",
            "Epoch 20/30\n",
            "120/120 [==============================] - 0s 2ms/step - loss: 0.0045 - accuracy: 1.0000 - val_loss: 0.0036 - val_accuracy: 1.0000\n",
            "Epoch 21/30\n",
            "120/120 [==============================] - 0s 3ms/step - loss: 0.0035 - accuracy: 1.0000 - val_loss: 0.0033 - val_accuracy: 1.0000\n",
            "Epoch 22/30\n",
            "120/120 [==============================] - 0s 2ms/step - loss: 0.0033 - accuracy: 1.0000 - val_loss: 0.0032 - val_accuracy: 1.0000\n",
            "Epoch 23/30\n",
            "120/120 [==============================] - 0s 3ms/step - loss: 0.0028 - accuracy: 1.0000 - val_loss: 0.0039 - val_accuracy: 1.0000\n",
            "Epoch 24/30\n",
            "120/120 [==============================] - 0s 2ms/step - loss: 0.0026 - accuracy: 1.0000 - val_loss: 0.0035 - val_accuracy: 1.0000\n",
            "Epoch 25/30\n",
            "120/120 [==============================] - 0s 3ms/step - loss: 0.0021 - accuracy: 1.0000 - val_loss: 0.0022 - val_accuracy: 1.0000\n",
            "Epoch 26/30\n",
            "120/120 [==============================] - 0s 2ms/step - loss: 0.0023 - accuracy: 1.0000 - val_loss: 0.0036 - val_accuracy: 1.0000\n",
            "Epoch 27/30\n",
            "120/120 [==============================] - 0s 3ms/step - loss: 0.0020 - accuracy: 1.0000 - val_loss: 0.0025 - val_accuracy: 1.0000\n",
            "Epoch 28/30\n",
            "120/120 [==============================] - 0s 2ms/step - loss: 0.0017 - accuracy: 1.0000 - val_loss: 0.0032 - val_accuracy: 1.0000\n",
            "Epoch 29/30\n",
            "120/120 [==============================] - 0s 2ms/step - loss: 0.0017 - accuracy: 1.0000 - val_loss: 0.0015 - val_accuracy: 1.0000\n",
            "Epoch 30/30\n",
            "120/120 [==============================] - 0s 3ms/step - loss: 0.0014 - accuracy: 1.0000 - val_loss: 0.0035 - val_accuracy: 1.0000\n"
          ]
        }
      ]
    },
    {
      "cell_type": "code",
      "source": [
        "test_results = model.evaluate(X_testing, Targets_testing, verbose=1)\n",
        "print(f'Test results - Loss: {test_results[0]} - Accuracy: {test_results[1]*100}%')"
      ],
      "metadata": {
        "colab": {
          "base_uri": "https://localhost:8080/"
        },
        "id": "7UN1gv_yYyHH",
        "outputId": "0ca9f71e-f97a-4ef1-c567-31bf27aea1c7"
      },
      "execution_count": null,
      "outputs": [
        {
          "output_type": "stream",
          "name": "stdout",
          "text": [
            "8/8 [==============================] - 0s 4ms/step - loss: 0.0046 - accuracy: 0.9960\n",
            "Test results - Loss: 0.004626049194484949 - Accuracy: 99.59999918937683%\n"
          ]
        }
      ]
    },
    {
      "cell_type": "code",
      "source": [
        "class Onehot2Int(object):\n",
        "  def __init__(self,model):\n",
        "    self.model = model\n",
        "  def predict(self,X):\n",
        "    y_pred = self.model.predict(X)\n",
        "    return np.argmax(y_pred,axis=1)\n",
        "\n",
        "# fit keras model\n",
        "keras_model_no_ohe = Onehot2Int(model)"
      ],
      "metadata": {
        "id": "gJPu_ZDCY9Wu"
      },
      "execution_count": null,
      "outputs": []
    },
    {
      "cell_type": "code",
      "source": [
        "# Plot decision boundary\n",
        "plot_decision_regions(X_testing, np.argmax(Targets_testing, axis=1), clf=keras_model_no_ohe, legend=3)\n",
        "plt.show()"
      ],
      "metadata": {
        "colab": {
          "base_uri": "https://localhost:8080/",
          "height": 447
        },
        "id": "lt6FPJRQZQNt",
        "outputId": "2978965b-86b5-4f28-b159-21f1a73a9ee7"
      },
      "execution_count": null,
      "outputs": [
        {
          "output_type": "stream",
          "name": "stdout",
          "text": [
            "9600/9600 [==============================] - 17s 2ms/step\n"
          ]
        },
        {
          "output_type": "display_data",
          "data": {
            "text/plain": [
              "<Figure size 640x480 with 1 Axes>"
            ],
            "image/png": "[encoded data removed]"
          },
          "metadata": {}
        }
      ]
    },
    {
      "cell_type": "markdown",
      "source": [
        "# Example MNIST Hand-Written Digits\n",
        "\n",
        "Let us first load our MNIST hand-written dataset using the keras library\n"
      ],
      "metadata": {
        "id": "bvhCtr79ZbYs"
      }
    },
    {
      "cell_type": "code",
      "source": [
        "(X_train , y_train) , (X_test , y_test) = mnist.load_data()"
      ],
      "metadata": {
        "colab": {
          "base_uri": "https://localhost:8080/"
        },
        "id": "IyU0vpa0ZScH",
        "outputId": "0f9bb61e-40dc-45bc-b888-4f57ad941225"
      },
      "execution_count": null,
      "outputs": [
        {
          "output_type": "stream",
          "name": "stdout",
          "text": [
            "Downloading data from https://storage.googleapis.com/tensorflow/tf-keras-datasets/mnist.npz\n",
            "11490434/11490434 [==============================] - 0s 0us/step\n"
          ]
        }
      ]
    },
    {
      "cell_type": "code",
      "source": [
        "print(\"X_train shape\", X_train.shape)\n",
        "print(\"y_train shape\", y_train.shape)\n",
        "print(\"X_test shape\", X_test.shape)\n",
        "print(\"y_test shape\", y_test.shape)"
      ],
      "metadata": {
        "colab": {
          "base_uri": "https://localhost:8080/"
        },
        "id": "5psQ6W18ZqPu",
        "outputId": "2ee94f6f-4656-4411-9abb-98416472190f"
      },
      "execution_count": null,
      "outputs": [
        {
          "output_type": "stream",
          "name": "stdout",
          "text": [
            "X_train shape (60000, 28, 28)\n",
            "y_train shape (60000,)\n",
            "X_test shape (10000, 28, 28)\n",
            "y_test shape (10000,)\n"
          ]
        }
      ]
    },
    {
      "cell_type": "code",
      "source": [
        "# Now we can plot some sample digits from the training set\n",
        "\n",
        "plt.rcParams['figure.figsize'] = (6,6)\n",
        "\n",
        "for i in range(4):\n",
        "    plt.subplot(2,2,i+1)\n",
        "    num = random.randint(0, len(X_train))\n",
        "    plt.imshow(X_train[num], cmap='gray', interpolation='none')\n",
        "    plt.title(\"class {}\".format(y_train[num]))\n",
        "\n",
        "plt.tight_layout()"
      ],
      "metadata": {
        "colab": {
          "base_uri": "https://localhost:8080/",
          "height": 607
        },
        "id": "UHJae-blZrpY",
        "outputId": "cbd8550a-2cbd-4331-e317-eeb306dc2ed3"
      },
      "execution_count": null,
      "outputs": [
        {
          "output_type": "display_data",
          "data": {
            "text/plain": [
              "<Figure size 600x600 with 4 Axes>"
            ],
            "image/png": "[encoded data removed]"
          },
          "metadata": {}
        }
      ]
    },
    {
      "cell_type": "markdown",
      "source": [
        "Each image is on a grayscale (that is, only 1 channel) and is of size 28x28. We need to flatten each image by reshaping our matrix from 28x28 to a 784-length vector."
      ],
      "metadata": {
        "id": "veBdZ19xZ1qT"
      }
    },
    {
      "cell_type": "code",
      "source": [
        "X_train = X_train.reshape(X_train.shape[0], X_train.shape[1]* X_train.shape[2])\n",
        "X_test = X_test.reshape(X_test.shape[0], X_test.shape[1] * X_test.shape[2])\n",
        "\n",
        "print(X_train.shape)\n",
        "print(X_test.shape)"
      ],
      "metadata": {
        "colab": {
          "base_uri": "https://localhost:8080/"
        },
        "id": "d7Eu1lufZyiu",
        "outputId": "cd25268e-0c89-4d77-edf9-1004693f3451"
      },
      "execution_count": null,
      "outputs": [
        {
          "output_type": "stream",
          "name": "stdout",
          "text": [
            "(60000, 784)\n",
            "(10000, 784)\n"
          ]
        }
      ]
    },
    {
      "cell_type": "markdown",
      "source": [
        "Next, we need to change integers to 32-bit floating point numbers. We would also need to normalize our input to be in the range [0, 1], rather than [0-255]."
      ],
      "metadata": {
        "id": "5d5IH5ymaIXa"
      }
    },
    {
      "cell_type": "code",
      "source": [
        "X_train = X_train.astype('float32')\n",
        "X_test = X_test.astype('float32')\n",
        "\n",
        "X_train /= 255\n",
        "X_test /= 255"
      ],
      "metadata": {
        "id": "fdySdFSaaEsn"
      },
      "execution_count": null,
      "outputs": []
    },
    {
      "cell_type": "markdown",
      "source": [
        "# Our target variable, u is an array of the following form:"
      ],
      "metadata": {
        "id": "peErhnrVaMVr"
      }
    },
    {
      "cell_type": "code",
      "source": [
        "y_train"
      ],
      "metadata": {
        "colab": {
          "base_uri": "https://localhost:8080/"
        },
        "id": "0ohPMmBuaKgg",
        "outputId": "e66094cb-e3ec-4d7e-95f4-aa4ad857ab9d"
      },
      "execution_count": null,
      "outputs": [
        {
          "output_type": "execute_result",
          "data": {
            "text/plain": [
              "array([5, 0, 4, ..., 5, 6, 8], dtype=uint8)"
            ]
          },
          "metadata": {},
          "execution_count": 28
        }
      ]
    },
    {
      "cell_type": "markdown",
      "source": [
        "The categorical cross-entropy function expects that we provide one-hot encoded representations of the labels and predictions. Let us one-hot encode our target, `y`, using the `OneHotEncoder()` function from sklearn."
      ],
      "metadata": {
        "id": "WQAfMOf4aZfV"
      }
    },
    {
      "cell_type": "code",
      "source": [
        "enc = OneHotEncoder(sparse=False)\n",
        "enc.fit(y_train.reshape(-1,1))\n",
        "print(enc.categories_)"
      ],
      "metadata": {
        "colab": {
          "base_uri": "https://localhost:8080/"
        },
        "id": "uvo21VK8aQDq",
        "outputId": "5c961f2b-e812-4d0f-87d8-09bdfc392fa8"
      },
      "execution_count": null,
      "outputs": [
        {
          "output_type": "stream",
          "name": "stdout",
          "text": [
            "[array([0, 1, 2, 3, 4, 5, 6, 7, 8, 9], dtype=uint8)]\n"
          ]
        },
        {
          "output_type": "stream",
          "name": "stderr",
          "text": [
            "/usr/local/lib/python3.10/dist-packages/sklearn/preprocessing/_encoders.py:868: FutureWarning: `sparse` was renamed to `sparse_output` in version 1.2 and will be removed in 1.4. `sparse_output` is ignored unless you leave `sparse` to its default value.\n",
            "  warnings.warn(\n"
          ]
        }
      ]
    },
    {
      "cell_type": "code",
      "source": [
        "y_train_enc = enc.transform(y_train.reshape(-1,1))\n",
        "y_test_enc = enc.transform(y_test.reshape(-1,1))"
      ],
      "metadata": {
        "id": "x3DY8HmZaTR3"
      },
      "execution_count": null,
      "outputs": []
    },
    {
      "cell_type": "markdown",
      "source": [
        "In this multi-class classification task, we want to interpret our logistic regression model's results as a probability distribution; that is the model should output a vector that represents the probability of the given image belonging to each of the 10 classes.\n",
        "\n",
        "All elements in the vector should fall into the \\[0,1] range and sum up to 1. In order to set up our classification problem this way, we can feed the model output to a softmax function to produce probabilities.\n",
        "\n",
        "For training our multi-class logistic classifier, we need a loss function. Categorical cross-entropy is a loss function widely used with softmax. We need to minimize this loss function in order to determine an optimal set of parameters.\n",
        "\n",
        "We will build a simple CNN model with two hidden layers, that uses softmax as the activation function, and categorical cross-entropy as the loss function. Let's define the architecture of our model:\n"
      ],
      "metadata": {
        "id": "NoSgqlKfamFc"
      }
    },
    {
      "cell_type": "code",
      "source": [
        "feature_vector_shape = X_train.shape[1]\n",
        "input_shape = (feature_vector_shape,)\n",
        "num_classes = 10\n",
        "loss_function_used=CategoricalCrossentropy(from_logits=True)\n",
        "model = Sequential()\n",
        "model.add(Dense(12, input_shape=input_shape, activation='relu', kernel_initializer='he_uniform'))\n",
        "model.add(Dense(8, activation='relu', kernel_initializer='he_uniform'))\n",
        "model.add(Dense(num_classes, activation='softmax'))"
      ],
      "metadata": {
        "id": "-QZaac-JakTF"
      },
      "execution_count": null,
      "outputs": []
    },
    {
      "cell_type": "code",
      "source": [
        "model.compile(loss=loss_function_used, optimizer=tf.keras.optimizers.Adam(lr=0.001), metrics=['accuracy'])\n",
        "history = model.fit(X_train, y_train_enc, epochs=25, batch_size=5, verbose=1, validation_split=0.2)"
      ],
      "metadata": {
        "colab": {
          "base_uri": "https://localhost:8080/"
        },
        "id": "PqMPuWk6arfm",
        "outputId": "ab036645-0546-45e1-8195-0a61609de609"
      },
      "execution_count": null,
      "outputs": [
        {
          "output_type": "stream",
          "name": "stderr",
          "text": [
            "WARNING:absl:`lr` is deprecated in Keras optimizer, please use `learning_rate` or use the legacy optimizer, e.g.,tf.keras.optimizers.legacy.Adam.\n"
          ]
        },
        {
          "output_type": "stream",
          "name": "stdout",
          "text": [
            "Epoch 1/25\n"
          ]
        },
        {
          "output_type": "stream",
          "name": "stderr",
          "text": [
            "/usr/local/lib/python3.10/dist-packages/keras/src/backend.py:5575: UserWarning: \"`categorical_crossentropy` received `from_logits=True`, but the `output` argument was produced by a Softmax activation and thus does not represent logits. Was this intended?\n",
            "  output, from_logits = _get_logits(\n"
          ]
        },
        {
          "output_type": "stream",
          "name": "stdout",
          "text": [
            "9600/9600 [==============================] - 33s 3ms/step - loss: 0.4399 - accuracy: 0.8676 - val_loss: 0.2689 - val_accuracy: 0.9233\n",
            "Epoch 2/25\n",
            "9600/9600 [==============================] - 27s 3ms/step - loss: 0.2726 - accuracy: 0.9213 - val_loss: 0.2502 - val_accuracy: 0.9317\n",
            "Epoch 3/25\n",
            "9600/9600 [==============================] - 25s 3ms/step - loss: 0.2433 - accuracy: 0.9301 - val_loss: 0.2266 - val_accuracy: 0.9363\n",
            "Epoch 4/25\n",
            "9600/9600 [==============================] - 25s 3ms/step - loss: 0.2226 - accuracy: 0.9373 - val_loss: 0.2290 - val_accuracy: 0.9361\n",
            "Epoch 5/25\n",
            "9600/9600 [==============================] - 26s 3ms/step - loss: 0.2097 - accuracy: 0.9402 - val_loss: 0.2166 - val_accuracy: 0.9385\n",
            "Epoch 6/25\n",
            "9600/9600 [==============================] - 27s 3ms/step - loss: 0.2008 - accuracy: 0.9423 - val_loss: 0.2186 - val_accuracy: 0.9405\n",
            "Epoch 7/25\n",
            "9600/9600 [==============================] - 26s 3ms/step - loss: 0.1941 - accuracy: 0.9445 - val_loss: 0.2159 - val_accuracy: 0.9400\n",
            "Epoch 8/25\n",
            "9600/9600 [==============================] - 26s 3ms/step - loss: 0.1873 - accuracy: 0.9451 - val_loss: 0.2213 - val_accuracy: 0.9407\n",
            "Epoch 9/25\n",
            "9600/9600 [==============================] - 23s 2ms/step - loss: 0.1834 - accuracy: 0.9472 - val_loss: 0.2113 - val_accuracy: 0.9430\n",
            "Epoch 10/25\n",
            "9600/9600 [==============================] - 27s 3ms/step - loss: 0.1772 - accuracy: 0.9467 - val_loss: 0.2118 - val_accuracy: 0.9418\n",
            "Epoch 11/25\n",
            "9600/9600 [==============================] - 25s 3ms/step - loss: 0.1733 - accuracy: 0.9491 - val_loss: 0.2231 - val_accuracy: 0.9395\n",
            "Epoch 12/25\n",
            "9600/9600 [==============================] - 27s 3ms/step - loss: 0.1693 - accuracy: 0.9503 - val_loss: 0.2171 - val_accuracy: 0.9434\n",
            "Epoch 13/25\n",
            "9600/9600 [==============================] - 27s 3ms/step - loss: 0.1679 - accuracy: 0.9500 - val_loss: 0.2108 - val_accuracy: 0.9463\n",
            "Epoch 14/25\n",
            "9600/9600 [==============================] - 24s 3ms/step - loss: 0.1636 - accuracy: 0.9508 - val_loss: 0.2070 - val_accuracy: 0.9461\n",
            "Epoch 15/25\n",
            "9600/9600 [==============================] - 26s 3ms/step - loss: 0.1615 - accuracy: 0.9522 - val_loss: 0.2128 - val_accuracy: 0.9420\n",
            "Epoch 16/25\n",
            "9600/9600 [==============================] - 23s 2ms/step - loss: 0.1593 - accuracy: 0.9531 - val_loss: 0.2115 - val_accuracy: 0.9437\n",
            "Epoch 17/25\n",
            "9600/9600 [==============================] - 27s 3ms/step - loss: 0.1569 - accuracy: 0.9532 - val_loss: 0.2147 - val_accuracy: 0.9416\n",
            "Epoch 18/25\n",
            "9600/9600 [==============================] - 24s 3ms/step - loss: 0.1546 - accuracy: 0.9532 - val_loss: 0.2197 - val_accuracy: 0.9419\n",
            "Epoch 19/25\n",
            "9600/9600 [==============================] - 26s 3ms/step - loss: 0.1528 - accuracy: 0.9544 - val_loss: 0.2391 - val_accuracy: 0.9359\n",
            "Epoch 20/25\n",
            "9600/9600 [==============================] - 29s 3ms/step - loss: 0.1525 - accuracy: 0.9545 - val_loss: 0.2071 - val_accuracy: 0.9432\n",
            "Epoch 21/25\n",
            "9600/9600 [==============================] - 27s 3ms/step - loss: 0.1505 - accuracy: 0.9551 - val_loss: 0.2144 - val_accuracy: 0.9442\n",
            "Epoch 22/25\n",
            "9600/9600 [==============================] - 28s 3ms/step - loss: 0.1478 - accuracy: 0.9556 - val_loss: 0.2164 - val_accuracy: 0.9442\n",
            "Epoch 23/25\n",
            "9600/9600 [==============================] - 29s 3ms/step - loss: 0.1458 - accuracy: 0.9561 - val_loss: 0.2109 - val_accuracy: 0.9447\n",
            "Epoch 24/25\n",
            "9600/9600 [==============================] - 26s 3ms/step - loss: 0.1461 - accuracy: 0.9558 - val_loss: 0.2054 - val_accuracy: 0.9443\n",
            "Epoch 25/25\n",
            "9600/9600 [==============================] - 26s 3ms/step - loss: 0.1442 - accuracy: 0.9564 - val_loss: 0.2049 - val_accuracy: 0.9457\n"
          ]
        }
      ]
    },
    {
      "cell_type": "code",
      "source": [
        "test_results = model.evaluate(X_test, y_test_enc, verbose=1)\n",
        "print(f'Test results - Loss: {test_results[0]} - Accuracy: {test_results[1]*100}%')"
      ],
      "metadata": {
        "colab": {
          "base_uri": "https://localhost:8080/"
        },
        "id": "32EXOwQNau4L",
        "outputId": "01ec3e24-e48e-4074-bc17-b433b46dff40"
      },
      "execution_count": null,
      "outputs": [
        {
          "output_type": "stream",
          "name": "stdout",
          "text": [
            "313/313 [==============================] - 1s 3ms/step - loss: 0.1997 - accuracy: 0.9446\n",
            "Test results - Loss: 0.19969169795513153 - Accuracy: 94.4599986076355%\n"
          ]
        }
      ]
    },
    {
      "cell_type": "markdown",
      "source": [
        "## Example: Single-Digit House Number Recognition\n",
        "\n",
        "Recognizing multi-digit text from photographs is a hard problem. In this example, we deal with a simpler sub-problem that involves using a convolutional neural network with the categorical cross-entropy loss function to build a classifier that identifies single-digit numbers from custom images."
      ],
      "metadata": {
        "id": "ytLa3BU8diJP"
      }
    },
    {
      "cell_type": "markdown",
      "source": [
        "First, let's load in a custom image using a URL. \\[Image from [comforthouse](https://www.comforthouse.com/floating-1-number-sign.html?utm_medium=Exinfluencer&utm_source=Exinfluencer&utm_content=000026UJ&utm_term=10006555&utm_id=NA-SkillsNetwork-Channel-SkillsNetworkCoursesIBMDeveloperSkillsNetworkML311Coursera35714171-2022-01-01).]"
      ],
      "metadata": {
        "id": "4lmX4Qrido2C"
      }
    },
    {
      "cell_type": "code",
      "source": [
        "URL = 'https://cf-courses-data.s3.us.cloud-object-storage.appdomain.cloud/IBMDeveloperSkillsNetwork-ML311-Coursera/images/house_number_5.jpeg'\n",
        "image = Image.open(urlopen(URL)).convert('RGB')\n",
        "image"
      ],
      "metadata": {
        "colab": {
          "base_uri": "https://localhost:8080/",
          "height": 242
        },
        "id": "VNsXT9Glddeq",
        "outputId": "8c39be98-7d9e-4ddb-cb89-13d2f12b883e"
      },
      "execution_count": null,
      "outputs": [
        {
          "output_type": "execute_result",
          "data": {
            "text/plain": [
              "<PIL.Image.Image image mode=RGB size=225x225>"
            ],
            "image/png": "[encoded data removed]"
          },
          "metadata": {},
          "execution_count": 36
        }
      ]
    },
    {
      "cell_type": "markdown",
      "source": [
        "Let us define a CNN architecture that is similar to one used for MNIST hand-written digit classification. We use a softmax as the activation function and categorical cross-entropy as the loss function as this is a multi-class classification problem."
      ],
      "metadata": {
        "id": "nyp9skPBduYb"
      }
    },
    {
      "cell_type": "code",
      "source": [
        "feature_vector_shape,input_shape = 784,784\n",
        "num_classes = 10\n",
        "loss_function_used = CategoricalCrossentropy(from_logits=True)\n",
        "model = Sequential()\n",
        "model.add(Dense(12, input_shape=(input_shape,), activation='relu', kernel_initializer='he_uniform'))\n",
        "model.add(Dense(8, activation='relu', kernel_initializer='he_uniform'))\n",
        "model.add(Dense(num_classes, activation='softmax'))\n",
        "\n",
        "model.compile(loss=loss_function_used, optimizer=tf.keras.optimizers.Adam(lr=0.001), metrics=['accuracy'])\n",
        "history = model.fit(X_train, y_train_enc, epochs=25, batch_size=5, verbose=1, validation_split=0.2)"
      ],
      "metadata": {
        "colab": {
          "base_uri": "https://localhost:8080/"
        },
        "id": "pepm-QiTdqbM",
        "outputId": "a491e918-e0ed-41f6-941c-113e7126d611"
      },
      "execution_count": null,
      "outputs": [
        {
          "output_type": "stream",
          "name": "stderr",
          "text": [
            "WARNING:absl:`lr` is deprecated in Keras optimizer, please use `learning_rate` or use the legacy optimizer, e.g.,tf.keras.optimizers.legacy.Adam.\n"
          ]
        },
        {
          "output_type": "stream",
          "name": "stdout",
          "text": [
            "Epoch 1/25\n",
            "9600/9600 [==============================] - 33s 3ms/step - loss: 0.4760 - accuracy: 0.8576 - val_loss: 0.2658 - val_accuracy: 0.9247\n",
            "Epoch 2/25\n",
            "9600/9600 [==============================] - 26s 3ms/step - loss: 0.2662 - accuracy: 0.9215 - val_loss: 0.2474 - val_accuracy: 0.9301\n",
            "Epoch 3/25\n",
            "9600/9600 [==============================] - 25s 3ms/step - loss: 0.2340 - accuracy: 0.9314 - val_loss: 0.2510 - val_accuracy: 0.9266\n",
            "Epoch 4/25\n",
            "9600/9600 [==============================] - 26s 3ms/step - loss: 0.2155 - accuracy: 0.9363 - val_loss: 0.2340 - val_accuracy: 0.9344\n",
            "Epoch 5/25\n",
            "9600/9600 [==============================] - 26s 3ms/step - loss: 0.2031 - accuracy: 0.9403 - val_loss: 0.2081 - val_accuracy: 0.9384\n",
            "Epoch 6/25\n",
            "9600/9600 [==============================] - 26s 3ms/step - loss: 0.1912 - accuracy: 0.9442 - val_loss: 0.2065 - val_accuracy: 0.9397\n",
            "Epoch 7/25\n",
            "9600/9600 [==============================] - 27s 3ms/step - loss: 0.1830 - accuracy: 0.9457 - val_loss: 0.2077 - val_accuracy: 0.9413\n",
            "Epoch 8/25\n",
            "9600/9600 [==============================] - 27s 3ms/step - loss: 0.1769 - accuracy: 0.9478 - val_loss: 0.2214 - val_accuracy: 0.9379\n",
            "Epoch 9/25\n",
            "9600/9600 [==============================] - 27s 3ms/step - loss: 0.1701 - accuracy: 0.9500 - val_loss: 0.1926 - val_accuracy: 0.9451\n",
            "Epoch 10/25\n",
            "9600/9600 [==============================] - 27s 3ms/step - loss: 0.1648 - accuracy: 0.9510 - val_loss: 0.1984 - val_accuracy: 0.9437\n",
            "Epoch 11/25\n",
            "9600/9600 [==============================] - 27s 3ms/step - loss: 0.1603 - accuracy: 0.9528 - val_loss: 0.2013 - val_accuracy: 0.9423\n",
            "Epoch 12/25\n",
            "9600/9600 [==============================] - 27s 3ms/step - loss: 0.1565 - accuracy: 0.9533 - val_loss: 0.2046 - val_accuracy: 0.9432\n",
            "Epoch 13/25\n",
            "9600/9600 [==============================] - 26s 3ms/step - loss: 0.1535 - accuracy: 0.9537 - val_loss: 0.1931 - val_accuracy: 0.9482\n",
            "Epoch 14/25\n",
            "9600/9600 [==============================] - 26s 3ms/step - loss: 0.1505 - accuracy: 0.9552 - val_loss: 0.2147 - val_accuracy: 0.9414\n",
            "Epoch 15/25\n",
            "9600/9600 [==============================] - 36s 4ms/step - loss: 0.1477 - accuracy: 0.9561 - val_loss: 0.2238 - val_accuracy: 0.9382\n",
            "Epoch 16/25\n",
            "9600/9600 [==============================] - 51s 5ms/step - loss: 0.1455 - accuracy: 0.9559 - val_loss: 0.2102 - val_accuracy: 0.9393\n",
            "Epoch 17/25\n",
            "9600/9600 [==============================] - 36s 4ms/step - loss: 0.1437 - accuracy: 0.9565 - val_loss: 0.1999 - val_accuracy: 0.9449\n",
            "Epoch 18/25\n",
            "9600/9600 [==============================] - 51s 5ms/step - loss: 0.1420 - accuracy: 0.9581 - val_loss: 0.1978 - val_accuracy: 0.9482\n",
            "Epoch 19/25\n",
            "9600/9600 [==============================] - 38s 4ms/step - loss: 0.1398 - accuracy: 0.9578 - val_loss: 0.2046 - val_accuracy: 0.9436\n",
            "Epoch 20/25\n",
            "9600/9600 [==============================] - 28s 3ms/step - loss: 0.1356 - accuracy: 0.9591 - val_loss: 0.1972 - val_accuracy: 0.9469\n",
            "Epoch 21/25\n",
            "9600/9600 [==============================] - 25s 3ms/step - loss: 0.1347 - accuracy: 0.9599 - val_loss: 0.2026 - val_accuracy: 0.9456\n",
            "Epoch 22/25\n",
            "9600/9600 [==============================] - 26s 3ms/step - loss: 0.1346 - accuracy: 0.9587 - val_loss: 0.2232 - val_accuracy: 0.9427\n",
            "Epoch 23/25\n",
            "9600/9600 [==============================] - 26s 3ms/step - loss: 0.1325 - accuracy: 0.9601 - val_loss: 0.1964 - val_accuracy: 0.9478\n",
            "Epoch 24/25\n",
            "9600/9600 [==============================] - 26s 3ms/step - loss: 0.1309 - accuracy: 0.9605 - val_loss: 0.2092 - val_accuracy: 0.9434\n",
            "Epoch 25/25\n",
            "9600/9600 [==============================] - 30s 3ms/step - loss: 0.1292 - accuracy: 0.9604 - val_loss: 0.2129 - val_accuracy: 0.9439\n"
          ]
        }
      ]
    },
    {
      "cell_type": "markdown",
      "source": [
        "We must now pre-process our raw input images to be grayscale and 28x28 in size."
      ],
      "metadata": {
        "id": "e8SLIz5SfTr6"
      }
    },
    {
      "cell_type": "code",
      "source": [
        "img_rows, img_cols = 28, 28\n",
        "img = Image.fromarray(np.uint8(image)).convert('L')\n",
        "img_gray = img.resize((img_rows, img_cols), Image.ANTIALIAS)\n",
        "img_gray"
      ],
      "metadata": {
        "colab": {
          "base_uri": "https://localhost:8080/",
          "height": 80
        },
        "id": "UtI-OB8dd1qT",
        "outputId": "6ef0b107-d7ef-4c72-95e3-55e6b6f1ab30"
      },
      "execution_count": null,
      "outputs": [
        {
          "output_type": "stream",
          "name": "stderr",
          "text": [
            "<ipython-input-40-3944361edd23>:3: DeprecationWarning: ANTIALIAS is deprecated and will be removed in Pillow 10 (2023-07-01). Use LANCZOS or Resampling.LANCZOS instead.\n",
            "  img_gray = img.resize((img_rows, img_cols), Image.ANTIALIAS)\n"
          ]
        },
        {
          "output_type": "execute_result",
          "data": {
            "text/plain": [
              "<PIL.Image.Image image mode=L size=28x28>"
            ],
            "image/png": "[encoded data removed]"
          },
          "metadata": {},
          "execution_count": 40
        }
      ]
    },
    {
      "cell_type": "markdown",
      "source": [
        "we will now convert the image to an array, and reshape it such that it has a dimension of (1,784)"
      ],
      "metadata": {
        "id": "Hkp-yuOjfos_"
      }
    },
    {
      "cell_type": "code",
      "source": [
        "arr = np.array(img_gray)\n",
        "arr = arr.reshape((img_cols*img_rows))\n",
        "arr = np.expand_dims(arr, axis=0)"
      ],
      "metadata": {
        "id": "CoHA3ebnfnSE"
      },
      "execution_count": null,
      "outputs": []
    },
    {
      "cell_type": "markdown",
      "source": [
        "Finally, we will feed the array as an input to our model, and use the argmax function to determine the most likely digit label."
      ],
      "metadata": {
        "id": "dLoS1BpPf8UM"
      }
    },
    {
      "cell_type": "code",
      "source": [
        "prediction = model.predict(arr)\n",
        "np.argmax(prediction)"
      ],
      "metadata": {
        "colab": {
          "base_uri": "https://localhost:8080/"
        },
        "id": "zPzVaCNFf5k8",
        "outputId": "44e255ea-516b-49ff-d8ca-b71a1def88a5"
      },
      "execution_count": null,
      "outputs": [
        {
          "output_type": "stream",
          "name": "stdout",
          "text": [
            "1/1 [==============================] - 0s 66ms/step\n"
          ]
        },
        {
          "output_type": "execute_result",
          "data": {
            "text/plain": [
              "2"
            ]
          },
          "metadata": {},
          "execution_count": 42
        }
      ]
    },
    {
      "cell_type": "markdown",
      "source": [
        "# Exericese\n",
        "\n",
        "For these exercises, we will be using the Fashion-MNIST dataset. It consists of 60,000 28x28 grayscale training images and 10,000 test images for 10 different categories, listed below:\n",
        "\n",
        "0.  T-shirt\n",
        "1.  Trouser\n",
        "2.  Pullover\n",
        "3.  Dress\n",
        "4.  Coat\n",
        "5.  Sandal\n",
        "6.  Shirt\n",
        "7.  Sneaker\n",
        "8.  Bag\n",
        "9.  Ankle boot\n"
      ],
      "metadata": {
        "id": "kbRCDXT_gBe4"
      }
    },
    {
      "cell_type": "markdown",
      "source": [
        "## Exercise 1 - Loading and plotting the images\n",
        "\n",
        "Similar to the MNIST hand-written digits dataset, Fashion-MNIST is available for loading through Keras. Load the dataset using Keras in a similar manner. Plot some sample images from the training set."
      ],
      "metadata": {
        "id": "X_LdN2p9heM9"
      }
    },
    {
      "cell_type": "code",
      "source": [
        "(X_train, y_train), (X_test, y_test) = fashion_mnist.load_data()\n",
        "\n",
        "\n",
        "plt.rcParams['figure.figsize'] = (6,6)\n",
        "\n",
        "for i in range(4):\n",
        "    plt.subplot(2,2,i+1)\n",
        "    num = random.randint(0, len(X_train))\n",
        "    plt.imshow(X_train[num], cmap='gray', interpolation='none')\n",
        "    plt.title(\"class {}\".format(y_train[num]))\n",
        "\n",
        "plt.tight_layout()"
      ],
      "metadata": {
        "colab": {
          "base_uri": "https://localhost:8080/",
          "height": 746
        },
        "id": "CEJUI4vyf_Gy",
        "outputId": "a609d53c-df21-43a5-e014-99dbbc6e232a"
      },
      "execution_count": null,
      "outputs": [
        {
          "output_type": "stream",
          "name": "stdout",
          "text": [
            "Downloading data from https://storage.googleapis.com/tensorflow/tf-keras-datasets/train-labels-idx1-ubyte.gz\n",
            "29515/29515 [==============================] - 0s 0us/step\n",
            "Downloading data from https://storage.googleapis.com/tensorflow/tf-keras-datasets/train-images-idx3-ubyte.gz\n",
            "26421880/26421880 [==============================] - 0s 0us/step\n",
            "Downloading data from https://storage.googleapis.com/tensorflow/tf-keras-datasets/t10k-labels-idx1-ubyte.gz\n",
            "5148/5148 [==============================] - 0s 0us/step\n",
            "Downloading data from https://storage.googleapis.com/tensorflow/tf-keras-datasets/t10k-images-idx3-ubyte.gz\n",
            "4422102/4422102 [==============================] - 0s 0us/step\n"
          ]
        },
        {
          "output_type": "display_data",
          "data": {
            "text/plain": [
              "<Figure size 600x600 with 4 Axes>"
            ],
            "image/png": "[encoded data removed]"
          },
          "metadata": {}
        }
      ]
    },
    {
      "cell_type": "markdown",
      "source": [
        "### Exercise 2 - Preparing the data\n",
        "\n",
        "Convert all grayscale images of size 28x28 to a 784-length vector. Change integers to 32-bit floating point numbers and normalize the input to be in the range [0, 1], rather than [0-255]."
      ],
      "metadata": {
        "id": "JLr4MI1fhoFa"
      }
    },
    {
      "cell_type": "code",
      "source": [
        "X_train = X_train.reshape(X_train.shape[0], X_train.shape[1]* X_train.shape[2])\n",
        "X_test = X_test.reshape(X_test.shape[0], X_test.shape[1] * X_test.shape[2])\n",
        "\n",
        "print(X_train.shape)\n",
        "print(X_test.shape)\n",
        "\n",
        "X_train = X_train.astype('float32')\n",
        "X_test = X_test.astype('float32')\n",
        "\n",
        "X_train /= 255\n",
        "X_test /= 255"
      ],
      "metadata": {
        "colab": {
          "base_uri": "https://localhost:8080/"
        },
        "id": "z4prNH5GhmHw",
        "outputId": "2caf37fe-cf60-4272-8e99-ebd770d267b0"
      },
      "execution_count": null,
      "outputs": [
        {
          "output_type": "stream",
          "name": "stdout",
          "text": [
            "(60000, 784)\n",
            "(10000, 784)\n"
          ]
        }
      ]
    },
    {
      "cell_type": "markdown",
      "source": [
        "# Ex-3 One hot encoding\n",
        "\n",
        "Create one-hot encoded representations of the target variable using the `OneHotEncoder()` function from sklearn."
      ],
      "metadata": {
        "id": "ABNUtXIPhyuY"
      }
    },
    {
      "cell_type": "code",
      "source": [
        "enc = OneHotEncoder(sparse=False)\n",
        "enc.fit(y_train.reshape(-1, 1))\n",
        "print(enc.categories_)\n",
        "y_train_enc = enc.transform(y_train.reshape(-1,1))\n",
        "y_test_enc = enc.transform(y_test.reshape(-1,1))"
      ],
      "metadata": {
        "colab": {
          "base_uri": "https://localhost:8080/"
        },
        "id": "n7nilbY4hxc0",
        "outputId": "e8865f80-eafd-4975-ff5b-e567c22eb060"
      },
      "execution_count": null,
      "outputs": [
        {
          "output_type": "stream",
          "name": "stdout",
          "text": [
            "[array([0, 1, 2, 3, 4, 5, 6, 7, 8, 9], dtype=uint8)]\n"
          ]
        },
        {
          "output_type": "stream",
          "name": "stderr",
          "text": [
            "/usr/local/lib/python3.10/dist-packages/sklearn/preprocessing/_encoders.py:868: FutureWarning: `sparse` was renamed to `sparse_output` in version 1.2 and will be removed in 1.4. `sparse_output` is ignored unless you leave `sparse` to its default value.\n",
            "  warnings.warn(\n"
          ]
        }
      ]
    },
    {
      "cell_type": "markdown",
      "source": [
        "Ex4 Build model architecture\n",
        "\n",
        "Build a CNN model with 2 hidden layers, that uses softmax as the activation function, and categorical cross-entropy as the loss function."
      ],
      "metadata": {
        "id": "bjA2ibjYiDTW"
      }
    },
    {
      "cell_type": "code",
      "source": [
        "feature_vector_shape = X_train.shape[1]\n",
        "input_shape = (feature_vector_shape,)\n",
        "num_classes = 10\n",
        "loss_function_used = CategoricalCrossentropy(from_logits=True)\n",
        "\n",
        "model = Sequential()\n",
        "model.add(Dense(12, input_shape=input_shape, activation='relu', kernel_initializer='he_uniform'))\n",
        "model.add(Dense(8, activation='relu', kernel_initializer='he_uniform'))\n",
        "model.add(Dense(num_classes, activation='softmax'))\n",
        "\n",
        "\n",
        "model.compile(loss=loss_function_used, optimizer=tf.keras.optimizers.Adam(lr=0.001), metrics=['accuracy'])\n",
        "history = model.fit(X_train, y_train_enc, epochs=25, batch_size=5, verbose=1, validation_split=0.2)\n",
        "\n",
        "test_results = model.evaluate(X_test, y_test_enc, verbose=1)\n",
        "print(f'Test results - Loss: {test_results[0]} - Accuracy: {test_results[1]*100}%')\n"
      ],
      "metadata": {
        "colab": {
          "base_uri": "https://localhost:8080/"
        },
        "id": "x58E6fU0h-cs",
        "outputId": "ec19eaad-f733-48b3-d3c4-70b9c84f2792"
      },
      "execution_count": null,
      "outputs": [
        {
          "output_type": "stream",
          "name": "stderr",
          "text": [
            "WARNING:absl:`lr` is deprecated in Keras optimizer, please use `learning_rate` or use the legacy optimizer, e.g.,tf.keras.optimizers.legacy.Adam.\n"
          ]
        },
        {
          "output_type": "stream",
          "name": "stdout",
          "text": [
            "Epoch 1/25\n"
          ]
        },
        {
          "output_type": "stream",
          "name": "stderr",
          "text": [
            "/usr/local/lib/python3.10/dist-packages/keras/src/backend.py:5575: UserWarning: \"`categorical_crossentropy` received `from_logits=True`, but the `output` argument was produced by a Softmax activation and thus does not represent logits. Was this intended?\n",
            "  output, from_logits = _get_logits(\n"
          ]
        },
        {
          "output_type": "stream",
          "name": "stdout",
          "text": [
            "9600/9600 [==============================] - 32s 3ms/step - loss: 0.7181 - accuracy: 0.7410 - val_loss: 0.5483 - val_accuracy: 0.8136\n",
            "Epoch 2/25\n",
            "9600/9600 [==============================] - 32s 3ms/step - loss: 0.5085 - accuracy: 0.8210 - val_loss: 0.4853 - val_accuracy: 0.8328\n",
            "Epoch 3/25\n",
            "9600/9600 [==============================] - 27s 3ms/step - loss: 0.4653 - accuracy: 0.8368 - val_loss: 0.4678 - val_accuracy: 0.8378\n",
            "Epoch 4/25\n",
            "9600/9600 [==============================] - 30s 3ms/step - loss: 0.4380 - accuracy: 0.8448 - val_loss: 0.4411 - val_accuracy: 0.8437\n",
            "Epoch 5/25\n",
            "9600/9600 [==============================] - 25s 3ms/step - loss: 0.4198 - accuracy: 0.8508 - val_loss: 0.4364 - val_accuracy: 0.8467\n",
            "Epoch 6/25\n",
            "9600/9600 [==============================] - 27s 3ms/step - loss: 0.4058 - accuracy: 0.8548 - val_loss: 0.4340 - val_accuracy: 0.8442\n",
            "Epoch 7/25\n",
            "9600/9600 [==============================] - 28s 3ms/step - loss: 0.3959 - accuracy: 0.8566 - val_loss: 0.4370 - val_accuracy: 0.8418\n",
            "Epoch 8/25\n",
            "9600/9600 [==============================] - 26s 3ms/step - loss: 0.3862 - accuracy: 0.8605 - val_loss: 0.4088 - val_accuracy: 0.8561\n",
            "Epoch 9/25\n",
            "9600/9600 [==============================] - 25s 3ms/step - loss: 0.3798 - accuracy: 0.8614 - val_loss: 0.4136 - val_accuracy: 0.8522\n",
            "Epoch 10/25\n",
            "9600/9600 [==============================] - 25s 3ms/step - loss: 0.3745 - accuracy: 0.8645 - val_loss: 0.4160 - val_accuracy: 0.8526\n",
            "Epoch 11/25\n",
            "9600/9600 [==============================] - 27s 3ms/step - loss: 0.3693 - accuracy: 0.8658 - val_loss: 0.3996 - val_accuracy: 0.8575\n",
            "Epoch 12/25\n",
            "9600/9600 [==============================] - 26s 3ms/step - loss: 0.3627 - accuracy: 0.8689 - val_loss: 0.4028 - val_accuracy: 0.8577\n",
            "Epoch 13/25\n",
            "9600/9600 [==============================] - 26s 3ms/step - loss: 0.3611 - accuracy: 0.8694 - val_loss: 0.3934 - val_accuracy: 0.8577\n",
            "Epoch 14/25\n",
            "9600/9600 [==============================] - 26s 3ms/step - loss: 0.3562 - accuracy: 0.8711 - val_loss: 0.4035 - val_accuracy: 0.8543\n",
            "Epoch 15/25\n",
            "9600/9600 [==============================] - 26s 3ms/step - loss: 0.3533 - accuracy: 0.8707 - val_loss: 0.4090 - val_accuracy: 0.8528\n",
            "Epoch 16/25\n",
            "9600/9600 [==============================] - 24s 2ms/step - loss: 0.3516 - accuracy: 0.8725 - val_loss: 0.4144 - val_accuracy: 0.8528\n",
            "Epoch 17/25\n",
            "9600/9600 [==============================] - 25s 3ms/step - loss: 0.3487 - accuracy: 0.8726 - val_loss: 0.4098 - val_accuracy: 0.8518\n",
            "Epoch 18/25\n",
            "9600/9600 [==============================] - 25s 3ms/step - loss: 0.3454 - accuracy: 0.8722 - val_loss: 0.3926 - val_accuracy: 0.8619\n",
            "Epoch 19/25\n",
            "9600/9600 [==============================] - 27s 3ms/step - loss: 0.3436 - accuracy: 0.8738 - val_loss: 0.4122 - val_accuracy: 0.8546\n",
            "Epoch 20/25\n",
            "9600/9600 [==============================] - 25s 3ms/step - loss: 0.3423 - accuracy: 0.8735 - val_loss: 0.3989 - val_accuracy: 0.8582\n",
            "Epoch 21/25\n",
            "9600/9600 [==============================] - 25s 3ms/step - loss: 0.3399 - accuracy: 0.8755 - val_loss: 0.4108 - val_accuracy: 0.8598\n",
            "Epoch 22/25\n",
            "9600/9600 [==============================] - 26s 3ms/step - loss: 0.3388 - accuracy: 0.8768 - val_loss: 0.4010 - val_accuracy: 0.8624\n",
            "Epoch 23/25\n",
            "9600/9600 [==============================] - 23s 2ms/step - loss: 0.3363 - accuracy: 0.8769 - val_loss: 0.4166 - val_accuracy: 0.8508\n",
            "Epoch 24/25\n",
            "9600/9600 [==============================] - 25s 3ms/step - loss: 0.3345 - accuracy: 0.8761 - val_loss: 0.3938 - val_accuracy: 0.8623\n",
            "Epoch 25/25\n",
            "9600/9600 [==============================] - 25s 3ms/step - loss: 0.3326 - accuracy: 0.8789 - val_loss: 0.4090 - val_accuracy: 0.8573\n",
            "313/313 [==============================] - 1s 2ms/step - loss: 0.4418 - accuracy: 0.8480\n",
            "Test results - Loss: 0.44177818298339844 - Accuracy: 84.79999899864197%\n"
          ]
        }
      ]
    },
    {
      "cell_type": "markdown",
      "source": [
        "# (Optional) Ex5 - Sparse Categorical Cross Entropy\n",
        "\n",
        "We saw that when using categorical cross-entropy, the ground truth labels need to be one-hot encoded. Keras provides another loss function called sparse cross-entropy where we can leave the labels as integers.\n",
        "\n",
        "Build a CNN model with two hidden layers, that uses softmax as the activation function, and sparse categorical cross-entropy as the loss function. Make sure to use the non-one-hot encoded ground-truth labels.  \n"
      ],
      "metadata": {
        "id": "XXW2xoTZiOCI"
      }
    },
    {
      "cell_type": "code",
      "source": [
        "feature_vector_shape = X_train.shape[1]\n",
        "input_shape = (feature_vector_shape,)\n",
        "num_classes = 10\n",
        "loss_function_used = SparseCategoricalCrossentropy()\n",
        "\n",
        "model = Sequential()\n",
        "model.add(Dense(12, input_shape=input_shape, activation='relu', kernel_initializer='he_uniform'))\n",
        "model.add(Dense(8, activation='relu', kernel_initializer='he_uniform'))\n",
        "model.add(Dense(num_classes, activation='softmax'))\n",
        "\n",
        "\n",
        "model.compile(loss=loss_function_used, optimizer=tf.keras.optimizers.Adam(lr=0.001), metrics=['accuracy'])\n",
        "history = model.fit(X_train, y_train, epochs=25, batch_size=5, verbose=1, validation_split=0.2)\n",
        "\n",
        "test_results = model.evaluate(X_test, y_test_enc, verbose=1)\n",
        "print(f'Test results - Loss: {test_results[0]} - Accuracy: {test_results[1]*100}%')"
      ],
      "metadata": {
        "colab": {
          "base_uri": "https://localhost:8080/",
          "height": 1000
        },
        "id": "5zTPgyBGiJ6p",
        "outputId": "8f235e1f-346c-49bd-98ad-a2b537d95652"
      },
      "execution_count": null,
      "outputs": [
        {
          "output_type": "stream",
          "name": "stderr",
          "text": [
            "WARNING:absl:`lr` is deprecated in Keras optimizer, please use `learning_rate` or use the legacy optimizer, e.g.,tf.keras.optimizers.legacy.Adam.\n"
          ]
        },
        {
          "output_type": "stream",
          "name": "stdout",
          "text": [
            "Epoch 1/25\n",
            "9600/9600 [==============================] - 35s 4ms/step - loss: 0.5960 - accuracy: 0.7916 - val_loss: 0.4858 - val_accuracy: 0.8311\n",
            "Epoch 2/25\n",
            "9600/9600 [==============================] - 24s 2ms/step - loss: 0.4505 - accuracy: 0.8430 - val_loss: 0.4490 - val_accuracy: 0.8435\n",
            "Epoch 3/25\n",
            "9600/9600 [==============================] - 24s 2ms/step - loss: 0.4172 - accuracy: 0.8535 - val_loss: 0.4229 - val_accuracy: 0.8533\n",
            "Epoch 4/25\n",
            "9600/9600 [==============================] - 25s 3ms/step - loss: 0.3995 - accuracy: 0.8597 - val_loss: 0.4107 - val_accuracy: 0.8528\n",
            "Epoch 5/25\n",
            "9600/9600 [==============================] - 27s 3ms/step - loss: 0.3866 - accuracy: 0.8629 - val_loss: 0.4179 - val_accuracy: 0.8503\n",
            "Epoch 6/25\n",
            "9600/9600 [==============================] - 26s 3ms/step - loss: 0.3771 - accuracy: 0.8665 - val_loss: 0.4379 - val_accuracy: 0.8467\n",
            "Epoch 7/25\n",
            "9600/9600 [==============================] - 25s 3ms/step - loss: 0.3695 - accuracy: 0.8673 - val_loss: 0.3912 - val_accuracy: 0.8621\n",
            "Epoch 8/25\n",
            "9600/9600 [==============================] - 26s 3ms/step - loss: 0.3616 - accuracy: 0.8679 - val_loss: 0.4133 - val_accuracy: 0.8547\n",
            "Epoch 9/25\n",
            "9600/9600 [==============================] - 26s 3ms/step - loss: 0.3556 - accuracy: 0.8697 - val_loss: 0.4195 - val_accuracy: 0.8562\n",
            "Epoch 10/25\n",
            "9600/9600 [==============================] - 26s 3ms/step - loss: 0.3517 - accuracy: 0.8733 - val_loss: 0.3887 - val_accuracy: 0.8630\n",
            "Epoch 11/25\n",
            "9600/9600 [==============================] - 27s 3ms/step - loss: 0.3465 - accuracy: 0.8727 - val_loss: 0.4030 - val_accuracy: 0.8560\n",
            "Epoch 12/25\n",
            "9600/9600 [==============================] - 26s 3ms/step - loss: 0.3407 - accuracy: 0.8755 - val_loss: 0.4137 - val_accuracy: 0.8560\n",
            "Epoch 13/25\n",
            "9600/9600 [==============================] - 26s 3ms/step - loss: 0.3385 - accuracy: 0.8771 - val_loss: 0.3989 - val_accuracy: 0.8599\n",
            "Epoch 14/25\n",
            "9600/9600 [==============================] - 26s 3ms/step - loss: 0.3347 - accuracy: 0.8766 - val_loss: 0.4061 - val_accuracy: 0.8553\n",
            "Epoch 15/25\n",
            "9600/9600 [==============================] - 25s 3ms/step - loss: 0.3304 - accuracy: 0.8794 - val_loss: 0.3975 - val_accuracy: 0.8611\n",
            "Epoch 16/25\n",
            "9600/9600 [==============================] - 24s 2ms/step - loss: 0.3278 - accuracy: 0.8796 - val_loss: 0.3851 - val_accuracy: 0.8668\n",
            "Epoch 17/25\n",
            "9600/9600 [==============================] - 27s 3ms/step - loss: 0.3266 - accuracy: 0.8792 - val_loss: 0.4097 - val_accuracy: 0.8564\n",
            "Epoch 18/25\n",
            "9600/9600 [==============================] - 24s 3ms/step - loss: 0.3242 - accuracy: 0.8798 - val_loss: 0.4103 - val_accuracy: 0.8565\n",
            "Epoch 19/25\n",
            "9600/9600 [==============================] - 26s 3ms/step - loss: 0.3209 - accuracy: 0.8818 - val_loss: 0.3999 - val_accuracy: 0.8647\n",
            "Epoch 20/25\n",
            "9600/9600 [==============================] - 25s 3ms/step - loss: 0.3191 - accuracy: 0.8814 - val_loss: 0.4258 - val_accuracy: 0.8485\n",
            "Epoch 21/25\n",
            "9600/9600 [==============================] - 25s 3ms/step - loss: 0.3183 - accuracy: 0.8825 - val_loss: 0.3895 - val_accuracy: 0.8652\n",
            "Epoch 22/25\n",
            "9600/9600 [==============================] - 25s 3ms/step - loss: 0.3147 - accuracy: 0.8845 - val_loss: 0.3876 - val_accuracy: 0.8673\n",
            "Epoch 23/25\n",
            "9600/9600 [==============================] - 23s 2ms/step - loss: 0.3148 - accuracy: 0.8829 - val_loss: 0.4053 - val_accuracy: 0.8635\n",
            "Epoch 24/25\n",
            "9600/9600 [==============================] - 24s 3ms/step - loss: 0.3113 - accuracy: 0.8850 - val_loss: 0.4646 - val_accuracy: 0.8474\n",
            "Epoch 25/25\n",
            "9600/9600 [==============================] - 25s 3ms/step - loss: 0.3101 - accuracy: 0.8854 - val_loss: 0.4005 - val_accuracy: 0.8636\n"
          ]
        },
        {
          "output_type": "error",
          "ename": "ValueError",
          "evalue": "in user code:\n\n    File \"/usr/local/lib/python3.10/dist-packages/keras/src/engine/training.py\", line 2066, in test_function  *\n        return step_function(self, iterator)\n    File \"/usr/local/lib/python3.10/dist-packages/keras/src/engine/training.py\", line 2049, in step_function  **\n        outputs = model.distribute_strategy.run(run_step, args=(data,))\n    File \"/usr/local/lib/python3.10/dist-packages/keras/src/engine/training.py\", line 2037, in run_step  **\n        outputs = model.test_step(data)\n    File \"/usr/local/lib/python3.10/dist-packages/keras/src/engine/training.py\", line 1920, in test_step\n        return self.compute_metrics(x, y, y_pred, sample_weight)\n    File \"/usr/local/lib/python3.10/dist-packages/keras/src/engine/training.py\", line 1249, in compute_metrics\n        self.compiled_metrics.update_state(y, y_pred, sample_weight)\n    File \"/usr/local/lib/python3.10/dist-packages/keras/src/engine/compile_utils.py\", line 620, in update_state\n        metric_obj.update_state(y_t, y_p, sample_weight=mask)\n    File \"/usr/local/lib/python3.10/dist-packages/keras/src/utils/metrics_utils.py\", line 77, in decorated\n        result = update_state_fn(*args, **kwargs)\n    File \"/usr/local/lib/python3.10/dist-packages/keras/src/metrics/base_metric.py\", line 140, in update_state_fn\n        return ag_update_state(*args, **kwargs)\n    File \"/usr/local/lib/python3.10/dist-packages/keras/src/metrics/base_metric.py\", line 723, in update_state  **\n        matches = ag_fn(y_true, y_pred, **self._fn_kwargs)\n    File \"/usr/local/lib/python3.10/dist-packages/keras/src/metrics/accuracy_metrics.py\", line 459, in sparse_categorical_accuracy\n        matches = metrics_utils.sparse_categorical_matches(y_true, y_pred)\n    File \"/usr/local/lib/python3.10/dist-packages/keras/src/utils/metrics_utils.py\", line 961, in sparse_categorical_matches\n        y_true = tf.squeeze(y_true, [-1])\n\n    ValueError: Can not squeeze dim[1], expected a dimension of 1, got 10 for '{{node Squeeze}} = Squeeze[T=DT_FLOAT, squeeze_dims=[-1]](IteratorGetNext:1)' with input shapes: [?,10].\n",
          "traceback": [
            "\u001b[0;31m---------------------------------------------------------------------------\u001b[0m",
            "\u001b[0;31mValueError\u001b[0m                                Traceback (most recent call last)",
            "\u001b[0;32m<ipython-input-47-673822cfb131>\u001b[0m in \u001b[0;36m<cell line: 15>\u001b[0;34m()\u001b[0m\n\u001b[1;32m     13\u001b[0m \u001b[0mhistory\u001b[0m \u001b[0;34m=\u001b[0m \u001b[0mmodel\u001b[0m\u001b[0;34m.\u001b[0m\u001b[0mfit\u001b[0m\u001b[0;34m(\u001b[0m\u001b[0mX_train\u001b[0m\u001b[0;34m,\u001b[0m \u001b[0my_train\u001b[0m\u001b[0;34m,\u001b[0m \u001b[0mepochs\u001b[0m\u001b[0;34m=\u001b[0m\u001b[0;36m25\u001b[0m\u001b[0;34m,\u001b[0m \u001b[0mbatch_size\u001b[0m\u001b[0;34m=\u001b[0m\u001b[0;36m5\u001b[0m\u001b[0;34m,\u001b[0m \u001b[0mverbose\u001b[0m\u001b[0;34m=\u001b[0m\u001b[0;36m1\u001b[0m\u001b[0;34m,\u001b[0m \u001b[0mvalidation_split\u001b[0m\u001b[0;34m=\u001b[0m\u001b[0;36m0.2\u001b[0m\u001b[0;34m)\u001b[0m\u001b[0;34m\u001b[0m\u001b[0;34m\u001b[0m\u001b[0m\n\u001b[1;32m     14\u001b[0m \u001b[0;34m\u001b[0m\u001b[0m\n\u001b[0;32m---> 15\u001b[0;31m \u001b[0mtest_results\u001b[0m \u001b[0;34m=\u001b[0m \u001b[0mmodel\u001b[0m\u001b[0;34m.\u001b[0m\u001b[0mevaluate\u001b[0m\u001b[0;34m(\u001b[0m\u001b[0mX_test\u001b[0m\u001b[0;34m,\u001b[0m \u001b[0my_test_enc\u001b[0m\u001b[0;34m,\u001b[0m \u001b[0mverbose\u001b[0m\u001b[0;34m=\u001b[0m\u001b[0;36m1\u001b[0m\u001b[0;34m)\u001b[0m\u001b[0;34m\u001b[0m\u001b[0;34m\u001b[0m\u001b[0m\n\u001b[0m\u001b[1;32m     16\u001b[0m \u001b[0mprint\u001b[0m\u001b[0;34m(\u001b[0m\u001b[0;34mf'Test results - Loss: {test_results[0]} - Accuracy: {test_results[1]*100}%'\u001b[0m\u001b[0;34m)\u001b[0m\u001b[0;34m\u001b[0m\u001b[0;34m\u001b[0m\u001b[0m\n",
            "\u001b[0;32m/usr/local/lib/python3.10/dist-packages/keras/src/utils/traceback_utils.py\u001b[0m in \u001b[0;36merror_handler\u001b[0;34m(*args, **kwargs)\u001b[0m\n\u001b[1;32m     68\u001b[0m             \u001b[0;31m# To get the full stack trace, call:\u001b[0m\u001b[0;34m\u001b[0m\u001b[0;34m\u001b[0m\u001b[0m\n\u001b[1;32m     69\u001b[0m             \u001b[0;31m# `tf.debugging.disable_traceback_filtering()`\u001b[0m\u001b[0;34m\u001b[0m\u001b[0;34m\u001b[0m\u001b[0m\n\u001b[0;32m---> 70\u001b[0;31m             \u001b[0;32mraise\u001b[0m \u001b[0me\u001b[0m\u001b[0;34m.\u001b[0m\u001b[0mwith_traceback\u001b[0m\u001b[0;34m(\u001b[0m\u001b[0mfiltered_tb\u001b[0m\u001b[0;34m)\u001b[0m \u001b[0;32mfrom\u001b[0m \u001b[0;32mNone\u001b[0m\u001b[0;34m\u001b[0m\u001b[0;34m\u001b[0m\u001b[0m\n\u001b[0m\u001b[1;32m     71\u001b[0m         \u001b[0;32mfinally\u001b[0m\u001b[0;34m:\u001b[0m\u001b[0;34m\u001b[0m\u001b[0;34m\u001b[0m\u001b[0m\n\u001b[1;32m     72\u001b[0m             \u001b[0;32mdel\u001b[0m \u001b[0mfiltered_tb\u001b[0m\u001b[0;34m\u001b[0m\u001b[0;34m\u001b[0m\u001b[0m\n",
            "\u001b[0;32m/usr/local/lib/python3.10/dist-packages/keras/src/engine/training.py\u001b[0m in \u001b[0;36mtf__test_function\u001b[0;34m(iterator)\u001b[0m\n\u001b[1;32m     13\u001b[0m                 \u001b[0;32mtry\u001b[0m\u001b[0;34m:\u001b[0m\u001b[0;34m\u001b[0m\u001b[0;34m\u001b[0m\u001b[0m\n\u001b[1;32m     14\u001b[0m                     \u001b[0mdo_return\u001b[0m \u001b[0;34m=\u001b[0m \u001b[0;32mTrue\u001b[0m\u001b[0;34m\u001b[0m\u001b[0;34m\u001b[0m\u001b[0m\n\u001b[0;32m---> 15\u001b[0;31m                     \u001b[0mretval_\u001b[0m \u001b[0;34m=\u001b[0m \u001b[0mag__\u001b[0m\u001b[0;34m.\u001b[0m\u001b[0mconverted_call\u001b[0m\u001b[0;34m(\u001b[0m\u001b[0mag__\u001b[0m\u001b[0;34m.\u001b[0m\u001b[0mld\u001b[0m\u001b[0;34m(\u001b[0m\u001b[0mstep_function\u001b[0m\u001b[0;34m)\u001b[0m\u001b[0;34m,\u001b[0m \u001b[0;34m(\u001b[0m\u001b[0mag__\u001b[0m\u001b[0;34m.\u001b[0m\u001b[0mld\u001b[0m\u001b[0;34m(\u001b[0m\u001b[0mself\u001b[0m\u001b[0;34m)\u001b[0m\u001b[0;34m,\u001b[0m \u001b[0mag__\u001b[0m\u001b[0;34m.\u001b[0m\u001b[0mld\u001b[0m\u001b[0;34m(\u001b[0m\u001b[0miterator\u001b[0m\u001b[0;34m)\u001b[0m\u001b[0;34m)\u001b[0m\u001b[0;34m,\u001b[0m \u001b[0;32mNone\u001b[0m\u001b[0;34m,\u001b[0m \u001b[0mfscope\u001b[0m\u001b[0;34m)\u001b[0m\u001b[0;34m\u001b[0m\u001b[0;34m\u001b[0m\u001b[0m\n\u001b[0m\u001b[1;32m     16\u001b[0m                 \u001b[0;32mexcept\u001b[0m\u001b[0;34m:\u001b[0m\u001b[0;34m\u001b[0m\u001b[0;34m\u001b[0m\u001b[0m\n\u001b[1;32m     17\u001b[0m                     \u001b[0mdo_return\u001b[0m \u001b[0;34m=\u001b[0m \u001b[0;32mFalse\u001b[0m\u001b[0;34m\u001b[0m\u001b[0;34m\u001b[0m\u001b[0m\n",
            "\u001b[0;31mValueError\u001b[0m: in user code:\n\n    File \"/usr/local/lib/python3.10/dist-packages/keras/src/engine/training.py\", line 2066, in test_function  *\n        return step_function(self, iterator)\n    File \"/usr/local/lib/python3.10/dist-packages/keras/src/engine/training.py\", line 2049, in step_function  **\n        outputs = model.distribute_strategy.run(run_step, args=(data,))\n    File \"/usr/local/lib/python3.10/dist-packages/keras/src/engine/training.py\", line 2037, in run_step  **\n        outputs = model.test_step(data)\n    File \"/usr/local/lib/python3.10/dist-packages/keras/src/engine/training.py\", line 1920, in test_step\n        return self.compute_metrics(x, y, y_pred, sample_weight)\n    File \"/usr/local/lib/python3.10/dist-packages/keras/src/engine/training.py\", line 1249, in compute_metrics\n        self.compiled_metrics.update_state(y, y_pred, sample_weight)\n    File \"/usr/local/lib/python3.10/dist-packages/keras/src/engine/compile_utils.py\", line 620, in update_state\n        metric_obj.update_state(y_t, y_p, sample_weight=mask)\n    File \"/usr/local/lib/python3.10/dist-packages/keras/src/utils/metrics_utils.py\", line 77, in decorated\n        result = update_state_fn(*args, **kwargs)\n    File \"/usr/local/lib/python3.10/dist-packages/keras/src/metrics/base_metric.py\", line 140, in update_state_fn\n        return ag_update_state(*args, **kwargs)\n    File \"/usr/local/lib/python3.10/dist-packages/keras/src/metrics/base_metric.py\", line 723, in update_state  **\n        matches = ag_fn(y_true, y_pred, **self._fn_kwargs)\n    File \"/usr/local/lib/python3.10/dist-packages/keras/src/metrics/accuracy_metrics.py\", line 459, in sparse_categorical_accuracy\n        matches = metrics_utils.sparse_categorical_matches(y_true, y_pred)\n    File \"/usr/local/lib/python3.10/dist-packages/keras/src/utils/metrics_utils.py\", line 961, in sparse_categorical_matches\n        y_true = tf.squeeze(y_true, [-1])\n\n    ValueError: Can not squeeze dim[1], expected a dimension of 1, got 10 for '{{node Squeeze}} = Squeeze[T=DT_FLOAT, squeeze_dims=[-1]](IteratorGetNext:1)' with input shapes: [?,10].\n"
          ]
        }
      ]
    },
    {
      "cell_type": "code",
      "source": [],
      "metadata": {
        "id": "HRt_CUe3iXGY"
      },
      "execution_count": null,
      "outputs": []
    }
  ]
}